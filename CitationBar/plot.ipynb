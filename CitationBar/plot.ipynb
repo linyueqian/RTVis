{
 "cells": [
  {
   "cell_type": "code",
   "execution_count": 2,
   "metadata": {},
   "outputs": [
    {
     "data": {
      "application/vnd.plotly.v1+json": {
       "config": {
        "plotlyServerURL": "https://plot.ly"
       },
       "data": [
        {
         "marker": {
          "color": "rgb(55, 83, 109)"
         },
         "name": "Rest of world",
         "type": "bar",
         "x": [
          1995,
          1996,
          1997,
          1998,
          1999,
          2000,
          2001,
          2002,
          2003,
          2004,
          2005,
          2006,
          2007,
          2008,
          2009,
          2010,
          2011,
          2012
         ],
         "y": [
          219,
          146,
          112,
          127,
          124,
          180,
          236,
          207,
          236,
          263,
          350,
          430,
          474,
          526,
          488,
          537,
          500,
          439
         ]
        },
        {
         "marker": {
          "color": "rgb(26, 118, 255)"
         },
         "name": "China",
         "type": "bar",
         "x": [
          1995,
          1996,
          1997,
          1998,
          1999,
          2000,
          2001,
          2002,
          2003,
          2004,
          2005,
          2006,
          2007,
          2008,
          2009,
          2010,
          2011,
          2012
         ],
         "y": [
          16,
          13,
          10,
          11,
          28,
          37,
          43,
          55,
          56,
          88,
          105,
          156,
          270,
          299,
          340,
          403,
          549,
          499
         ]
        }
       ],
       "layout": {
        "bargap": 0.15,
        "bargroupgap": 0.1,
        "barmode": "group",
        "legend": {
         "bgcolor": "rgba(255, 255, 255, 0)",
         "bordercolor": "rgba(255, 255, 255, 0)",
         "x": 0,
         "y": 1
        },
        "template": {
         "data": {
          "bar": [
           {
            "error_x": {
             "color": "#2a3f5f"
            },
            "error_y": {
             "color": "#2a3f5f"
            },
            "marker": {
             "line": {
              "color": "#E5ECF6",
              "width": 0.5
             },
             "pattern": {
              "fillmode": "overlay",
              "size": 10,
              "solidity": 0.2
             }
            },
            "type": "bar"
           }
          ],
          "barpolar": [
           {
            "marker": {
             "line": {
              "color": "#E5ECF6",
              "width": 0.5
             },
             "pattern": {
              "fillmode": "overlay",
              "size": 10,
              "solidity": 0.2
             }
            },
            "type": "barpolar"
           }
          ],
          "carpet": [
           {
            "aaxis": {
             "endlinecolor": "#2a3f5f",
             "gridcolor": "white",
             "linecolor": "white",
             "minorgridcolor": "white",
             "startlinecolor": "#2a3f5f"
            },
            "baxis": {
             "endlinecolor": "#2a3f5f",
             "gridcolor": "white",
             "linecolor": "white",
             "minorgridcolor": "white",
             "startlinecolor": "#2a3f5f"
            },
            "type": "carpet"
           }
          ],
          "choropleth": [
           {
            "colorbar": {
             "outlinewidth": 0,
             "ticks": ""
            },
            "type": "choropleth"
           }
          ],
          "contour": [
           {
            "colorbar": {
             "outlinewidth": 0,
             "ticks": ""
            },
            "colorscale": [
             [
              0,
              "#0d0887"
             ],
             [
              0.1111111111111111,
              "#46039f"
             ],
             [
              0.2222222222222222,
              "#7201a8"
             ],
             [
              0.3333333333333333,
              "#9c179e"
             ],
             [
              0.4444444444444444,
              "#bd3786"
             ],
             [
              0.5555555555555556,
              "#d8576b"
             ],
             [
              0.6666666666666666,
              "#ed7953"
             ],
             [
              0.7777777777777778,
              "#fb9f3a"
             ],
             [
              0.8888888888888888,
              "#fdca26"
             ],
             [
              1,
              "#f0f921"
             ]
            ],
            "type": "contour"
           }
          ],
          "contourcarpet": [
           {
            "colorbar": {
             "outlinewidth": 0,
             "ticks": ""
            },
            "type": "contourcarpet"
           }
          ],
          "heatmap": [
           {
            "colorbar": {
             "outlinewidth": 0,
             "ticks": ""
            },
            "colorscale": [
             [
              0,
              "#0d0887"
             ],
             [
              0.1111111111111111,
              "#46039f"
             ],
             [
              0.2222222222222222,
              "#7201a8"
             ],
             [
              0.3333333333333333,
              "#9c179e"
             ],
             [
              0.4444444444444444,
              "#bd3786"
             ],
             [
              0.5555555555555556,
              "#d8576b"
             ],
             [
              0.6666666666666666,
              "#ed7953"
             ],
             [
              0.7777777777777778,
              "#fb9f3a"
             ],
             [
              0.8888888888888888,
              "#fdca26"
             ],
             [
              1,
              "#f0f921"
             ]
            ],
            "type": "heatmap"
           }
          ],
          "heatmapgl": [
           {
            "colorbar": {
             "outlinewidth": 0,
             "ticks": ""
            },
            "colorscale": [
             [
              0,
              "#0d0887"
             ],
             [
              0.1111111111111111,
              "#46039f"
             ],
             [
              0.2222222222222222,
              "#7201a8"
             ],
             [
              0.3333333333333333,
              "#9c179e"
             ],
             [
              0.4444444444444444,
              "#bd3786"
             ],
             [
              0.5555555555555556,
              "#d8576b"
             ],
             [
              0.6666666666666666,
              "#ed7953"
             ],
             [
              0.7777777777777778,
              "#fb9f3a"
             ],
             [
              0.8888888888888888,
              "#fdca26"
             ],
             [
              1,
              "#f0f921"
             ]
            ],
            "type": "heatmapgl"
           }
          ],
          "histogram": [
           {
            "marker": {
             "pattern": {
              "fillmode": "overlay",
              "size": 10,
              "solidity": 0.2
             }
            },
            "type": "histogram"
           }
          ],
          "histogram2d": [
           {
            "colorbar": {
             "outlinewidth": 0,
             "ticks": ""
            },
            "colorscale": [
             [
              0,
              "#0d0887"
             ],
             [
              0.1111111111111111,
              "#46039f"
             ],
             [
              0.2222222222222222,
              "#7201a8"
             ],
             [
              0.3333333333333333,
              "#9c179e"
             ],
             [
              0.4444444444444444,
              "#bd3786"
             ],
             [
              0.5555555555555556,
              "#d8576b"
             ],
             [
              0.6666666666666666,
              "#ed7953"
             ],
             [
              0.7777777777777778,
              "#fb9f3a"
             ],
             [
              0.8888888888888888,
              "#fdca26"
             ],
             [
              1,
              "#f0f921"
             ]
            ],
            "type": "histogram2d"
           }
          ],
          "histogram2dcontour": [
           {
            "colorbar": {
             "outlinewidth": 0,
             "ticks": ""
            },
            "colorscale": [
             [
              0,
              "#0d0887"
             ],
             [
              0.1111111111111111,
              "#46039f"
             ],
             [
              0.2222222222222222,
              "#7201a8"
             ],
             [
              0.3333333333333333,
              "#9c179e"
             ],
             [
              0.4444444444444444,
              "#bd3786"
             ],
             [
              0.5555555555555556,
              "#d8576b"
             ],
             [
              0.6666666666666666,
              "#ed7953"
             ],
             [
              0.7777777777777778,
              "#fb9f3a"
             ],
             [
              0.8888888888888888,
              "#fdca26"
             ],
             [
              1,
              "#f0f921"
             ]
            ],
            "type": "histogram2dcontour"
           }
          ],
          "mesh3d": [
           {
            "colorbar": {
             "outlinewidth": 0,
             "ticks": ""
            },
            "type": "mesh3d"
           }
          ],
          "parcoords": [
           {
            "line": {
             "colorbar": {
              "outlinewidth": 0,
              "ticks": ""
             }
            },
            "type": "parcoords"
           }
          ],
          "pie": [
           {
            "automargin": true,
            "type": "pie"
           }
          ],
          "scatter": [
           {
            "fillpattern": {
             "fillmode": "overlay",
             "size": 10,
             "solidity": 0.2
            },
            "type": "scatter"
           }
          ],
          "scatter3d": [
           {
            "line": {
             "colorbar": {
              "outlinewidth": 0,
              "ticks": ""
             }
            },
            "marker": {
             "colorbar": {
              "outlinewidth": 0,
              "ticks": ""
             }
            },
            "type": "scatter3d"
           }
          ],
          "scattercarpet": [
           {
            "marker": {
             "colorbar": {
              "outlinewidth": 0,
              "ticks": ""
             }
            },
            "type": "scattercarpet"
           }
          ],
          "scattergeo": [
           {
            "marker": {
             "colorbar": {
              "outlinewidth": 0,
              "ticks": ""
             }
            },
            "type": "scattergeo"
           }
          ],
          "scattergl": [
           {
            "marker": {
             "colorbar": {
              "outlinewidth": 0,
              "ticks": ""
             }
            },
            "type": "scattergl"
           }
          ],
          "scattermapbox": [
           {
            "marker": {
             "colorbar": {
              "outlinewidth": 0,
              "ticks": ""
             }
            },
            "type": "scattermapbox"
           }
          ],
          "scatterpolar": [
           {
            "marker": {
             "colorbar": {
              "outlinewidth": 0,
              "ticks": ""
             }
            },
            "type": "scatterpolar"
           }
          ],
          "scatterpolargl": [
           {
            "marker": {
             "colorbar": {
              "outlinewidth": 0,
              "ticks": ""
             }
            },
            "type": "scatterpolargl"
           }
          ],
          "scatterternary": [
           {
            "marker": {
             "colorbar": {
              "outlinewidth": 0,
              "ticks": ""
             }
            },
            "type": "scatterternary"
           }
          ],
          "surface": [
           {
            "colorbar": {
             "outlinewidth": 0,
             "ticks": ""
            },
            "colorscale": [
             [
              0,
              "#0d0887"
             ],
             [
              0.1111111111111111,
              "#46039f"
             ],
             [
              0.2222222222222222,
              "#7201a8"
             ],
             [
              0.3333333333333333,
              "#9c179e"
             ],
             [
              0.4444444444444444,
              "#bd3786"
             ],
             [
              0.5555555555555556,
              "#d8576b"
             ],
             [
              0.6666666666666666,
              "#ed7953"
             ],
             [
              0.7777777777777778,
              "#fb9f3a"
             ],
             [
              0.8888888888888888,
              "#fdca26"
             ],
             [
              1,
              "#f0f921"
             ]
            ],
            "type": "surface"
           }
          ],
          "table": [
           {
            "cells": {
             "fill": {
              "color": "#EBF0F8"
             },
             "line": {
              "color": "white"
             }
            },
            "header": {
             "fill": {
              "color": "#C8D4E3"
             },
             "line": {
              "color": "white"
             }
            },
            "type": "table"
           }
          ]
         },
         "layout": {
          "annotationdefaults": {
           "arrowcolor": "#2a3f5f",
           "arrowhead": 0,
           "arrowwidth": 1
          },
          "autotypenumbers": "strict",
          "coloraxis": {
           "colorbar": {
            "outlinewidth": 0,
            "ticks": ""
           }
          },
          "colorscale": {
           "diverging": [
            [
             0,
             "#8e0152"
            ],
            [
             0.1,
             "#c51b7d"
            ],
            [
             0.2,
             "#de77ae"
            ],
            [
             0.3,
             "#f1b6da"
            ],
            [
             0.4,
             "#fde0ef"
            ],
            [
             0.5,
             "#f7f7f7"
            ],
            [
             0.6,
             "#e6f5d0"
            ],
            [
             0.7,
             "#b8e186"
            ],
            [
             0.8,
             "#7fbc41"
            ],
            [
             0.9,
             "#4d9221"
            ],
            [
             1,
             "#276419"
            ]
           ],
           "sequential": [
            [
             0,
             "#0d0887"
            ],
            [
             0.1111111111111111,
             "#46039f"
            ],
            [
             0.2222222222222222,
             "#7201a8"
            ],
            [
             0.3333333333333333,
             "#9c179e"
            ],
            [
             0.4444444444444444,
             "#bd3786"
            ],
            [
             0.5555555555555556,
             "#d8576b"
            ],
            [
             0.6666666666666666,
             "#ed7953"
            ],
            [
             0.7777777777777778,
             "#fb9f3a"
            ],
            [
             0.8888888888888888,
             "#fdca26"
            ],
            [
             1,
             "#f0f921"
            ]
           ],
           "sequentialminus": [
            [
             0,
             "#0d0887"
            ],
            [
             0.1111111111111111,
             "#46039f"
            ],
            [
             0.2222222222222222,
             "#7201a8"
            ],
            [
             0.3333333333333333,
             "#9c179e"
            ],
            [
             0.4444444444444444,
             "#bd3786"
            ],
            [
             0.5555555555555556,
             "#d8576b"
            ],
            [
             0.6666666666666666,
             "#ed7953"
            ],
            [
             0.7777777777777778,
             "#fb9f3a"
            ],
            [
             0.8888888888888888,
             "#fdca26"
            ],
            [
             1,
             "#f0f921"
            ]
           ]
          },
          "colorway": [
           "#636efa",
           "#EF553B",
           "#00cc96",
           "#ab63fa",
           "#FFA15A",
           "#19d3f3",
           "#FF6692",
           "#B6E880",
           "#FF97FF",
           "#FECB52"
          ],
          "font": {
           "color": "#2a3f5f"
          },
          "geo": {
           "bgcolor": "white",
           "lakecolor": "white",
           "landcolor": "#E5ECF6",
           "showlakes": true,
           "showland": true,
           "subunitcolor": "white"
          },
          "hoverlabel": {
           "align": "left"
          },
          "hovermode": "closest",
          "mapbox": {
           "style": "light"
          },
          "paper_bgcolor": "white",
          "plot_bgcolor": "#E5ECF6",
          "polar": {
           "angularaxis": {
            "gridcolor": "white",
            "linecolor": "white",
            "ticks": ""
           },
           "bgcolor": "#E5ECF6",
           "radialaxis": {
            "gridcolor": "white",
            "linecolor": "white",
            "ticks": ""
           }
          },
          "scene": {
           "xaxis": {
            "backgroundcolor": "#E5ECF6",
            "gridcolor": "white",
            "gridwidth": 2,
            "linecolor": "white",
            "showbackground": true,
            "ticks": "",
            "zerolinecolor": "white"
           },
           "yaxis": {
            "backgroundcolor": "#E5ECF6",
            "gridcolor": "white",
            "gridwidth": 2,
            "linecolor": "white",
            "showbackground": true,
            "ticks": "",
            "zerolinecolor": "white"
           },
           "zaxis": {
            "backgroundcolor": "#E5ECF6",
            "gridcolor": "white",
            "gridwidth": 2,
            "linecolor": "white",
            "showbackground": true,
            "ticks": "",
            "zerolinecolor": "white"
           }
          },
          "shapedefaults": {
           "line": {
            "color": "#2a3f5f"
           }
          },
          "ternary": {
           "aaxis": {
            "gridcolor": "white",
            "linecolor": "white",
            "ticks": ""
           },
           "baxis": {
            "gridcolor": "white",
            "linecolor": "white",
            "ticks": ""
           },
           "bgcolor": "#E5ECF6",
           "caxis": {
            "gridcolor": "white",
            "linecolor": "white",
            "ticks": ""
           }
          },
          "title": {
           "x": 0.05
          },
          "xaxis": {
           "automargin": true,
           "gridcolor": "white",
           "linecolor": "white",
           "ticks": "",
           "title": {
            "standoff": 15
           },
           "zerolinecolor": "white",
           "zerolinewidth": 2
          },
          "yaxis": {
           "automargin": true,
           "gridcolor": "white",
           "linecolor": "white",
           "ticks": "",
           "title": {
            "standoff": 15
           },
           "zerolinecolor": "white",
           "zerolinewidth": 2
          }
         }
        },
        "title": {
         "text": "US Export of Plastic Scrap"
        },
        "xaxis": {
         "tickfont": {
          "size": 14
         }
        },
        "yaxis": {
         "tickfont": {
          "size": 14
         },
         "title": {
          "font": {
           "size": 16
          },
          "text": "USD (millions)"
         }
        }
       }
      }
     },
     "metadata": {},
     "output_type": "display_data"
    }
   ],
   "source": [
    "import plotly.graph_objects as go\n",
    "\n",
    "years = [1995, 1996, 1997, 1998, 1999, 2000, 2001, 2002, 2003,\n",
    "         2004, 2005, 2006, 2007, 2008, 2009, 2010, 2011, 2012]\n",
    "\n",
    "fig = go.Figure()\n",
    "fig.add_trace(go.Bar(x=years,\n",
    "                y=[219, 146, 112, 127, 124, 180, 236, 207, 236, 263,\n",
    "                   350, 430, 474, 526, 488, 537, 500, 439],\n",
    "                name='Rest of world',\n",
    "                marker_color='rgb(55, 83, 109)'\n",
    "                ))\n",
    "fig.add_trace(go.Bar(x=years,\n",
    "                y=[16, 13, 10, 11, 28, 37, 43, 55, 56, 88, 105, 156, 270,\n",
    "                   299, 340, 403, 549, 499],\n",
    "                name='China',\n",
    "                marker_color='rgb(26, 118, 255)'\n",
    "                ))\n",
    "\n",
    "fig.update_layout(\n",
    "    title='US Export of Plastic Scrap',\n",
    "    xaxis_tickfont_size=14,\n",
    "    yaxis=dict(\n",
    "        title='USD (millions)',\n",
    "        titlefont_size=16,\n",
    "        tickfont_size=14,\n",
    "    ),\n",
    "    legend=dict(\n",
    "        x=0,\n",
    "        y=1.0,\n",
    "        bgcolor='rgba(255, 255, 255, 0)',\n",
    "        bordercolor='rgba(255, 255, 255, 0)'\n",
    "    ),\n",
    "    barmode='group',\n",
    "    bargap=0.15, # gap between bars of adjacent location coordinates.\n",
    "    bargroupgap=0.1 # gap between bars of the same location coordinate.\n",
    ")\n",
    "fig.show()"
   ]
  },
  {
   "cell_type": "code",
   "execution_count": 5,
   "metadata": {},
   "outputs": [
    {
     "data": {
      "text/html": [
       "<div>\n",
       "<style scoped>\n",
       "    .dataframe tbody tr th:only-of-type {\n",
       "        vertical-align: middle;\n",
       "    }\n",
       "\n",
       "    .dataframe tbody tr th {\n",
       "        vertical-align: top;\n",
       "    }\n",
       "\n",
       "    .dataframe thead th {\n",
       "        text-align: right;\n",
       "    }\n",
       "</style>\n",
       "<table border=\"1\" class=\"dataframe\">\n",
       "  <thead>\n",
       "    <tr style=\"text-align: right;\">\n",
       "      <th></th>\n",
       "      <th>Title</th>\n",
       "      <th>Author Name</th>\n",
       "      <th>Date</th>\n",
       "      <th>Abstract</th>\n",
       "      <th>Paper Citation Count</th>\n",
       "      <th>Venue</th>\n",
       "      <th>Fields Of Study</th>\n",
       "      <th>Counts</th>\n",
       "      <th>rank</th>\n",
       "    </tr>\n",
       "  </thead>\n",
       "  <tbody>\n",
       "    <tr>\n",
       "      <th>0</th>\n",
       "      <td>wav2vec 2.0: A Framework for Self-Supervised L...</td>\n",
       "      <td>Alexei Baevski, Henry Zhou, Abdel-rahman Moham...</td>\n",
       "      <td>2020-06-20</td>\n",
       "      <td>We show for the first time that learning power...</td>\n",
       "      <td>1633</td>\n",
       "      <td>Neural Information Processing Systems</td>\n",
       "      <td>['Computer Science', 'Engineering']</td>\n",
       "      <td>8</td>\n",
       "      <td>170</td>\n",
       "    </tr>\n",
       "    <tr>\n",
       "      <th>1</th>\n",
       "      <td>Conformer: Convolution-augmented Transformer f...</td>\n",
       "      <td>Anmol Gulati, James Qin, C. Chiu, Niki Parmar,...</td>\n",
       "      <td>2020-05-16</td>\n",
       "      <td>Recently Transformer and Convolution neural ne...</td>\n",
       "      <td>1099</td>\n",
       "      <td>Interspeech</td>\n",
       "      <td>['Computer Science', 'Engineering']</td>\n",
       "      <td>19</td>\n",
       "      <td>135</td>\n",
       "    </tr>\n",
       "    <tr>\n",
       "      <th>2</th>\n",
       "      <td>HiFi-GAN: Generative Adversarial Networks for ...</td>\n",
       "      <td>Jungil Kong, Jaehyeon Kim, Jaekyoung Bae,</td>\n",
       "      <td>2020-10-12</td>\n",
       "      <td>Several recent work on speech synthesis have e...</td>\n",
       "      <td>505</td>\n",
       "      <td>Neural Information Processing Systems</td>\n",
       "      <td>['Computer Science', 'Engineering']</td>\n",
       "      <td>27</td>\n",
       "      <td>284</td>\n",
       "    </tr>\n",
       "    <tr>\n",
       "      <th>3</th>\n",
       "      <td>FastSpeech 2: Fast and High-Quality End-to-End...</td>\n",
       "      <td>Yi Ren, Chenxu Hu, Xu Tan, Tao Qin, Sheng Zhao...</td>\n",
       "      <td>2020-06-08</td>\n",
       "      <td>Advanced text to speech (TTS) models such as F...</td>\n",
       "      <td>514</td>\n",
       "      <td>International Conference on Learning Represent...</td>\n",
       "      <td>['Computer Science', 'Engineering']</td>\n",
       "      <td>20</td>\n",
       "      <td>158</td>\n",
       "    </tr>\n",
       "    <tr>\n",
       "      <th>4</th>\n",
       "      <td>The airborne lifetime of small speech droplets...</td>\n",
       "      <td>V. Stadnytskyi, C. Bax, A. Bax, P. Anfinrud,</td>\n",
       "      <td>2020-05-13</td>\n",
       "      <td>Speech droplets generated by asymptomatic carr...</td>\n",
       "      <td>790</td>\n",
       "      <td>Proceedings of the National Academy of Sciences</td>\n",
       "      <td>['Medicine', 'Materials Science']</td>\n",
       "      <td>26</td>\n",
       "      <td>132</td>\n",
       "    </tr>\n",
       "    <tr>\n",
       "      <th>...</th>\n",
       "      <td>...</td>\n",
       "      <td>...</td>\n",
       "      <td>...</td>\n",
       "      <td>...</td>\n",
       "      <td>...</td>\n",
       "      <td>...</td>\n",
       "      <td>...</td>\n",
       "      <td>...</td>\n",
       "      <td>...</td>\n",
       "    </tr>\n",
       "    <tr>\n",
       "      <th>17471</th>\n",
       "      <td>'It depends on who I'm with': How young people...</td>\n",
       "      <td>Anna Ekstr枚m, Olof Sandgren, B. Sahl茅n, Christ...</td>\n",
       "      <td>2023-01-26</td>\n",
       "      <td>BACKGROUND\\nThe risks of developmental languag...</td>\n",
       "      <td>0</td>\n",
       "      <td>International journal of language and communic...</td>\n",
       "      <td>['Medicine']</td>\n",
       "      <td>42</td>\n",
       "      <td>1111</td>\n",
       "    </tr>\n",
       "    <tr>\n",
       "      <th>17472</th>\n",
       "      <td>Stakeholder views on cognitive communication a...</td>\n",
       "      <td>S. Howell, J. Hoskin, Debbie Eaton, M. Hollowa...</td>\n",
       "      <td>2023-01-03</td>\n",
       "      <td>BACKGROUND\\nCognitive communication disorder (...</td>\n",
       "      <td>0</td>\n",
       "      <td>International journal of language and communic...</td>\n",
       "      <td>['Medicine']</td>\n",
       "      <td>38</td>\n",
       "      <td>1088</td>\n",
       "    </tr>\n",
       "    <tr>\n",
       "      <th>17473</th>\n",
       "      <td>Associations between responsive parental behav...</td>\n",
       "      <td>P. Levickis, P. Eadie, F. Mensah, C. McKean, E...</td>\n",
       "      <td>2023-02-01</td>\n",
       "      <td>BACKGROUND\\nA wealth of evidence supports the ...</td>\n",
       "      <td>0</td>\n",
       "      <td>International journal of language and communic...</td>\n",
       "      <td>['Medicine']</td>\n",
       "      <td>178</td>\n",
       "      <td>1117</td>\n",
       "    </tr>\n",
       "    <tr>\n",
       "      <th>17474</th>\n",
       "      <td>Assessing parent interaction with deaf infants...</td>\n",
       "      <td>Martina Curtin, G. Morgan, M. Cruice, R. Herman,</td>\n",
       "      <td>2023-01-28</td>\n",
       "      <td>BACKGROUND\\nBetween 90% and 95% of deaf childr...</td>\n",
       "      <td>0</td>\n",
       "      <td>International journal of language and communic...</td>\n",
       "      <td>['Medicine']</td>\n",
       "      <td>20</td>\n",
       "      <td>1113</td>\n",
       "    </tr>\n",
       "    <tr>\n",
       "      <th>17475</th>\n",
       "      <td>ASTMH 鈥?A Means to What End?The Nexus of Tropi...</td>\n",
       "      <td>Daniel G Bausch,</td>\n",
       "      <td>2023-01-16</td>\n",
       "      <td>Today I want to talk about the nexus of our fi...</td>\n",
       "      <td>0</td>\n",
       "      <td>American Journal of Tropical Medicine and Hygiene</td>\n",
       "      <td>['Medicine']</td>\n",
       "      <td>33</td>\n",
       "      <td>1101</td>\n",
       "    </tr>\n",
       "  </tbody>\n",
       "</table>\n",
       "<p>17476 rows × 9 columns</p>\n",
       "</div>"
      ],
      "text/plain": [
       "                                                   Title  \\\n",
       "0      wav2vec 2.0: A Framework for Self-Supervised L...   \n",
       "1      Conformer: Convolution-augmented Transformer f...   \n",
       "2      HiFi-GAN: Generative Adversarial Networks for ...   \n",
       "3      FastSpeech 2: Fast and High-Quality End-to-End...   \n",
       "4      The airborne lifetime of small speech droplets...   \n",
       "...                                                  ...   \n",
       "17471  'It depends on who I'm with': How young people...   \n",
       "17472  Stakeholder views on cognitive communication a...   \n",
       "17473  Associations between responsive parental behav...   \n",
       "17474  Assessing parent interaction with deaf infants...   \n",
       "17475  ASTMH 鈥?A Means to What End?The Nexus of Tropi...   \n",
       "\n",
       "                                             Author Name        Date  \\\n",
       "0      Alexei Baevski, Henry Zhou, Abdel-rahman Moham...  2020-06-20   \n",
       "1      Anmol Gulati, James Qin, C. Chiu, Niki Parmar,...  2020-05-16   \n",
       "2              Jungil Kong, Jaehyeon Kim, Jaekyoung Bae,  2020-10-12   \n",
       "3      Yi Ren, Chenxu Hu, Xu Tan, Tao Qin, Sheng Zhao...  2020-06-08   \n",
       "4           V. Stadnytskyi, C. Bax, A. Bax, P. Anfinrud,  2020-05-13   \n",
       "...                                                  ...         ...   \n",
       "17471  Anna Ekstr枚m, Olof Sandgren, B. Sahl茅n, Christ...  2023-01-26   \n",
       "17472  S. Howell, J. Hoskin, Debbie Eaton, M. Hollowa...  2023-01-03   \n",
       "17473  P. Levickis, P. Eadie, F. Mensah, C. McKean, E...  2023-02-01   \n",
       "17474   Martina Curtin, G. Morgan, M. Cruice, R. Herman,  2023-01-28   \n",
       "17475                                   Daniel G Bausch,  2023-01-16   \n",
       "\n",
       "                                                Abstract Paper Citation Count  \\\n",
       "0      We show for the first time that learning power...                 1633   \n",
       "1      Recently Transformer and Convolution neural ne...                 1099   \n",
       "2      Several recent work on speech synthesis have e...                  505   \n",
       "3      Advanced text to speech (TTS) models such as F...                  514   \n",
       "4      Speech droplets generated by asymptomatic carr...                  790   \n",
       "...                                                  ...                  ...   \n",
       "17471  BACKGROUND\\nThe risks of developmental languag...                    0   \n",
       "17472  BACKGROUND\\nCognitive communication disorder (...                    0   \n",
       "17473  BACKGROUND\\nA wealth of evidence supports the ...                    0   \n",
       "17474  BACKGROUND\\nBetween 90% and 95% of deaf childr...                    0   \n",
       "17475  Today I want to talk about the nexus of our fi...                    0   \n",
       "\n",
       "                                                   Venue  \\\n",
       "0                  Neural Information Processing Systems   \n",
       "1                                            Interspeech   \n",
       "2                  Neural Information Processing Systems   \n",
       "3      International Conference on Learning Represent...   \n",
       "4        Proceedings of the National Academy of Sciences   \n",
       "...                                                  ...   \n",
       "17471  International journal of language and communic...   \n",
       "17472  International journal of language and communic...   \n",
       "17473  International journal of language and communic...   \n",
       "17474  International journal of language and communic...   \n",
       "17475  American Journal of Tropical Medicine and Hygiene   \n",
       "\n",
       "                           Fields Of Study  Counts  rank  \n",
       "0      ['Computer Science', 'Engineering']       8   170  \n",
       "1      ['Computer Science', 'Engineering']      19   135  \n",
       "2      ['Computer Science', 'Engineering']      27   284  \n",
       "3      ['Computer Science', 'Engineering']      20   158  \n",
       "4        ['Medicine', 'Materials Science']      26   132  \n",
       "...                                    ...     ...   ...  \n",
       "17471                         ['Medicine']      42  1111  \n",
       "17472                         ['Medicine']      38  1088  \n",
       "17473                         ['Medicine']     178  1117  \n",
       "17474                         ['Medicine']      20  1113  \n",
       "17475                         ['Medicine']      33  1101  \n",
       "\n",
       "[17476 rows x 9 columns]"
      ]
     },
     "execution_count": 5,
     "metadata": {},
     "output_type": "execute_result"
    }
   ],
   "source": [
    "import pandas as pd\n",
    "df = pd.read_excel('../demo_dataset_new.xlsx')\n",
    "df"
   ]
  },
  {
   "cell_type": "code",
   "execution_count": 21,
   "metadata": {},
   "outputs": [
    {
     "data": {
      "text/plain": [
       "0"
      ]
     },
     "execution_count": 21,
     "metadata": {},
     "output_type": "execute_result"
    }
   ],
   "source": [
    "count = 0\n",
    "for i in range(17475):\n",
    "    if (df['Venue'][i] == \"\"):\n",
    "        count += 1\n",
    "count"
   ]
  },
  {
   "cell_type": "code",
   "execution_count": 30,
   "metadata": {},
   "outputs": [
    {
     "data": {
      "text/html": [
       "<div>\n",
       "<style scoped>\n",
       "    .dataframe tbody tr th:only-of-type {\n",
       "        vertical-align: middle;\n",
       "    }\n",
       "\n",
       "    .dataframe tbody tr th {\n",
       "        vertical-align: top;\n",
       "    }\n",
       "\n",
       "    .dataframe thead th {\n",
       "        text-align: right;\n",
       "    }\n",
       "</style>\n",
       "<table border=\"1\" class=\"dataframe\">\n",
       "  <thead>\n",
       "    <tr style=\"text-align: right;\">\n",
       "      <th></th>\n",
       "      <th>Title</th>\n",
       "      <th>Author Name</th>\n",
       "      <th>Abstract</th>\n",
       "      <th>Paper Citation Count</th>\n",
       "      <th>Venue</th>\n",
       "      <th>Fields Of Study</th>\n",
       "      <th>Counts</th>\n",
       "      <th>rank</th>\n",
       "    </tr>\n",
       "  </thead>\n",
       "  <tbody>\n",
       "    <tr>\n",
       "      <th>0</th>\n",
       "      <td>wav2vec 2.0: A Framework for Self-Supervised L...</td>\n",
       "      <td>Alexei Baevski, Henry Zhou, Abdel-rahman Moham...</td>\n",
       "      <td>We show for the first time that learning power...</td>\n",
       "      <td>1633</td>\n",
       "      <td>Neural Information Processing Systems</td>\n",
       "      <td>['Computer Science', 'Engineering']</td>\n",
       "      <td>8</td>\n",
       "      <td>170</td>\n",
       "    </tr>\n",
       "    <tr>\n",
       "      <th>1</th>\n",
       "      <td>Conformer: Convolution-augmented Transformer f...</td>\n",
       "      <td>Anmol Gulati, James Qin, C. Chiu, Niki Parmar,...</td>\n",
       "      <td>Recently Transformer and Convolution neural ne...</td>\n",
       "      <td>1099</td>\n",
       "      <td>Interspeech</td>\n",
       "      <td>['Computer Science', 'Engineering']</td>\n",
       "      <td>19</td>\n",
       "      <td>135</td>\n",
       "    </tr>\n",
       "    <tr>\n",
       "      <th>2</th>\n",
       "      <td>HiFi-GAN: Generative Adversarial Networks for ...</td>\n",
       "      <td>Jungil Kong, Jaehyeon Kim, Jaekyoung Bae,</td>\n",
       "      <td>Several recent work on speech synthesis have e...</td>\n",
       "      <td>505</td>\n",
       "      <td>Neural Information Processing Systems</td>\n",
       "      <td>['Computer Science', 'Engineering']</td>\n",
       "      <td>27</td>\n",
       "      <td>284</td>\n",
       "    </tr>\n",
       "    <tr>\n",
       "      <th>3</th>\n",
       "      <td>FastSpeech 2: Fast and High-Quality End-to-End...</td>\n",
       "      <td>Yi Ren, Chenxu Hu, Xu Tan, Tao Qin, Sheng Zhao...</td>\n",
       "      <td>Advanced text to speech (TTS) models such as F...</td>\n",
       "      <td>514</td>\n",
       "      <td>International Conference on Learning Represent...</td>\n",
       "      <td>['Computer Science', 'Engineering']</td>\n",
       "      <td>20</td>\n",
       "      <td>158</td>\n",
       "    </tr>\n",
       "    <tr>\n",
       "      <th>4</th>\n",
       "      <td>The airborne lifetime of small speech droplets...</td>\n",
       "      <td>V. Stadnytskyi, C. Bax, A. Bax, P. Anfinrud,</td>\n",
       "      <td>Speech droplets generated by asymptomatic carr...</td>\n",
       "      <td>790</td>\n",
       "      <td>Proceedings of the National Academy of Sciences</td>\n",
       "      <td>['Medicine', 'Materials Science']</td>\n",
       "      <td>26</td>\n",
       "      <td>132</td>\n",
       "    </tr>\n",
       "    <tr>\n",
       "      <th>...</th>\n",
       "      <td>...</td>\n",
       "      <td>...</td>\n",
       "      <td>...</td>\n",
       "      <td>...</td>\n",
       "      <td>...</td>\n",
       "      <td>...</td>\n",
       "      <td>...</td>\n",
       "      <td>...</td>\n",
       "    </tr>\n",
       "    <tr>\n",
       "      <th>17471</th>\n",
       "      <td>'It depends on who I'm with': How young people...</td>\n",
       "      <td>Anna Ekstr枚m, Olof Sandgren, B. Sahl茅n, Christ...</td>\n",
       "      <td>BACKGROUND\\nThe risks of developmental languag...</td>\n",
       "      <td>0</td>\n",
       "      <td>International journal of language and communic...</td>\n",
       "      <td>['Medicine']</td>\n",
       "      <td>42</td>\n",
       "      <td>1111</td>\n",
       "    </tr>\n",
       "    <tr>\n",
       "      <th>17472</th>\n",
       "      <td>Stakeholder views on cognitive communication a...</td>\n",
       "      <td>S. Howell, J. Hoskin, Debbie Eaton, M. Hollowa...</td>\n",
       "      <td>BACKGROUND\\nCognitive communication disorder (...</td>\n",
       "      <td>0</td>\n",
       "      <td>International journal of language and communic...</td>\n",
       "      <td>['Medicine']</td>\n",
       "      <td>38</td>\n",
       "      <td>1088</td>\n",
       "    </tr>\n",
       "    <tr>\n",
       "      <th>17473</th>\n",
       "      <td>Associations between responsive parental behav...</td>\n",
       "      <td>P. Levickis, P. Eadie, F. Mensah, C. McKean, E...</td>\n",
       "      <td>BACKGROUND\\nA wealth of evidence supports the ...</td>\n",
       "      <td>0</td>\n",
       "      <td>International journal of language and communic...</td>\n",
       "      <td>['Medicine']</td>\n",
       "      <td>178</td>\n",
       "      <td>1117</td>\n",
       "    </tr>\n",
       "    <tr>\n",
       "      <th>17474</th>\n",
       "      <td>Assessing parent interaction with deaf infants...</td>\n",
       "      <td>Martina Curtin, G. Morgan, M. Cruice, R. Herman,</td>\n",
       "      <td>BACKGROUND\\nBetween 90% and 95% of deaf childr...</td>\n",
       "      <td>0</td>\n",
       "      <td>International journal of language and communic...</td>\n",
       "      <td>['Medicine']</td>\n",
       "      <td>20</td>\n",
       "      <td>1113</td>\n",
       "    </tr>\n",
       "    <tr>\n",
       "      <th>17475</th>\n",
       "      <td>ASTMH 鈥?A Means to What End?The Nexus of Tropi...</td>\n",
       "      <td>Daniel G Bausch,</td>\n",
       "      <td>Today I want to talk about the nexus of our fi...</td>\n",
       "      <td>0</td>\n",
       "      <td>American Journal of Tropical Medicine and Hygiene</td>\n",
       "      <td>['Medicine']</td>\n",
       "      <td>33</td>\n",
       "      <td>1101</td>\n",
       "    </tr>\n",
       "  </tbody>\n",
       "</table>\n",
       "<p>17476 rows × 8 columns</p>\n",
       "</div>"
      ],
      "text/plain": [
       "                                                   Title  \\\n",
       "0      wav2vec 2.0: A Framework for Self-Supervised L...   \n",
       "1      Conformer: Convolution-augmented Transformer f...   \n",
       "2      HiFi-GAN: Generative Adversarial Networks for ...   \n",
       "3      FastSpeech 2: Fast and High-Quality End-to-End...   \n",
       "4      The airborne lifetime of small speech droplets...   \n",
       "...                                                  ...   \n",
       "17471  'It depends on who I'm with': How young people...   \n",
       "17472  Stakeholder views on cognitive communication a...   \n",
       "17473  Associations between responsive parental behav...   \n",
       "17474  Assessing parent interaction with deaf infants...   \n",
       "17475  ASTMH 鈥?A Means to What End?The Nexus of Tropi...   \n",
       "\n",
       "                                             Author Name  \\\n",
       "0      Alexei Baevski, Henry Zhou, Abdel-rahman Moham...   \n",
       "1      Anmol Gulati, James Qin, C. Chiu, Niki Parmar,...   \n",
       "2              Jungil Kong, Jaehyeon Kim, Jaekyoung Bae,   \n",
       "3      Yi Ren, Chenxu Hu, Xu Tan, Tao Qin, Sheng Zhao...   \n",
       "4           V. Stadnytskyi, C. Bax, A. Bax, P. Anfinrud,   \n",
       "...                                                  ...   \n",
       "17471  Anna Ekstr枚m, Olof Sandgren, B. Sahl茅n, Christ...   \n",
       "17472  S. Howell, J. Hoskin, Debbie Eaton, M. Hollowa...   \n",
       "17473  P. Levickis, P. Eadie, F. Mensah, C. McKean, E...   \n",
       "17474   Martina Curtin, G. Morgan, M. Cruice, R. Herman,   \n",
       "17475                                   Daniel G Bausch,   \n",
       "\n",
       "                                                Abstract Paper Citation Count  \\\n",
       "0      We show for the first time that learning power...                 1633   \n",
       "1      Recently Transformer and Convolution neural ne...                 1099   \n",
       "2      Several recent work on speech synthesis have e...                  505   \n",
       "3      Advanced text to speech (TTS) models such as F...                  514   \n",
       "4      Speech droplets generated by asymptomatic carr...                  790   \n",
       "...                                                  ...                  ...   \n",
       "17471  BACKGROUND\\nThe risks of developmental languag...                    0   \n",
       "17472  BACKGROUND\\nCognitive communication disorder (...                    0   \n",
       "17473  BACKGROUND\\nA wealth of evidence supports the ...                    0   \n",
       "17474  BACKGROUND\\nBetween 90% and 95% of deaf childr...                    0   \n",
       "17475  Today I want to talk about the nexus of our fi...                    0   \n",
       "\n",
       "                                                   Venue  \\\n",
       "0                  Neural Information Processing Systems   \n",
       "1                                            Interspeech   \n",
       "2                  Neural Information Processing Systems   \n",
       "3      International Conference on Learning Represent...   \n",
       "4        Proceedings of the National Academy of Sciences   \n",
       "...                                                  ...   \n",
       "17471  International journal of language and communic...   \n",
       "17472  International journal of language and communic...   \n",
       "17473  International journal of language and communic...   \n",
       "17474  International journal of language and communic...   \n",
       "17475  American Journal of Tropical Medicine and Hygiene   \n",
       "\n",
       "                           Fields Of Study  Counts  rank  \n",
       "0      ['Computer Science', 'Engineering']       8   170  \n",
       "1      ['Computer Science', 'Engineering']      19   135  \n",
       "2      ['Computer Science', 'Engineering']      27   284  \n",
       "3      ['Computer Science', 'Engineering']      20   158  \n",
       "4        ['Medicine', 'Materials Science']      26   132  \n",
       "...                                    ...     ...   ...  \n",
       "17471                         ['Medicine']      42  1111  \n",
       "17472                         ['Medicine']      38  1088  \n",
       "17473                         ['Medicine']     178  1117  \n",
       "17474                         ['Medicine']      20  1113  \n",
       "17475                         ['Medicine']      33  1101  \n",
       "\n",
       "[17476 rows x 8 columns]"
      ]
     },
     "execution_count": 30,
     "metadata": {},
     "output_type": "execute_result"
    }
   ],
   "source": [
    "df2 = df.drop(['Date'], axis=1)\n",
    "df2"
   ]
  },
  {
   "cell_type": "code",
   "execution_count": 33,
   "metadata": {},
   "outputs": [
    {
     "data": {
      "text/html": [
       "<div>\n",
       "<style scoped>\n",
       "    .dataframe tbody tr th:only-of-type {\n",
       "        vertical-align: middle;\n",
       "    }\n",
       "\n",
       "    .dataframe tbody tr th {\n",
       "        vertical-align: top;\n",
       "    }\n",
       "\n",
       "    .dataframe thead th {\n",
       "        text-align: right;\n",
       "    }\n",
       "</style>\n",
       "<table border=\"1\" class=\"dataframe\">\n",
       "  <thead>\n",
       "    <tr style=\"text-align: right;\">\n",
       "      <th></th>\n",
       "      <th>Venue</th>\n",
       "      <th>Citation</th>\n",
       "    </tr>\n",
       "  </thead>\n",
       "  <tbody>\n",
       "    <tr>\n",
       "      <th>0</th>\n",
       "      <td>Neural Information Processing Systems</td>\n",
       "      <td>1633</td>\n",
       "    </tr>\n",
       "    <tr>\n",
       "      <th>1</th>\n",
       "      <td>Interspeech</td>\n",
       "      <td>1099</td>\n",
       "    </tr>\n",
       "    <tr>\n",
       "      <th>2</th>\n",
       "      <td>Neural Information Processing Systems</td>\n",
       "      <td>505</td>\n",
       "    </tr>\n",
       "    <tr>\n",
       "      <th>3</th>\n",
       "      <td>International Conference on Learning Represent...</td>\n",
       "      <td>514</td>\n",
       "    </tr>\n",
       "    <tr>\n",
       "      <th>4</th>\n",
       "      <td>Proceedings of the National Academy of Sciences</td>\n",
       "      <td>790</td>\n",
       "    </tr>\n",
       "    <tr>\n",
       "      <th>...</th>\n",
       "      <td>...</td>\n",
       "      <td>...</td>\n",
       "    </tr>\n",
       "    <tr>\n",
       "      <th>17471</th>\n",
       "      <td>International journal of language and communic...</td>\n",
       "      <td>0</td>\n",
       "    </tr>\n",
       "    <tr>\n",
       "      <th>17472</th>\n",
       "      <td>International journal of language and communic...</td>\n",
       "      <td>0</td>\n",
       "    </tr>\n",
       "    <tr>\n",
       "      <th>17473</th>\n",
       "      <td>International journal of language and communic...</td>\n",
       "      <td>0</td>\n",
       "    </tr>\n",
       "    <tr>\n",
       "      <th>17474</th>\n",
       "      <td>International journal of language and communic...</td>\n",
       "      <td>0</td>\n",
       "    </tr>\n",
       "    <tr>\n",
       "      <th>17475</th>\n",
       "      <td>American Journal of Tropical Medicine and Hygiene</td>\n",
       "      <td>0</td>\n",
       "    </tr>\n",
       "  </tbody>\n",
       "</table>\n",
       "<p>17476 rows × 2 columns</p>\n",
       "</div>"
      ],
      "text/plain": [
       "                                                   Venue Citation\n",
       "0                  Neural Information Processing Systems     1633\n",
       "1                                            Interspeech     1099\n",
       "2                  Neural Information Processing Systems      505\n",
       "3      International Conference on Learning Represent...      514\n",
       "4        Proceedings of the National Academy of Sciences      790\n",
       "...                                                  ...      ...\n",
       "17471  International journal of language and communic...        0\n",
       "17472  International journal of language and communic...        0\n",
       "17473  International journal of language and communic...        0\n",
       "17474  International journal of language and communic...        0\n",
       "17475  American Journal of Tropical Medicine and Hygiene        0\n",
       "\n",
       "[17476 rows x 2 columns]"
      ]
     },
     "execution_count": 33,
     "metadata": {},
     "output_type": "execute_result"
    }
   ],
   "source": [
    "df2 = pd.DataFrame({'Venue': df['Venue'], 'Citation': df['Paper Citation Count']})\n",
    "df2"
   ]
  },
  {
   "cell_type": "code",
   "execution_count": 47,
   "metadata": {},
   "outputs": [
    {
     "name": "stdout",
     "output_type": "stream",
     "text": [
      "<class 'float'>\n",
      "0.0508578431372549\n",
      "<class 'datetime.datetime'>\n",
      "2020-03-01 00:00:00\n",
      "<class 'datetime.datetime'>\n",
      "2020-03-01 00:00:00\n"
     ]
    },
    {
     "data": {
      "text/plain": [
       "3"
      ]
     },
     "execution_count": 47,
     "metadata": {},
     "output_type": "execute_result"
    }
   ],
   "source": [
    "c = 0\n",
    "for i in range(17476):    \n",
    "    if (type(df2['Venue'][i]) != str):\n",
    "        c += 1\n",
    "        print(type(df2['Venue'][i]))\n",
    "        print(df2['Venue'][i])\n",
    "        df2['Venue'][i] = \"\"\n",
    "c"
   ]
  },
  {
   "cell_type": "code",
   "execution_count": 55,
   "metadata": {},
   "outputs": [
    {
     "name": "stdout",
     "output_type": "stream",
     "text": [
      "<class 'str'>\n",
      " A. Temkina\n",
      "<class 'str'>\n",
      " Fables\"\n",
      "<class 'str'>\n",
      " Huixiao Le\n",
      "<class 'str'>\n",
      " Kevin Hernandez-Diaz\n",
      "<class 'str'>\n",
      " T. Rutowski\n",
      "<class 'str'>\n",
      " Rustam Fayzullaev\n",
      "<class 'str'>\n",
      " Xianrui Zheng\n",
      "<class 'str'>\n",
      " N. Rouhbakhsh\n",
      "<class 'str'>\n",
      " Lucas Gautheron\n",
      "<class 'str'>\n",
      " Indians have consistently been portrayed as master orators who demonstrate natural eloquence during treaty negotiations\n",
      "<class 'str'>\n",
      " Kateryna Kukharicheva\n",
      "<class 'str'>\n",
      " M. Kitazaki\n",
      "<class 'str'>\n",
      " E. Bakhshi\n",
      "<class 'str'>\n",
      " Nikola Lackovic\n",
      "<class 'str'>\n",
      " Nikola Lackovic\n",
      "<class 'str'>\n",
      " A. Rizzo\n"
     ]
    },
    {
     "data": {
      "text/plain": [
       "16"
      ]
     },
     "execution_count": 55,
     "metadata": {},
     "output_type": "execute_result"
    }
   ],
   "source": [
    "c = 0\n",
    "for i in range(17476):    \n",
    "    if (type(df2['Citation'][i]) != int):\n",
    "        c += 1\n",
    "        print(type(df2['Citation'][i]))\n",
    "        print(df2['Citation'][i])\n",
    "        df2['Citation'][i] = 0\n",
    "c"
   ]
  },
  {
   "cell_type": "code",
   "execution_count": 57,
   "metadata": {},
   "outputs": [
    {
     "data": {
      "text/plain": [
       "0        1633\n",
       "1        1099\n",
       "2         505\n",
       "3         514\n",
       "4         790\n",
       "         ... \n",
       "17471       0\n",
       "17472       0\n",
       "17473       0\n",
       "17474       0\n",
       "17475       0\n",
       "Name: Citation, Length: 17476, dtype: object"
      ]
     },
     "execution_count": 57,
     "metadata": {},
     "output_type": "execute_result"
    }
   ],
   "source": [
    "df2['Citation']"
   ]
  },
  {
   "cell_type": "code",
   "execution_count": 59,
   "metadata": {},
   "outputs": [],
   "source": [
    "df3 = df2.groupby('Venue').sum() #agg({'Paper Citation Count':['sum'], 'Date': pd.Series.mode})"
   ]
  },
  {
   "cell_type": "code",
   "execution_count": 71,
   "metadata": {},
   "outputs": [],
   "source": [
    "df3_reset = df3.reset_index()"
   ]
  },
  {
   "cell_type": "code",
   "execution_count": 79,
   "metadata": {},
   "outputs": [
    {
     "data": {
      "text/plain": [
       "str"
      ]
     },
     "execution_count": 79,
     "metadata": {},
     "output_type": "execute_result"
    }
   ],
   "source": [
    "type(df3_reset['Venue'][2710])"
   ]
  },
  {
   "cell_type": "code",
   "execution_count": 72,
   "metadata": {},
   "outputs": [
    {
     "data": {
      "text/plain": [
       "2711"
      ]
     },
     "execution_count": 72,
     "metadata": {},
     "output_type": "execute_result"
    }
   ],
   "source": [
    "for i in range(len(df3_reset)):\n",
    "    if df3_reset['Venue'][i] "
   ]
  },
  {
   "cell_type": "code",
   "execution_count": 352,
   "metadata": {},
   "outputs": [
    {
     "data": {
      "text/html": [
       "<div>\n",
       "<style scoped>\n",
       "    .dataframe tbody tr th:only-of-type {\n",
       "        vertical-align: middle;\n",
       "    }\n",
       "\n",
       "    .dataframe tbody tr th {\n",
       "        vertical-align: top;\n",
       "    }\n",
       "\n",
       "    .dataframe thead th {\n",
       "        text-align: right;\n",
       "    }\n",
       "</style>\n",
       "<table border=\"1\" class=\"dataframe\">\n",
       "  <thead>\n",
       "    <tr style=\"text-align: right;\">\n",
       "      <th></th>\n",
       "      <th>Title</th>\n",
       "      <th>Author Name</th>\n",
       "      <th>Author Id</th>\n",
       "      <th>1st Author Paper Count</th>\n",
       "      <th>1st Author Citation Count</th>\n",
       "      <th>Date</th>\n",
       "      <th>Abstract</th>\n",
       "      <th>Paper Reference Count</th>\n",
       "      <th>Paper Citation Count</th>\n",
       "      <th>Influential Citation Count</th>\n",
       "      <th>Venue</th>\n",
       "      <th>Fields Of Study</th>\n",
       "    </tr>\n",
       "  </thead>\n",
       "  <tbody>\n",
       "    <tr>\n",
       "      <th>0</th>\n",
       "      <td>wav2vec 2.0: A Framework for Self-Supervised L...</td>\n",
       "      <td>Alexei Baevski, Henry Zhou, Abdel-rahman Moham...</td>\n",
       "      <td>['51428394', '2110147709', '40360972', '2325985']</td>\n",
       "      <td>34.0</td>\n",
       "      <td>6941.0</td>\n",
       "      <td>2020-06-20</td>\n",
       "      <td>We show for the first time that learning power...</td>\n",
       "      <td>59</td>\n",
       "      <td>1633</td>\n",
       "      <td>314</td>\n",
       "      <td>Neural Information Processing Systems</td>\n",
       "      <td>['Computer Science', 'Engineering']</td>\n",
       "    </tr>\n",
       "    <tr>\n",
       "      <th>1</th>\n",
       "      <td>Conformer: Convolution-augmented Transformer f...</td>\n",
       "      <td>Anmol Gulati, James Qin, C. Chiu, Niki Parmar,...</td>\n",
       "      <td>['4478284', '47901308', '145039780', '3877127'...</td>\n",
       "      <td>19.0</td>\n",
       "      <td>1571.0</td>\n",
       "      <td>2020-05-16</td>\n",
       "      <td>Recently Transformer and Convolution neural ne...</td>\n",
       "      <td>36</td>\n",
       "      <td>1099</td>\n",
       "      <td>214</td>\n",
       "      <td>Interspeech</td>\n",
       "      <td>['Computer Science', 'Engineering']</td>\n",
       "    </tr>\n",
       "    <tr>\n",
       "      <th>2</th>\n",
       "      <td>HiFi-GAN: Generative Adversarial Networks for ...</td>\n",
       "      <td>Jungil Kong, Jaehyeon Kim, Jaekyoung Bae,</td>\n",
       "      <td>['1712238254', '94862572', '1703883959']</td>\n",
       "      <td>3.0</td>\n",
       "      <td>818.0</td>\n",
       "      <td>2020-10-12</td>\n",
       "      <td>Several recent work on speech synthesis have e...</td>\n",
       "      <td>27</td>\n",
       "      <td>505</td>\n",
       "      <td>116</td>\n",
       "      <td>Neural Information Processing Systems</td>\n",
       "      <td>['Computer Science', 'Engineering']</td>\n",
       "    </tr>\n",
       "    <tr>\n",
       "      <th>3</th>\n",
       "      <td>FastSpeech 2: Fast and High-Quality End-to-End...</td>\n",
       "      <td>Yi Ren, Chenxu Hu, Xu Tan, Tao Qin, Sheng Zhao...</td>\n",
       "      <td>['1500435161', '2118956725', '48391466', '1438...</td>\n",
       "      <td>58.0</td>\n",
       "      <td>1974.0</td>\n",
       "      <td>2020-06-08</td>\n",
       "      <td>Advanced text to speech (TTS) models such as F...</td>\n",
       "      <td>54</td>\n",
       "      <td>514</td>\n",
       "      <td>105</td>\n",
       "      <td>International Conference on Learning Represent...</td>\n",
       "      <td>['Computer Science', 'Engineering']</td>\n",
       "    </tr>\n",
       "    <tr>\n",
       "      <th>4</th>\n",
       "      <td>The airborne lifetime of small speech droplets...</td>\n",
       "      <td>V. Stadnytskyi, C. Bax, A. Bax, P. Anfinrud,</td>\n",
       "      <td>['3767476', '1633622443', '2074083973', '42414...</td>\n",
       "      <td>25.0</td>\n",
       "      <td>1303.0</td>\n",
       "      <td>2020-05-13</td>\n",
       "      <td>Speech droplets generated by asymptomatic carr...</td>\n",
       "      <td>20</td>\n",
       "      <td>790</td>\n",
       "      <td>39</td>\n",
       "      <td>Proceedings of the National Academy of Sciences</td>\n",
       "      <td>['Medicine', 'Materials Science']</td>\n",
       "    </tr>\n",
       "    <tr>\n",
       "      <th>...</th>\n",
       "      <td>...</td>\n",
       "      <td>...</td>\n",
       "      <td>...</td>\n",
       "      <td>...</td>\n",
       "      <td>...</td>\n",
       "      <td>...</td>\n",
       "      <td>...</td>\n",
       "      <td>...</td>\n",
       "      <td>...</td>\n",
       "      <td>...</td>\n",
       "      <td>...</td>\n",
       "      <td>...</td>\n",
       "    </tr>\n",
       "    <tr>\n",
       "      <th>32269</th>\n",
       "      <td>Морфосинтаксические особенности русского языка...</td>\n",
       "      <td>A. Palágyi,</td>\n",
       "      <td>['2079280413']</td>\n",
       "      <td>NaN</td>\n",
       "      <td>NaN</td>\n",
       "      <td>2023-01-16</td>\n",
       "      <td>Данная работа представляет результаты нашей по...</td>\n",
       "      <td>0</td>\n",
       "      <td>0</td>\n",
       "      <td>0</td>\n",
       "      <td>Studia Slavica Academiae Scientiarum Hungaricae</td>\n",
       "      <td>NaN</td>\n",
       "    </tr>\n",
       "    <tr>\n",
       "      <th>32270</th>\n",
       "      <td>The Problem of Variability in Biblical Phraseo...</td>\n",
       "      <td>Анна Дмитриевна Бакина,</td>\n",
       "      <td>['2166184581']</td>\n",
       "      <td>NaN</td>\n",
       "      <td>NaN</td>\n",
       "      <td>2023-01-30</td>\n",
       "      <td>Проблема лингвистической вариативности остаетс...</td>\n",
       "      <td>2</td>\n",
       "      <td>0</td>\n",
       "      <td>0</td>\n",
       "      <td>Tomsk state pedagogical university bulletin</td>\n",
       "      <td>NaN</td>\n",
       "    </tr>\n",
       "    <tr>\n",
       "      <th>32271</th>\n",
       "      <td>ASTMH – A Means to What End?The Nexus of Tropi...</td>\n",
       "      <td>Daniel G Bausch,</td>\n",
       "      <td>['2201315348']</td>\n",
       "      <td>NaN</td>\n",
       "      <td>NaN</td>\n",
       "      <td>2023-01-16</td>\n",
       "      <td>Today I want to talk about the nexus of our fi...</td>\n",
       "      <td>7</td>\n",
       "      <td>0</td>\n",
       "      <td>0</td>\n",
       "      <td>American Journal of Tropical Medicine and Hygiene</td>\n",
       "      <td>['Medicine']</td>\n",
       "    </tr>\n",
       "    <tr>\n",
       "      <th>32272</th>\n",
       "      <td>Harmonization of Communication of the Intervie...</td>\n",
       "      <td>Нина Сергеевна Болотнова,</td>\n",
       "      <td>['1675359818']</td>\n",
       "      <td>NaN</td>\n",
       "      <td>NaN</td>\n",
       "      <td>2023-01-30</td>\n",
       "      <td>Проблема гармонизации общения в разных сферах ...</td>\n",
       "      <td>0</td>\n",
       "      <td>0</td>\n",
       "      <td>0</td>\n",
       "      <td>Tomsk state pedagogical university bulletin</td>\n",
       "      <td>NaN</td>\n",
       "    </tr>\n",
       "    <tr>\n",
       "      <th>32273</th>\n",
       "      <td>“Arzamas Code” and V. A. Zhukovsky’s Creative ...</td>\n",
       "      <td>Денис Александрович Щуков,</td>\n",
       "      <td>['2165520811']</td>\n",
       "      <td>NaN</td>\n",
       "      <td>NaN</td>\n",
       "      <td>2023-01-30</td>\n",
       "      <td>В сборнике повестей «Миргород» Н. В. Гоголь ра...</td>\n",
       "      <td>2</td>\n",
       "      <td>0</td>\n",
       "      <td>0</td>\n",
       "      <td>Tomsk state pedagogical university bulletin</td>\n",
       "      <td>NaN</td>\n",
       "    </tr>\n",
       "  </tbody>\n",
       "</table>\n",
       "<p>32274 rows × 12 columns</p>\n",
       "</div>"
      ],
      "text/plain": [
       "                                                   Title  \\\n",
       "0      wav2vec 2.0: A Framework for Self-Supervised L...   \n",
       "1      Conformer: Convolution-augmented Transformer f...   \n",
       "2      HiFi-GAN: Generative Adversarial Networks for ...   \n",
       "3      FastSpeech 2: Fast and High-Quality End-to-End...   \n",
       "4      The airborne lifetime of small speech droplets...   \n",
       "...                                                  ...   \n",
       "32269  Морфосинтаксические особенности русского языка...   \n",
       "32270  The Problem of Variability in Biblical Phraseo...   \n",
       "32271  ASTMH – A Means to What End?The Nexus of Tropi...   \n",
       "32272  Harmonization of Communication of the Intervie...   \n",
       "32273  “Arzamas Code” and V. A. Zhukovsky’s Creative ...   \n",
       "\n",
       "                                             Author Name  \\\n",
       "0      Alexei Baevski, Henry Zhou, Abdel-rahman Moham...   \n",
       "1      Anmol Gulati, James Qin, C. Chiu, Niki Parmar,...   \n",
       "2              Jungil Kong, Jaehyeon Kim, Jaekyoung Bae,   \n",
       "3      Yi Ren, Chenxu Hu, Xu Tan, Tao Qin, Sheng Zhao...   \n",
       "4           V. Stadnytskyi, C. Bax, A. Bax, P. Anfinrud,   \n",
       "...                                                  ...   \n",
       "32269                                        A. Palágyi,   \n",
       "32270                            Анна Дмитриевна Бакина,   \n",
       "32271                                   Daniel G Bausch,   \n",
       "32272                          Нина Сергеевна Болотнова,   \n",
       "32273                         Денис Александрович Щуков,   \n",
       "\n",
       "                                               Author Id  \\\n",
       "0      ['51428394', '2110147709', '40360972', '2325985']   \n",
       "1      ['4478284', '47901308', '145039780', '3877127'...   \n",
       "2               ['1712238254', '94862572', '1703883959']   \n",
       "3      ['1500435161', '2118956725', '48391466', '1438...   \n",
       "4      ['3767476', '1633622443', '2074083973', '42414...   \n",
       "...                                                  ...   \n",
       "32269                                     ['2079280413']   \n",
       "32270                                     ['2166184581']   \n",
       "32271                                     ['2201315348']   \n",
       "32272                                     ['1675359818']   \n",
       "32273                                     ['2165520811']   \n",
       "\n",
       "       1st Author Paper Count  1st Author Citation Count        Date  \\\n",
       "0                        34.0                     6941.0  2020-06-20   \n",
       "1                        19.0                     1571.0  2020-05-16   \n",
       "2                         3.0                      818.0  2020-10-12   \n",
       "3                        58.0                     1974.0  2020-06-08   \n",
       "4                        25.0                     1303.0  2020-05-13   \n",
       "...                       ...                        ...         ...   \n",
       "32269                     NaN                        NaN  2023-01-16   \n",
       "32270                     NaN                        NaN  2023-01-30   \n",
       "32271                     NaN                        NaN  2023-01-16   \n",
       "32272                     NaN                        NaN  2023-01-30   \n",
       "32273                     NaN                        NaN  2023-01-30   \n",
       "\n",
       "                                                Abstract  \\\n",
       "0      We show for the first time that learning power...   \n",
       "1      Recently Transformer and Convolution neural ne...   \n",
       "2      Several recent work on speech synthesis have e...   \n",
       "3      Advanced text to speech (TTS) models such as F...   \n",
       "4      Speech droplets generated by asymptomatic carr...   \n",
       "...                                                  ...   \n",
       "32269  Данная работа представляет результаты нашей по...   \n",
       "32270  Проблема лингвистической вариативности остаетс...   \n",
       "32271  Today I want to talk about the nexus of our fi...   \n",
       "32272  Проблема гармонизации общения в разных сферах ...   \n",
       "32273  В сборнике повестей «Миргород» Н. В. Гоголь ра...   \n",
       "\n",
       "       Paper Reference Count  Paper Citation Count  \\\n",
       "0                         59                  1633   \n",
       "1                         36                  1099   \n",
       "2                         27                   505   \n",
       "3                         54                   514   \n",
       "4                         20                   790   \n",
       "...                      ...                   ...   \n",
       "32269                      0                     0   \n",
       "32270                      2                     0   \n",
       "32271                      7                     0   \n",
       "32272                      0                     0   \n",
       "32273                      2                     0   \n",
       "\n",
       "       Influential Citation Count  \\\n",
       "0                             314   \n",
       "1                             214   \n",
       "2                             116   \n",
       "3                             105   \n",
       "4                              39   \n",
       "...                           ...   \n",
       "32269                           0   \n",
       "32270                           0   \n",
       "32271                           0   \n",
       "32272                           0   \n",
       "32273                           0   \n",
       "\n",
       "                                                   Venue  \\\n",
       "0                  Neural Information Processing Systems   \n",
       "1                                            Interspeech   \n",
       "2                  Neural Information Processing Systems   \n",
       "3      International Conference on Learning Represent...   \n",
       "4        Proceedings of the National Academy of Sciences   \n",
       "...                                                  ...   \n",
       "32269    Studia Slavica Academiae Scientiarum Hungaricae   \n",
       "32270        Tomsk state pedagogical university bulletin   \n",
       "32271  American Journal of Tropical Medicine and Hygiene   \n",
       "32272        Tomsk state pedagogical university bulletin   \n",
       "32273        Tomsk state pedagogical university bulletin   \n",
       "\n",
       "                           Fields Of Study  \n",
       "0      ['Computer Science', 'Engineering']  \n",
       "1      ['Computer Science', 'Engineering']  \n",
       "2      ['Computer Science', 'Engineering']  \n",
       "3      ['Computer Science', 'Engineering']  \n",
       "4        ['Medicine', 'Materials Science']  \n",
       "...                                    ...  \n",
       "32269                                  NaN  \n",
       "32270                                  NaN  \n",
       "32271                         ['Medicine']  \n",
       "32272                                  NaN  \n",
       "32273                                  NaN  \n",
       "\n",
       "[32274 rows x 12 columns]"
      ]
     },
     "execution_count": 352,
     "metadata": {},
     "output_type": "execute_result"
    }
   ],
   "source": [
    "import pandas as pd\n",
    "df_new = pd.read_csv('../result4.csv')\n",
    "df_new"
   ]
  },
  {
   "cell_type": "code",
   "execution_count": 353,
   "metadata": {},
   "outputs": [],
   "source": [
    "df_drop = df_new.dropna(subset=['Title', 'Author Name', 'Date','Abstract', 'Paper Citation Count', 'Venue', 'Fields Of Study']).drop(['Author Id', '1st Author Paper Count', '1st Author Citation Count', 'Paper Reference Count', 'Influential Citation Count'], axis=1)\n",
    "df_drop = df_drop.sort_values('Date', ascending=True).reset_index().drop(['index'], axis=1)\n",
    "df_drop.to_csv('../demo_dataset.csv', index=False)"
   ]
  },
  {
   "cell_type": "code",
   "execution_count": 354,
   "metadata": {},
   "outputs": [
    {
     "data": {
      "text/html": [
       "<div>\n",
       "<style scoped>\n",
       "    .dataframe tbody tr th:only-of-type {\n",
       "        vertical-align: middle;\n",
       "    }\n",
       "\n",
       "    .dataframe tbody tr th {\n",
       "        vertical-align: top;\n",
       "    }\n",
       "\n",
       "    .dataframe thead th {\n",
       "        text-align: right;\n",
       "    }\n",
       "</style>\n",
       "<table border=\"1\" class=\"dataframe\">\n",
       "  <thead>\n",
       "    <tr style=\"text-align: right;\">\n",
       "      <th></th>\n",
       "      <th>Title</th>\n",
       "      <th>Author Name</th>\n",
       "      <th>Date</th>\n",
       "      <th>Abstract</th>\n",
       "      <th>Paper Citation Count</th>\n",
       "      <th>Venue</th>\n",
       "      <th>Fields Of Study</th>\n",
       "      <th>Year</th>\n",
       "    </tr>\n",
       "  </thead>\n",
       "  <tbody>\n",
       "    <tr>\n",
       "      <th>0</th>\n",
       "      <td>Infants Segment Words from Songs—An EEG Study</td>\n",
       "      <td>T. M. Snijders, Titia Benders, P. Fikkert,</td>\n",
       "      <td>2020-01-01</td>\n",
       "      <td>Children’s songs are omnipresent and highly at...</td>\n",
       "      <td>8</td>\n",
       "      <td>Brain Science</td>\n",
       "      <td>['Medicine', 'Psychology']</td>\n",
       "      <td>2020</td>\n",
       "    </tr>\n",
       "    <tr>\n",
       "      <th>1</th>\n",
       "      <td>An Exploration of the Impact of Group Treatmen...</td>\n",
       "      <td>Catherine Mason, L. Nickels, Belinda McDonald,</td>\n",
       "      <td>2020-01-01</td>\n",
       "      <td>Abstract Objective: Group treatment enables pe...</td>\n",
       "      <td>6</td>\n",
       "      <td>Journal of the International Neuropsychologica...</td>\n",
       "      <td>['Medicine', 'Psychology']</td>\n",
       "      <td>2020</td>\n",
       "    </tr>\n",
       "    <tr>\n",
       "      <th>2</th>\n",
       "      <td>Arduino based voice controlled wheelchair</td>\n",
       "      <td>Tan Kian Hou, Yagasena, Chelladurai,</td>\n",
       "      <td>2020-01-01</td>\n",
       "      <td>A voice controlled wheelchair prototype was de...</td>\n",
       "      <td>8</td>\n",
       "      <td>Journal of Physics: Conference Series</td>\n",
       "      <td>['Computer Science', 'Physics']</td>\n",
       "      <td>2020</td>\n",
       "    </tr>\n",
       "    <tr>\n",
       "      <th>3</th>\n",
       "      <td>Neuropsychological dysfunctions among chronic ...</td>\n",
       "      <td>Vidhata Dixit, Santosh Kumar, S. Chaudhury,</td>\n",
       "      <td>2020-01-01</td>\n",
       "      <td>Aim: The aim of this study is to assess the ne...</td>\n",
       "      <td>2</td>\n",
       "      <td>Industrial Psychiatry Journal</td>\n",
       "      <td>['Medicine']</td>\n",
       "      <td>2020</td>\n",
       "    </tr>\n",
       "    <tr>\n",
       "      <th>4</th>\n",
       "      <td>Comprehensive Analysis of Discussion Forum Par...</td>\n",
       "      <td>Srećko Joksimović, J. Jovanović, Vitomir Kovan...</td>\n",
       "      <td>2020-01-01</td>\n",
       "      <td>Learning in computer-mediated setting represen...</td>\n",
       "      <td>10</td>\n",
       "      <td>IEEE Transactions on Learning Technologies</td>\n",
       "      <td>['Computer Science']</td>\n",
       "      <td>2020</td>\n",
       "    </tr>\n",
       "    <tr>\n",
       "      <th>...</th>\n",
       "      <td>...</td>\n",
       "      <td>...</td>\n",
       "      <td>...</td>\n",
       "      <td>...</td>\n",
       "      <td>...</td>\n",
       "      <td>...</td>\n",
       "      <td>...</td>\n",
       "      <td>...</td>\n",
       "    </tr>\n",
       "    <tr>\n",
       "      <th>17513</th>\n",
       "      <td>Self-supervision and Controlling Techniques to...</td>\n",
       "      <td>Punyajoy Saha,</td>\n",
       "      <td>2023-02-27</td>\n",
       "      <td>Hate speech is a challenging problem in today'...</td>\n",
       "      <td>0</td>\n",
       "      <td>Web Search and Data Mining</td>\n",
       "      <td>['Computer Science']</td>\n",
       "      <td>2023</td>\n",
       "    </tr>\n",
       "    <tr>\n",
       "      <th>17514</th>\n",
       "      <td>Self-supervision and Controlling Techniques to...</td>\n",
       "      <td>Punyajoy Saha,</td>\n",
       "      <td>2023-02-27</td>\n",
       "      <td>Hate speech is a challenging problem in today'...</td>\n",
       "      <td>0</td>\n",
       "      <td>Web Search and Data Mining</td>\n",
       "      <td>['Computer Science']</td>\n",
       "      <td>2023</td>\n",
       "    </tr>\n",
       "    <tr>\n",
       "      <th>17515</th>\n",
       "      <td>Towards a Robust Deep Neural Network Against A...</td>\n",
       "      <td>Wenqi Wang, Run Wang, Lina Wang, Zhibo Wang, A...</td>\n",
       "      <td>2023-03-01</td>\n",
       "      <td>Deep neural networks (DNNs) have achieved rema...</td>\n",
       "      <td>10</td>\n",
       "      <td>IEEE Transactions on Knowledge and Data Engine...</td>\n",
       "      <td>['Computer Science']</td>\n",
       "      <td>2023</td>\n",
       "    </tr>\n",
       "    <tr>\n",
       "      <th>17516</th>\n",
       "      <td>Sequence Labeling With Meta-Learning</td>\n",
       "      <td>Jing Li, Peng Han, Xiangnan Ren, Jilin Hu, Lis...</td>\n",
       "      <td>2023-03-01</td>\n",
       "      <td>Recent neural architectures in sequence labeli...</td>\n",
       "      <td>7</td>\n",
       "      <td>IEEE Transactions on Knowledge and Data Engine...</td>\n",
       "      <td>['Computer Science']</td>\n",
       "      <td>2023</td>\n",
       "    </tr>\n",
       "    <tr>\n",
       "      <th>17517</th>\n",
       "      <td>Twelve Years of Establishing the Strategies fo...</td>\n",
       "      <td>K. Nguyen,</td>\n",
       "      <td>2023-03-01</td>\n",
       "      <td>Background Reconstruction after resection of m...</td>\n",
       "      <td>0</td>\n",
       "      <td>Annals of Plastic Surgery</td>\n",
       "      <td>['Medicine']</td>\n",
       "      <td>2023</td>\n",
       "    </tr>\n",
       "  </tbody>\n",
       "</table>\n",
       "<p>17518 rows × 8 columns</p>\n",
       "</div>"
      ],
      "text/plain": [
       "                                                   Title  \\\n",
       "0          Infants Segment Words from Songs—An EEG Study   \n",
       "1      An Exploration of the Impact of Group Treatmen...   \n",
       "2              Arduino based voice controlled wheelchair   \n",
       "3      Neuropsychological dysfunctions among chronic ...   \n",
       "4      Comprehensive Analysis of Discussion Forum Par...   \n",
       "...                                                  ...   \n",
       "17513  Self-supervision and Controlling Techniques to...   \n",
       "17514  Self-supervision and Controlling Techniques to...   \n",
       "17515  Towards a Robust Deep Neural Network Against A...   \n",
       "17516               Sequence Labeling With Meta-Learning   \n",
       "17517  Twelve Years of Establishing the Strategies fo...   \n",
       "\n",
       "                                             Author Name        Date  \\\n",
       "0             T. M. Snijders, Titia Benders, P. Fikkert,  2020-01-01   \n",
       "1         Catherine Mason, L. Nickels, Belinda McDonald,  2020-01-01   \n",
       "2                   Tan Kian Hou, Yagasena, Chelladurai,  2020-01-01   \n",
       "3            Vidhata Dixit, Santosh Kumar, S. Chaudhury,  2020-01-01   \n",
       "4      Srećko Joksimović, J. Jovanović, Vitomir Kovan...  2020-01-01   \n",
       "...                                                  ...         ...   \n",
       "17513                                     Punyajoy Saha,  2023-02-27   \n",
       "17514                                     Punyajoy Saha,  2023-02-27   \n",
       "17515  Wenqi Wang, Run Wang, Lina Wang, Zhibo Wang, A...  2023-03-01   \n",
       "17516  Jing Li, Peng Han, Xiangnan Ren, Jilin Hu, Lis...  2023-03-01   \n",
       "17517                                         K. Nguyen,  2023-03-01   \n",
       "\n",
       "                                                Abstract  \\\n",
       "0      Children’s songs are omnipresent and highly at...   \n",
       "1      Abstract Objective: Group treatment enables pe...   \n",
       "2      A voice controlled wheelchair prototype was de...   \n",
       "3      Aim: The aim of this study is to assess the ne...   \n",
       "4      Learning in computer-mediated setting represen...   \n",
       "...                                                  ...   \n",
       "17513  Hate speech is a challenging problem in today'...   \n",
       "17514  Hate speech is a challenging problem in today'...   \n",
       "17515  Deep neural networks (DNNs) have achieved rema...   \n",
       "17516  Recent neural architectures in sequence labeli...   \n",
       "17517  Background Reconstruction after resection of m...   \n",
       "\n",
       "       Paper Citation Count  \\\n",
       "0                         8   \n",
       "1                         6   \n",
       "2                         8   \n",
       "3                         2   \n",
       "4                        10   \n",
       "...                     ...   \n",
       "17513                     0   \n",
       "17514                     0   \n",
       "17515                    10   \n",
       "17516                     7   \n",
       "17517                     0   \n",
       "\n",
       "                                                   Venue  \\\n",
       "0                                          Brain Science   \n",
       "1      Journal of the International Neuropsychologica...   \n",
       "2                  Journal of Physics: Conference Series   \n",
       "3                          Industrial Psychiatry Journal   \n",
       "4             IEEE Transactions on Learning Technologies   \n",
       "...                                                  ...   \n",
       "17513                         Web Search and Data Mining   \n",
       "17514                         Web Search and Data Mining   \n",
       "17515  IEEE Transactions on Knowledge and Data Engine...   \n",
       "17516  IEEE Transactions on Knowledge and Data Engine...   \n",
       "17517                          Annals of Plastic Surgery   \n",
       "\n",
       "                       Fields Of Study  Year  \n",
       "0           ['Medicine', 'Psychology']  2020  \n",
       "1           ['Medicine', 'Psychology']  2020  \n",
       "2      ['Computer Science', 'Physics']  2020  \n",
       "3                         ['Medicine']  2020  \n",
       "4                 ['Computer Science']  2020  \n",
       "...                                ...   ...  \n",
       "17513             ['Computer Science']  2023  \n",
       "17514             ['Computer Science']  2023  \n",
       "17515             ['Computer Science']  2023  \n",
       "17516             ['Computer Science']  2023  \n",
       "17517                     ['Medicine']  2023  \n",
       "\n",
       "[17518 rows x 8 columns]"
      ]
     },
     "execution_count": 354,
     "metadata": {},
     "output_type": "execute_result"
    }
   ],
   "source": [
    "df_drop = pd.read_csv('../demo_dataset.csv')\n",
    "df_drop['Year'] = df_drop['Date'].str[0:4]\n",
    "# for i in range(len(df_drop)):\n",
    "#     df_drop['Year'][i] = df_drop['Date'][i][0:4]\n",
    "df_drop"
   ]
  },
  {
   "cell_type": "code",
   "execution_count": 281,
   "metadata": {},
   "outputs": [
    {
     "data": {
      "text/plain": [
       "False"
      ]
     },
     "execution_count": 281,
     "metadata": {},
     "output_type": "execute_result"
    }
   ],
   "source": [
    "df_drop['Date'][0][0:4] != '2020'"
   ]
  },
  {
   "cell_type": "code",
   "execution_count": 282,
   "metadata": {},
   "outputs": [],
   "source": [
    "for i in range(len(df_drop)):\n",
    "    if(df_drop['Date'][i][0:4] != '2020' and df_drop['Date'][i][0:4]!= '2021' and df_drop['Date'][i][0:4]!= '2022' and df_drop['Date'][i][0:4]!= '2023'):\n",
    "        print(df_drop['Date'][i][0:4])\n",
    "\n"
   ]
  },
  {
   "cell_type": "code",
   "execution_count": 355,
   "metadata": {},
   "outputs": [
    {
     "data": {
      "text/html": [
       "<div>\n",
       "<style scoped>\n",
       "    .dataframe tbody tr th:only-of-type {\n",
       "        vertical-align: middle;\n",
       "    }\n",
       "\n",
       "    .dataframe tbody tr th {\n",
       "        vertical-align: top;\n",
       "    }\n",
       "\n",
       "    .dataframe thead th {\n",
       "        text-align: right;\n",
       "    }\n",
       "</style>\n",
       "<table border=\"1\" class=\"dataframe\">\n",
       "  <thead>\n",
       "    <tr style=\"text-align: right;\">\n",
       "      <th></th>\n",
       "      <th></th>\n",
       "      <th>Paper Citation Count</th>\n",
       "    </tr>\n",
       "    <tr>\n",
       "      <th>Venue</th>\n",
       "      <th>Year</th>\n",
       "      <th></th>\n",
       "    </tr>\n",
       "  </thead>\n",
       "  <tbody>\n",
       "    <tr>\n",
       "      <th rowspan=\"3\" valign=\"top\">AAAI Conference on Artificial Intelligence</th>\n",
       "      <th>2020</th>\n",
       "      <td>464</td>\n",
       "    </tr>\n",
       "    <tr>\n",
       "      <th>2021</th>\n",
       "      <td>232</td>\n",
       "    </tr>\n",
       "    <tr>\n",
       "      <th>2022</th>\n",
       "      <td>31</td>\n",
       "    </tr>\n",
       "    <tr>\n",
       "      <th rowspan=\"2\" valign=\"top\">ACM Computing Surveys</th>\n",
       "      <th>2020</th>\n",
       "      <td>370</td>\n",
       "    </tr>\n",
       "    <tr>\n",
       "      <th>2021</th>\n",
       "      <td>686</td>\n",
       "    </tr>\n",
       "    <tr>\n",
       "      <th>...</th>\n",
       "      <th>...</th>\n",
       "      <td>...</td>\n",
       "    </tr>\n",
       "    <tr>\n",
       "      <th rowspan=\"2\" valign=\"top\">medRxiv</th>\n",
       "      <th>2022</th>\n",
       "      <td>12</td>\n",
       "    </tr>\n",
       "    <tr>\n",
       "      <th>2023</th>\n",
       "      <td>0</td>\n",
       "    </tr>\n",
       "    <tr>\n",
       "      <th rowspan=\"3\" valign=\"top\">voice and speech review</th>\n",
       "      <th>2020</th>\n",
       "      <td>3</td>\n",
       "    </tr>\n",
       "    <tr>\n",
       "      <th>2021</th>\n",
       "      <td>0</td>\n",
       "    </tr>\n",
       "    <tr>\n",
       "      <th>2022</th>\n",
       "      <td>0</td>\n",
       "    </tr>\n",
       "  </tbody>\n",
       "</table>\n",
       "<p>1037 rows × 1 columns</p>\n",
       "</div>"
      ],
      "text/plain": [
       "                                                 Paper Citation Count\n",
       "Venue                                      Year                      \n",
       "AAAI Conference on Artificial Intelligence 2020                   464\n",
       "                                           2021                   232\n",
       "                                           2022                    31\n",
       "ACM Computing Surveys                      2020                   370\n",
       "                                           2021                   686\n",
       "...                                                               ...\n",
       "medRxiv                                    2022                    12\n",
       "                                           2023                     0\n",
       "voice and speech review                    2020                     3\n",
       "                                           2021                     0\n",
       "                                           2022                     0\n",
       "\n",
       "[1037 rows x 1 columns]"
      ]
     },
     "execution_count": 355,
     "metadata": {},
     "output_type": "execute_result"
    }
   ],
   "source": [
    "gb = df_drop.groupby(['Venue', 'Year']).sum(numeric_only=True)\n",
    "gb = gb.groupby(level=0).filter(lambda x: len(x) > 2 ) #\n",
    "gb#.groupby(['Venue']).sum() #.loc[[gb.index.levels[0][1]]]"
   ]
  },
  {
   "cell_type": "code",
   "execution_count": 356,
   "metadata": {},
   "outputs": [],
   "source": [
    "full_list = gb.reset_index().groupby('Venue').sum(numeric_only=True).sort_values('Paper Citation Count', ascending=False).reset_index()['Venue'].tolist()\n",
    "first_five = gb.reset_index().groupby('Venue').sum(numeric_only=True).sort_values('Paper Citation Count', ascending=False).reset_index()['Venue'][0:5].tolist()"
   ]
  },
  {
   "cell_type": "code",
   "execution_count": 306,
   "metadata": {},
   "outputs": [],
   "source": [
    "sub_list = list(set(full_list)-set(first_five))"
   ]
  },
  {
   "cell_type": "code",
   "execution_count": 135,
   "metadata": {},
   "outputs": [],
   "source": [
    "min_year = int(df_drop['Date'].min()[0:4])\n",
    "max_year = int(df_drop['Date'].max()[0:4])"
   ]
  },
  {
   "cell_type": "code",
   "execution_count": 136,
   "metadata": {},
   "outputs": [
    {
     "data": {
      "text/plain": [
       "[2020.0, 2021.0, 2022.0, 2023.0]"
      ]
     },
     "execution_count": 136,
     "metadata": {},
     "output_type": "execute_result"
    }
   ],
   "source": [
    "import numpy as np\n",
    "np.linspace(min_year, max_year, max_year - min_year + 1).tolist()"
   ]
  },
  {
   "cell_type": "code",
   "execution_count": 137,
   "metadata": {},
   "outputs": [
    {
     "name": "stderr",
     "output_type": "stream",
     "text": [
      "/var/folders/_1/mldb2lvd6w35g10qsjdthy0m0000gn/T/ipykernel_23111/144186696.py:1: FutureWarning:\n",
      "\n",
      "The default value of numeric_only in DataFrameGroupBy.sum is deprecated. In a future version, numeric_only will default to False. Either specify numeric_only or select only columns which should be valid for the function.\n",
      "\n"
     ]
    }
   ],
   "source": [
    "Venue = df_drop.groupby('Venue').sum().sort_values('Paper Citation Count', ascending=False) #['Paper Citation Count']"
   ]
  },
  {
   "cell_type": "code",
   "execution_count": 138,
   "metadata": {},
   "outputs": [
    {
     "data": {
      "text/html": [
       "<div>\n",
       "<style scoped>\n",
       "    .dataframe tbody tr th:only-of-type {\n",
       "        vertical-align: middle;\n",
       "    }\n",
       "\n",
       "    .dataframe tbody tr th {\n",
       "        vertical-align: top;\n",
       "    }\n",
       "\n",
       "    .dataframe thead th {\n",
       "        text-align: right;\n",
       "    }\n",
       "</style>\n",
       "<table border=\"1\" class=\"dataframe\">\n",
       "  <thead>\n",
       "    <tr style=\"text-align: right;\">\n",
       "      <th></th>\n",
       "      <th>Paper Citation Count</th>\n",
       "    </tr>\n",
       "    <tr>\n",
       "      <th>Venue</th>\n",
       "      <th></th>\n",
       "    </tr>\n",
       "  </thead>\n",
       "  <tbody>\n",
       "    <tr>\n",
       "      <th>Interspeech</th>\n",
       "      <td>18010</td>\n",
       "    </tr>\n",
       "    <tr>\n",
       "      <th>IEEE International Conference on Acoustics, Speech, and Signal Processing</th>\n",
       "      <td>13995</td>\n",
       "    </tr>\n",
       "    <tr>\n",
       "      <th>ArXiv</th>\n",
       "      <td>8191</td>\n",
       "    </tr>\n",
       "    <tr>\n",
       "      <th>Neural Information Processing Systems</th>\n",
       "      <td>3497</td>\n",
       "    </tr>\n",
       "    <tr>\n",
       "      <th>Annual Meeting of the Association for Computational Linguistics</th>\n",
       "      <td>2981</td>\n",
       "    </tr>\n",
       "  </tbody>\n",
       "</table>\n",
       "</div>"
      ],
      "text/plain": [
       "                                                    Paper Citation Count\n",
       "Venue                                                                   \n",
       "Interspeech                                                        18010\n",
       "IEEE International Conference on Acoustics, Spe...                 13995\n",
       "ArXiv                                                               8191\n",
       "Neural Information Processing Systems                               3497\n",
       "Annual Meeting of the Association for Computati...                  2981"
      ]
     },
     "execution_count": 138,
     "metadata": {},
     "output_type": "execute_result"
    }
   ],
   "source": [
    "Venue.head()"
   ]
  },
  {
   "cell_type": "code",
   "execution_count": 222,
   "metadata": {},
   "outputs": [],
   "source": [
    "def get_citation(dataset, venue):\n",
    "\n",
    "    min_year = int(df_drop['Year'].min())\n",
    "    max_year = int(df_drop['Year'].max())\n",
    "    gb = dataset.groupby(['Venue', 'Year']).sum(numeric_only=True)\n",
    "    gb = gb.groupby(level=0).filter(lambda x: len(x) > 2 )\n",
    "    citationList = []\n",
    "    for i in range(max_year - min_year + 1):\n",
    "        citeSeries = gb.groupby(level=0).get_group((venue))['Paper Citation Count']\n",
    "        if (i >= len(citeSeries)):\n",
    "            citationList.append(0)\n",
    "        else:\n",
    "            citationList.append(citeSeries[i])\n",
    "    return citationList\n"
   ]
  },
  {
   "cell_type": "code",
   "execution_count": 223,
   "metadata": {},
   "outputs": [
    {
     "data": {
      "text/plain": [
       "[3871, 3106, 1192, 22]"
      ]
     },
     "execution_count": 223,
     "metadata": {},
     "output_type": "execute_result"
    }
   ],
   "source": [
    "get_citation(df_drop, 'ArXiv')"
   ]
  },
  {
   "cell_type": "code",
   "execution_count": 233,
   "metadata": {},
   "outputs": [
    {
     "data": {
      "application/vnd.plotly.v1+json": {
       "config": {
        "plotlyServerURL": "https://plot.ly"
       },
       "data": [
        {
         "marker": {
          "color": "rgb(55, 83, 109)"
         },
         "name": "Interspeech",
         "type": "bar",
         "x": [
          2020,
          2021,
          2022,
          2023
         ],
         "y": [
          11585,
          5389,
          1036,
          0
         ]
        },
        {
         "marker": {
          "color": "rgb(26, 118, 255)"
         },
         "name": "ArXiv",
         "type": "bar",
         "x": [
          2020,
          2021,
          2022,
          2023
         ],
         "y": [
          3871,
          3106,
          1192,
          22
         ]
        },
        {
         "marker": {
          "color": "rgb(26, 118, 255)"
         },
         "name": "ICASSP",
         "type": "bar",
         "x": [
          2020,
          2021,
          2022,
          2023
         ],
         "y": [
          9178,
          3813,
          1004,
          0
         ]
        }
       ],
       "layout": {
        "bargap": 0.15,
        "bargroupgap": 0.1,
        "barmode": "group",
        "height": 450,
        "legend": {
         "bgcolor": "rgba(255, 255, 255, 0)",
         "bordercolor": "rgba(255, 255, 255, 0)",
         "x": 0.8,
         "y": 1
        },
        "template": {
         "data": {
          "bar": [
           {
            "error_x": {
             "color": "#2a3f5f"
            },
            "error_y": {
             "color": "#2a3f5f"
            },
            "marker": {
             "line": {
              "color": "#E5ECF6",
              "width": 0.5
             },
             "pattern": {
              "fillmode": "overlay",
              "size": 10,
              "solidity": 0.2
             }
            },
            "type": "bar"
           }
          ],
          "barpolar": [
           {
            "marker": {
             "line": {
              "color": "#E5ECF6",
              "width": 0.5
             },
             "pattern": {
              "fillmode": "overlay",
              "size": 10,
              "solidity": 0.2
             }
            },
            "type": "barpolar"
           }
          ],
          "carpet": [
           {
            "aaxis": {
             "endlinecolor": "#2a3f5f",
             "gridcolor": "white",
             "linecolor": "white",
             "minorgridcolor": "white",
             "startlinecolor": "#2a3f5f"
            },
            "baxis": {
             "endlinecolor": "#2a3f5f",
             "gridcolor": "white",
             "linecolor": "white",
             "minorgridcolor": "white",
             "startlinecolor": "#2a3f5f"
            },
            "type": "carpet"
           }
          ],
          "choropleth": [
           {
            "colorbar": {
             "outlinewidth": 0,
             "ticks": ""
            },
            "type": "choropleth"
           }
          ],
          "contour": [
           {
            "colorbar": {
             "outlinewidth": 0,
             "ticks": ""
            },
            "colorscale": [
             [
              0,
              "#0d0887"
             ],
             [
              0.1111111111111111,
              "#46039f"
             ],
             [
              0.2222222222222222,
              "#7201a8"
             ],
             [
              0.3333333333333333,
              "#9c179e"
             ],
             [
              0.4444444444444444,
              "#bd3786"
             ],
             [
              0.5555555555555556,
              "#d8576b"
             ],
             [
              0.6666666666666666,
              "#ed7953"
             ],
             [
              0.7777777777777778,
              "#fb9f3a"
             ],
             [
              0.8888888888888888,
              "#fdca26"
             ],
             [
              1,
              "#f0f921"
             ]
            ],
            "type": "contour"
           }
          ],
          "contourcarpet": [
           {
            "colorbar": {
             "outlinewidth": 0,
             "ticks": ""
            },
            "type": "contourcarpet"
           }
          ],
          "heatmap": [
           {
            "colorbar": {
             "outlinewidth": 0,
             "ticks": ""
            },
            "colorscale": [
             [
              0,
              "#0d0887"
             ],
             [
              0.1111111111111111,
              "#46039f"
             ],
             [
              0.2222222222222222,
              "#7201a8"
             ],
             [
              0.3333333333333333,
              "#9c179e"
             ],
             [
              0.4444444444444444,
              "#bd3786"
             ],
             [
              0.5555555555555556,
              "#d8576b"
             ],
             [
              0.6666666666666666,
              "#ed7953"
             ],
             [
              0.7777777777777778,
              "#fb9f3a"
             ],
             [
              0.8888888888888888,
              "#fdca26"
             ],
             [
              1,
              "#f0f921"
             ]
            ],
            "type": "heatmap"
           }
          ],
          "heatmapgl": [
           {
            "colorbar": {
             "outlinewidth": 0,
             "ticks": ""
            },
            "colorscale": [
             [
              0,
              "#0d0887"
             ],
             [
              0.1111111111111111,
              "#46039f"
             ],
             [
              0.2222222222222222,
              "#7201a8"
             ],
             [
              0.3333333333333333,
              "#9c179e"
             ],
             [
              0.4444444444444444,
              "#bd3786"
             ],
             [
              0.5555555555555556,
              "#d8576b"
             ],
             [
              0.6666666666666666,
              "#ed7953"
             ],
             [
              0.7777777777777778,
              "#fb9f3a"
             ],
             [
              0.8888888888888888,
              "#fdca26"
             ],
             [
              1,
              "#f0f921"
             ]
            ],
            "type": "heatmapgl"
           }
          ],
          "histogram": [
           {
            "marker": {
             "pattern": {
              "fillmode": "overlay",
              "size": 10,
              "solidity": 0.2
             }
            },
            "type": "histogram"
           }
          ],
          "histogram2d": [
           {
            "colorbar": {
             "outlinewidth": 0,
             "ticks": ""
            },
            "colorscale": [
             [
              0,
              "#0d0887"
             ],
             [
              0.1111111111111111,
              "#46039f"
             ],
             [
              0.2222222222222222,
              "#7201a8"
             ],
             [
              0.3333333333333333,
              "#9c179e"
             ],
             [
              0.4444444444444444,
              "#bd3786"
             ],
             [
              0.5555555555555556,
              "#d8576b"
             ],
             [
              0.6666666666666666,
              "#ed7953"
             ],
             [
              0.7777777777777778,
              "#fb9f3a"
             ],
             [
              0.8888888888888888,
              "#fdca26"
             ],
             [
              1,
              "#f0f921"
             ]
            ],
            "type": "histogram2d"
           }
          ],
          "histogram2dcontour": [
           {
            "colorbar": {
             "outlinewidth": 0,
             "ticks": ""
            },
            "colorscale": [
             [
              0,
              "#0d0887"
             ],
             [
              0.1111111111111111,
              "#46039f"
             ],
             [
              0.2222222222222222,
              "#7201a8"
             ],
             [
              0.3333333333333333,
              "#9c179e"
             ],
             [
              0.4444444444444444,
              "#bd3786"
             ],
             [
              0.5555555555555556,
              "#d8576b"
             ],
             [
              0.6666666666666666,
              "#ed7953"
             ],
             [
              0.7777777777777778,
              "#fb9f3a"
             ],
             [
              0.8888888888888888,
              "#fdca26"
             ],
             [
              1,
              "#f0f921"
             ]
            ],
            "type": "histogram2dcontour"
           }
          ],
          "mesh3d": [
           {
            "colorbar": {
             "outlinewidth": 0,
             "ticks": ""
            },
            "type": "mesh3d"
           }
          ],
          "parcoords": [
           {
            "line": {
             "colorbar": {
              "outlinewidth": 0,
              "ticks": ""
             }
            },
            "type": "parcoords"
           }
          ],
          "pie": [
           {
            "automargin": true,
            "type": "pie"
           }
          ],
          "scatter": [
           {
            "fillpattern": {
             "fillmode": "overlay",
             "size": 10,
             "solidity": 0.2
            },
            "type": "scatter"
           }
          ],
          "scatter3d": [
           {
            "line": {
             "colorbar": {
              "outlinewidth": 0,
              "ticks": ""
             }
            },
            "marker": {
             "colorbar": {
              "outlinewidth": 0,
              "ticks": ""
             }
            },
            "type": "scatter3d"
           }
          ],
          "scattercarpet": [
           {
            "marker": {
             "colorbar": {
              "outlinewidth": 0,
              "ticks": ""
             }
            },
            "type": "scattercarpet"
           }
          ],
          "scattergeo": [
           {
            "marker": {
             "colorbar": {
              "outlinewidth": 0,
              "ticks": ""
             }
            },
            "type": "scattergeo"
           }
          ],
          "scattergl": [
           {
            "marker": {
             "colorbar": {
              "outlinewidth": 0,
              "ticks": ""
             }
            },
            "type": "scattergl"
           }
          ],
          "scattermapbox": [
           {
            "marker": {
             "colorbar": {
              "outlinewidth": 0,
              "ticks": ""
             }
            },
            "type": "scattermapbox"
           }
          ],
          "scatterpolar": [
           {
            "marker": {
             "colorbar": {
              "outlinewidth": 0,
              "ticks": ""
             }
            },
            "type": "scatterpolar"
           }
          ],
          "scatterpolargl": [
           {
            "marker": {
             "colorbar": {
              "outlinewidth": 0,
              "ticks": ""
             }
            },
            "type": "scatterpolargl"
           }
          ],
          "scatterternary": [
           {
            "marker": {
             "colorbar": {
              "outlinewidth": 0,
              "ticks": ""
             }
            },
            "type": "scatterternary"
           }
          ],
          "surface": [
           {
            "colorbar": {
             "outlinewidth": 0,
             "ticks": ""
            },
            "colorscale": [
             [
              0,
              "#0d0887"
             ],
             [
              0.1111111111111111,
              "#46039f"
             ],
             [
              0.2222222222222222,
              "#7201a8"
             ],
             [
              0.3333333333333333,
              "#9c179e"
             ],
             [
              0.4444444444444444,
              "#bd3786"
             ],
             [
              0.5555555555555556,
              "#d8576b"
             ],
             [
              0.6666666666666666,
              "#ed7953"
             ],
             [
              0.7777777777777778,
              "#fb9f3a"
             ],
             [
              0.8888888888888888,
              "#fdca26"
             ],
             [
              1,
              "#f0f921"
             ]
            ],
            "type": "surface"
           }
          ],
          "table": [
           {
            "cells": {
             "fill": {
              "color": "#EBF0F8"
             },
             "line": {
              "color": "white"
             }
            },
            "header": {
             "fill": {
              "color": "#C8D4E3"
             },
             "line": {
              "color": "white"
             }
            },
            "type": "table"
           }
          ]
         },
         "layout": {
          "annotationdefaults": {
           "arrowcolor": "#2a3f5f",
           "arrowhead": 0,
           "arrowwidth": 1
          },
          "autotypenumbers": "strict",
          "coloraxis": {
           "colorbar": {
            "outlinewidth": 0,
            "ticks": ""
           }
          },
          "colorscale": {
           "diverging": [
            [
             0,
             "#8e0152"
            ],
            [
             0.1,
             "#c51b7d"
            ],
            [
             0.2,
             "#de77ae"
            ],
            [
             0.3,
             "#f1b6da"
            ],
            [
             0.4,
             "#fde0ef"
            ],
            [
             0.5,
             "#f7f7f7"
            ],
            [
             0.6,
             "#e6f5d0"
            ],
            [
             0.7,
             "#b8e186"
            ],
            [
             0.8,
             "#7fbc41"
            ],
            [
             0.9,
             "#4d9221"
            ],
            [
             1,
             "#276419"
            ]
           ],
           "sequential": [
            [
             0,
             "#0d0887"
            ],
            [
             0.1111111111111111,
             "#46039f"
            ],
            [
             0.2222222222222222,
             "#7201a8"
            ],
            [
             0.3333333333333333,
             "#9c179e"
            ],
            [
             0.4444444444444444,
             "#bd3786"
            ],
            [
             0.5555555555555556,
             "#d8576b"
            ],
            [
             0.6666666666666666,
             "#ed7953"
            ],
            [
             0.7777777777777778,
             "#fb9f3a"
            ],
            [
             0.8888888888888888,
             "#fdca26"
            ],
            [
             1,
             "#f0f921"
            ]
           ],
           "sequentialminus": [
            [
             0,
             "#0d0887"
            ],
            [
             0.1111111111111111,
             "#46039f"
            ],
            [
             0.2222222222222222,
             "#7201a8"
            ],
            [
             0.3333333333333333,
             "#9c179e"
            ],
            [
             0.4444444444444444,
             "#bd3786"
            ],
            [
             0.5555555555555556,
             "#d8576b"
            ],
            [
             0.6666666666666666,
             "#ed7953"
            ],
            [
             0.7777777777777778,
             "#fb9f3a"
            ],
            [
             0.8888888888888888,
             "#fdca26"
            ],
            [
             1,
             "#f0f921"
            ]
           ]
          },
          "colorway": [
           "#636efa",
           "#EF553B",
           "#00cc96",
           "#ab63fa",
           "#FFA15A",
           "#19d3f3",
           "#FF6692",
           "#B6E880",
           "#FF97FF",
           "#FECB52"
          ],
          "font": {
           "color": "#2a3f5f"
          },
          "geo": {
           "bgcolor": "white",
           "lakecolor": "white",
           "landcolor": "#E5ECF6",
           "showlakes": true,
           "showland": true,
           "subunitcolor": "white"
          },
          "hoverlabel": {
           "align": "left"
          },
          "hovermode": "closest",
          "mapbox": {
           "style": "light"
          },
          "paper_bgcolor": "white",
          "plot_bgcolor": "#E5ECF6",
          "polar": {
           "angularaxis": {
            "gridcolor": "white",
            "linecolor": "white",
            "ticks": ""
           },
           "bgcolor": "#E5ECF6",
           "radialaxis": {
            "gridcolor": "white",
            "linecolor": "white",
            "ticks": ""
           }
          },
          "scene": {
           "xaxis": {
            "backgroundcolor": "#E5ECF6",
            "gridcolor": "white",
            "gridwidth": 2,
            "linecolor": "white",
            "showbackground": true,
            "ticks": "",
            "zerolinecolor": "white"
           },
           "yaxis": {
            "backgroundcolor": "#E5ECF6",
            "gridcolor": "white",
            "gridwidth": 2,
            "linecolor": "white",
            "showbackground": true,
            "ticks": "",
            "zerolinecolor": "white"
           },
           "zaxis": {
            "backgroundcolor": "#E5ECF6",
            "gridcolor": "white",
            "gridwidth": 2,
            "linecolor": "white",
            "showbackground": true,
            "ticks": "",
            "zerolinecolor": "white"
           }
          },
          "shapedefaults": {
           "line": {
            "color": "#2a3f5f"
           }
          },
          "ternary": {
           "aaxis": {
            "gridcolor": "white",
            "linecolor": "white",
            "ticks": ""
           },
           "baxis": {
            "gridcolor": "white",
            "linecolor": "white",
            "ticks": ""
           },
           "bgcolor": "#E5ECF6",
           "caxis": {
            "gridcolor": "white",
            "linecolor": "white",
            "ticks": ""
           }
          },
          "title": {
           "x": 0.05
          },
          "xaxis": {
           "automargin": true,
           "gridcolor": "white",
           "linecolor": "white",
           "ticks": "",
           "title": {
            "standoff": 15
           },
           "zerolinecolor": "white",
           "zerolinewidth": 2
          },
          "yaxis": {
           "automargin": true,
           "gridcolor": "white",
           "linecolor": "white",
           "ticks": "",
           "title": {
            "standoff": 15
           },
           "zerolinecolor": "white",
           "zerolinewidth": 2
          }
         }
        },
        "title": {
         "text": "Citation comparison between different venues"
        },
        "width": 500,
        "xaxis": {
         "tickfont": {
          "size": 14
         }
        },
        "yaxis": {
         "tickfont": {
          "size": 14
         },
         "title": {
          "font": {
           "size": 16
          },
          "text": "Citation count"
         }
        }
       }
      }
     },
     "metadata": {},
     "output_type": "display_data"
    }
   ],
   "source": [
    "import plotly.graph_objects as go\n",
    "import numpy as np\n",
    "\n",
    "min_year = int(df_drop['Year'].min())\n",
    "max_year = int(df_drop['Year'].max())\n",
    "\n",
    "years = np.linspace(min_year, max_year, max_year - min_year + 1).tolist()\n",
    "\n",
    "fig = go.Figure()\n",
    "fig.add_trace(go.Bar(x=years,\n",
    "                y=get_citation(df_drop, 'Interspeech'),\n",
    "                name='Interspeech',\n",
    "                marker_color='rgb(55, 83, 109)'\n",
    "                ))\n",
    "fig.add_trace(go.Bar(x=years,\n",
    "                y=get_citation(df_drop, 'ArXiv'),\n",
    "                name='ArXiv',\n",
    "                marker_color='rgb(26, 118, 255)'\n",
    "                ))\n",
    "fig.add_trace(go.Bar(x=years,\n",
    "                y=get_citation(df_drop, 'IEEE International Conference on Acoustics, Speech, and Signal Processing'),\n",
    "                name='ICASSP',\n",
    "                marker_color='rgb(26, 118, 255)'\n",
    "                ))\n",
    "\n",
    "fig.update_layout(\n",
    "    title='Citation comparison between different venues',\n",
    "    xaxis_tickfont_size=14,\n",
    "    height = 450,\n",
    "    width = 500,\n",
    "    yaxis=dict(\n",
    "        title='Citation count',\n",
    "        titlefont_size=16,\n",
    "        tickfont_size=14,\n",
    "    ),\n",
    "    legend=dict(\n",
    "        x=0.8,\n",
    "        y=1.0,\n",
    "        bgcolor='rgba(255, 255, 255, 0)',\n",
    "        bordercolor='rgba(255, 255, 255, 0)'\n",
    "    ),\n",
    "    barmode='group',\n",
    "    bargap=0.15, # gap between bars of adjacent location coordinates.\n",
    "    bargroupgap=0.1 # gap between bars of the same location coordinate.\n",
    ")\n",
    "fig.show()"
   ]
  },
  {
   "cell_type": "code",
   "execution_count": 229,
   "metadata": {},
   "outputs": [
    {
     "data": {
      "text/html": [
       "<div>\n",
       "<style scoped>\n",
       "    .dataframe tbody tr th:only-of-type {\n",
       "        vertical-align: middle;\n",
       "    }\n",
       "\n",
       "    .dataframe tbody tr th {\n",
       "        vertical-align: top;\n",
       "    }\n",
       "\n",
       "    .dataframe thead th {\n",
       "        text-align: right;\n",
       "    }\n",
       "</style>\n",
       "<table border=\"1\" class=\"dataframe\">\n",
       "  <thead>\n",
       "    <tr style=\"text-align: right;\">\n",
       "      <th></th>\n",
       "      <th>total_bill</th>\n",
       "      <th>tip</th>\n",
       "      <th>sex</th>\n",
       "      <th>smoker</th>\n",
       "      <th>day</th>\n",
       "      <th>time</th>\n",
       "      <th>size</th>\n",
       "    </tr>\n",
       "  </thead>\n",
       "  <tbody>\n",
       "    <tr>\n",
       "      <th>0</th>\n",
       "      <td>16.99</td>\n",
       "      <td>1.01</td>\n",
       "      <td>Female</td>\n",
       "      <td>No</td>\n",
       "      <td>Sun</td>\n",
       "      <td>Dinner</td>\n",
       "      <td>2</td>\n",
       "    </tr>\n",
       "    <tr>\n",
       "      <th>1</th>\n",
       "      <td>10.34</td>\n",
       "      <td>1.66</td>\n",
       "      <td>Male</td>\n",
       "      <td>No</td>\n",
       "      <td>Sun</td>\n",
       "      <td>Dinner</td>\n",
       "      <td>3</td>\n",
       "    </tr>\n",
       "    <tr>\n",
       "      <th>2</th>\n",
       "      <td>21.01</td>\n",
       "      <td>3.50</td>\n",
       "      <td>Male</td>\n",
       "      <td>No</td>\n",
       "      <td>Sun</td>\n",
       "      <td>Dinner</td>\n",
       "      <td>3</td>\n",
       "    </tr>\n",
       "    <tr>\n",
       "      <th>3</th>\n",
       "      <td>23.68</td>\n",
       "      <td>3.31</td>\n",
       "      <td>Male</td>\n",
       "      <td>No</td>\n",
       "      <td>Sun</td>\n",
       "      <td>Dinner</td>\n",
       "      <td>2</td>\n",
       "    </tr>\n",
       "    <tr>\n",
       "      <th>4</th>\n",
       "      <td>24.59</td>\n",
       "      <td>3.61</td>\n",
       "      <td>Female</td>\n",
       "      <td>No</td>\n",
       "      <td>Sun</td>\n",
       "      <td>Dinner</td>\n",
       "      <td>4</td>\n",
       "    </tr>\n",
       "    <tr>\n",
       "      <th>...</th>\n",
       "      <td>...</td>\n",
       "      <td>...</td>\n",
       "      <td>...</td>\n",
       "      <td>...</td>\n",
       "      <td>...</td>\n",
       "      <td>...</td>\n",
       "      <td>...</td>\n",
       "    </tr>\n",
       "    <tr>\n",
       "      <th>239</th>\n",
       "      <td>29.03</td>\n",
       "      <td>5.92</td>\n",
       "      <td>Male</td>\n",
       "      <td>No</td>\n",
       "      <td>Sat</td>\n",
       "      <td>Dinner</td>\n",
       "      <td>3</td>\n",
       "    </tr>\n",
       "    <tr>\n",
       "      <th>240</th>\n",
       "      <td>27.18</td>\n",
       "      <td>2.00</td>\n",
       "      <td>Female</td>\n",
       "      <td>Yes</td>\n",
       "      <td>Sat</td>\n",
       "      <td>Dinner</td>\n",
       "      <td>2</td>\n",
       "    </tr>\n",
       "    <tr>\n",
       "      <th>241</th>\n",
       "      <td>22.67</td>\n",
       "      <td>2.00</td>\n",
       "      <td>Male</td>\n",
       "      <td>Yes</td>\n",
       "      <td>Sat</td>\n",
       "      <td>Dinner</td>\n",
       "      <td>2</td>\n",
       "    </tr>\n",
       "    <tr>\n",
       "      <th>242</th>\n",
       "      <td>17.82</td>\n",
       "      <td>1.75</td>\n",
       "      <td>Male</td>\n",
       "      <td>No</td>\n",
       "      <td>Sat</td>\n",
       "      <td>Dinner</td>\n",
       "      <td>2</td>\n",
       "    </tr>\n",
       "    <tr>\n",
       "      <th>243</th>\n",
       "      <td>18.78</td>\n",
       "      <td>3.00</td>\n",
       "      <td>Female</td>\n",
       "      <td>No</td>\n",
       "      <td>Thur</td>\n",
       "      <td>Dinner</td>\n",
       "      <td>2</td>\n",
       "    </tr>\n",
       "  </tbody>\n",
       "</table>\n",
       "<p>244 rows × 7 columns</p>\n",
       "</div>"
      ],
      "text/plain": [
       "     total_bill   tip     sex smoker   day    time  size\n",
       "0         16.99  1.01  Female     No   Sun  Dinner     2\n",
       "1         10.34  1.66    Male     No   Sun  Dinner     3\n",
       "2         21.01  3.50    Male     No   Sun  Dinner     3\n",
       "3         23.68  3.31    Male     No   Sun  Dinner     2\n",
       "4         24.59  3.61  Female     No   Sun  Dinner     4\n",
       "..          ...   ...     ...    ...   ...     ...   ...\n",
       "239       29.03  5.92    Male     No   Sat  Dinner     3\n",
       "240       27.18  2.00  Female    Yes   Sat  Dinner     2\n",
       "241       22.67  2.00    Male    Yes   Sat  Dinner     2\n",
       "242       17.82  1.75    Male     No   Sat  Dinner     2\n",
       "243       18.78  3.00  Female     No  Thur  Dinner     2\n",
       "\n",
       "[244 rows x 7 columns]"
      ]
     },
     "execution_count": 229,
     "metadata": {},
     "output_type": "execute_result"
    }
   ],
   "source": [
    "import plotly.express as px\n",
    "px.data.tips()"
   ]
  },
  {
   "cell_type": "code",
   "execution_count": 308,
   "metadata": {},
   "outputs": [
    {
     "data": {
      "text/plain": [
       "['ACM Trans. Asian Low Resour. Lang. Inf. Process.',\n",
       " 'American Journal of Medical Genetics. Part A',\n",
       " 'CHI Extended Abstracts',\n",
       " 'Orthodontics & craniofacial research',\n",
       " 'IEEE Access',\n",
       " 'Symmetry',\n",
       " 'IEEE International Workshop on Multimedia Signal Processing',\n",
       " 'Discourse Processes',\n",
       " 'International Conference on Human Factors in Computing Systems',\n",
       " 'Mathematical Problems in Engineering',\n",
       " 'International Journal of American Linguistics',\n",
       " 'Journal of Speech Sciences',\n",
       " 'Arab World English Journal',\n",
       " 'Applied Artificial Intelligence',\n",
       " 'IEEE International Solid-State Circuits Conference',\n",
       " 'Balkan Conference in Informatics',\n",
       " 'Frontiers in Human Neuroscience',\n",
       " 'The Laryngoscope',\n",
       " \"Alzheimer's & Dementia\",\n",
       " 'Traitement du signal',\n",
       " 'BMJ Case Reports',\n",
       " 'IEEE/SICE International Symposium on System Integration',\n",
       " 'Applied Psycholinguistics',\n",
       " 'Journal of Language and Social Psychology',\n",
       " 'KnE Social Sciences',\n",
       " 'Intercultural Pragmatics',\n",
       " 'Language, Speech & Hearing Services in Schools',\n",
       " 'IEEE International Symposium on Robot and Human Interactive Communication',\n",
       " 'Developmental Medicine & Child Neurology',\n",
       " 'Annual International Conference of the IEEE Engineering in Medicine and Biology Society',\n",
       " 'International Conference on Human-Agent Interaction',\n",
       " 'Philological Sciences Scientific Essays of Higher Education',\n",
       " 'South African Journal of Communication Disorders',\n",
       " 'Journal of Intelligent & Fuzzy Systems',\n",
       " 'ACM Conference on Hypertext & Social Media',\n",
       " 'Genes',\n",
       " 'ACS Applied Materials and Interfaces',\n",
       " 'Contrastive Pragmatics',\n",
       " 'SSRN Electronic Journal',\n",
       " 'Frontiers in Neurorobotics',\n",
       " 'Proceedings of the IEEE',\n",
       " 'Language, Cognition and Neuroscience',\n",
       " 'Perspectives on Politics',\n",
       " 'Neurobiology of Language',\n",
       " 'Religions',\n",
       " 'Revista Paulista de Pediatria',\n",
       " 'JAMA Network Open',\n",
       " 'Journal of Neurosurgery',\n",
       " 'IEEE Multimedia',\n",
       " 'International Symposium on Applied Machine Intelligence and Informatics',\n",
       " 'International Conference on Communication and Electronics Systems',\n",
       " 'IEEE Journal on Selected Topics in Signal Processing',\n",
       " 'Frontiers in Pediatrics',\n",
       " 'International Journal of Linguistics Literature & Translation',\n",
       " 'Journal of Intellectual Disability - Diagnosis and Treatment',\n",
       " 'Audiology and Speech Research',\n",
       " 'Language Teaching',\n",
       " 'Journal of Korean medical science',\n",
       " 'Frontiers in Physiology',\n",
       " 'Nauchnyi Dialog',\n",
       " 'Critical Discourse Studies',\n",
       " 'Utilitas',\n",
       " 'Social Psychology and Personality Science',\n",
       " 'PeerJ Computer Science',\n",
       " 'Movement Disorders',\n",
       " 'Stroke',\n",
       " 'English Education Journal',\n",
       " 'The journals of gerontology. Series B, Psychological sciences and social sciences',\n",
       " 'IEEE transactions on consumer electronics',\n",
       " 'Expert Review of Neurotherapeutics',\n",
       " 'Frontiers in Integrative Neuroscience',\n",
       " 'Frontiers in Aging Neuroscience',\n",
       " 'IEEE transactions on neural systems and rehabilitation engineering',\n",
       " 'Journal of Second Language Pronunciation',\n",
       " 'Schizophrenia bulletin',\n",
       " 'International Workshop on Spoken Language Translation',\n",
       " 'Cognitive Sciences',\n",
       " 'International Joint Conference on Artificial Intelligence',\n",
       " 'Logopedics, Phoniatrics, Vocology',\n",
       " 'IEEE Sensors Journal',\n",
       " 'International Conference on Pattern Recognition',\n",
       " 'Signal Processing and Communications Applications Conference',\n",
       " 'Global Conference on Life Sciences and Technologies',\n",
       " 'ICMI Companion',\n",
       " 'PLoS ONE',\n",
       " 'Politics and Governance',\n",
       " 'Age and Ageing',\n",
       " 'Infancy',\n",
       " 'Cerebral Cortex',\n",
       " 'Laryngoscope Investigative Otolaryngology',\n",
       " 'WNUT',\n",
       " 'Annals of the New York Academy of Sciences',\n",
       " 'Journal of Neural Engineering',\n",
       " 'IEEE International Joint Conference on Neural Network',\n",
       " 'International Conference on Machine Learning and Computing',\n",
       " 'Acoustics',\n",
       " 'International Journal of Bilingualism',\n",
       " 'Remote Sensing',\n",
       " 'Bilingualism: Language and Cognition',\n",
       " 'Brain Injury',\n",
       " 'Natural Language Engineering',\n",
       " 'International journal of language and communication disorders',\n",
       " 'Linguistics Vanguard',\n",
       " 'Journal of Imaging',\n",
       " 'International Journal of Environmental Research and Public Health',\n",
       " 'IEEE International Conference on Systems, Man and Cybernetics',\n",
       " 'Healthcare',\n",
       " 'IberSPEECH Conference',\n",
       " 'International Workshop on Information Forensics and Security',\n",
       " 'Plastic and Reconstructive Surgery, Global Open',\n",
       " 'American Journal of Audiology',\n",
       " 'Irish Signals and Systems Conference',\n",
       " 'Buildings',\n",
       " 'International Conference of Distributed Computing and Networking',\n",
       " 'Advances in Communication and Swallowing',\n",
       " 'Journal of Oral Rehabilitation',\n",
       " 'Annals of Indian Academy of Neurology',\n",
       " 'IEEE Transactions on Industrial Informatics',\n",
       " 'Iranian Journal of Otorhinolaryngology',\n",
       " 'IEEE/ACM Transactions on Audio Speech and Language Processing',\n",
       " 'International Conference on Data Technologies and Applications',\n",
       " 'Informatics',\n",
       " 'Journal of the Acoustical Society of America',\n",
       " 'Theory and Practice in Language Studies',\n",
       " \"Journal of Alzheimer's Disease\",\n",
       " 'Brain : a journal of neurology',\n",
       " 'Medicine',\n",
       " 'IEEE Internet of Things Journal',\n",
       " 'IEEE journal of biomedical and health informatics',\n",
       " 'Acta Oto-Laryngologica',\n",
       " 'Proceedings of the International Conference on Speech Prosody',\n",
       " 'JMIR Medical Informatics',\n",
       " 'JMIR Research Protocols',\n",
       " 'Societies',\n",
       " 'Perspectives on Political Science',\n",
       " 'Otolaryngology Head & Neck Surgery',\n",
       " 'IEEE Transactions on Circuits and Systems - II - Express Briefs',\n",
       " 'Journal of Personalized Medicine',\n",
       " 'Proc. ACM Hum. Comput. Interact.',\n",
       " 'Diagnostics',\n",
       " 'JMIR Serious Games',\n",
       " 'International Conference on Telecommunications and Signal Processing',\n",
       " 'ACM Multimedia',\n",
       " 'Annals of Plastic Surgery',\n",
       " 'Fire',\n",
       " 'North American Chapter of the Association for Computational Linguistics',\n",
       " 'Symposium on Dependable Autonomic and Secure Computing',\n",
       " 'Entropy',\n",
       " 'Child Language Teaching and Therapy',\n",
       " 'Phonetics and Speech Sciences',\n",
       " 'International Conference on Asian Language Processing',\n",
       " 'IEEE International Conference on Automatic Face & Gesture Recognition',\n",
       " 'European Journal of Neuroscience',\n",
       " 'Journal of Signal Processing',\n",
       " 'Developmental Science',\n",
       " 'Energies',\n",
       " 'Audiology Research',\n",
       " 'International Conference on Machine Learning',\n",
       " 'Conference on Empirical Methods in Natural Language Processing',\n",
       " 'Social Media + Society',\n",
       " 'Journal of Physics: Conference Series',\n",
       " 'Microsurgery',\n",
       " 'Multisensory Research',\n",
       " 'Litera',\n",
       " 'Annual International Computer Software and Applications Conference',\n",
       " 'National Conference on Communications',\n",
       " 'IEEE Workshop/Winter Conference on Applications of Computer Vision',\n",
       " 'Augmentative and Alternative Communication : AAC',\n",
       " 'International Conference on Information Photonics',\n",
       " 'IEEE Transactions on Emerging Topics in Computational Intelligence',\n",
       " 'Schizophrenia Bulletin Open',\n",
       " 'First Monday',\n",
       " 'Conference of the Open Innovations Association',\n",
       " 'Scientific Programming',\n",
       " 'Human Brain Mapping',\n",
       " 'Frontiers in Robotics and AI',\n",
       " 'Cancers',\n",
       " 'Kajian Linguistik dan Sastra',\n",
       " 'Second Language Research',\n",
       " 'Journal of Interpersonal Violence',\n",
       " 'Applied Sciences',\n",
       " 'Seminars in Speech and Language',\n",
       " 'IEEE Transactions on Circuits and Systems Part 1: Regular Papers',\n",
       " 'Journal of Language Teaching and Research',\n",
       " 'IEEE Transactions on Cognitive and Developmental Systems',\n",
       " 'Medical Informatics Europe',\n",
       " 'International Journal of Telerehabilitation',\n",
       " 'Complex',\n",
       " 'SAGE Open',\n",
       " 'International Conference on Intelligent Virtual Agents',\n",
       " 'AAAI Conference on Artificial Intelligence',\n",
       " 'Journal of Computacion y Sistemas',\n",
       " 'Journal of Speech, Language and Hearing Research',\n",
       " 'International Conference Computing Methodologies and Communication',\n",
       " 'International Workshop on Semantic Evaluation',\n",
       " 'Frontiers in Communication',\n",
       " 'Perspectives on Psychological Science',\n",
       " 'The Web Conference',\n",
       " 'International Conference Electronic Systems, Signal Processing and Computing Technologies [ICESC-]',\n",
       " 'The Cleft Palate-Craniofacial Journal',\n",
       " 'TELKOMNIKA (Telecommunication Computing Electronics and Control)',\n",
       " 'Wiley Interdisciplinary Reviews: Cognitive Science',\n",
       " 'Brain Communications',\n",
       " 'Medicina',\n",
       " 'Ear and Hearing',\n",
       " 'Journal of Intelligent Systems',\n",
       " 'Autism',\n",
       " 'International Conference on Learning Representations',\n",
       " 'IEEE/ACM International Conference on Human-Robot Interaction',\n",
       " 'International Conference Intelligent Computing and Control Systems',\n",
       " 'medRxiv',\n",
       " 'Journal of Neuroscience',\n",
       " 'Proceedings of the National Academy of Sciences of the United States of America',\n",
       " 'Journal of Tikrit University for the Humanities',\n",
       " 'Frontiers in Genetics',\n",
       " 'Italian National Conference on Sensors',\n",
       " 'Diabetes Spectrum',\n",
       " 'Journal of Interprofessional Care',\n",
       " 'Proceedings of the National Academy of Sciences',\n",
       " 'eLife',\n",
       " 'Electronics',\n",
       " 'The Mental Lexicon',\n",
       " 'Computer Vision and Pattern Recognition',\n",
       " 'Language Teaching Research',\n",
       " 'ACM Symposium on User Interface Software and Technology',\n",
       " 'IEEE Transactions on Cybernetics',\n",
       " 'Behavioural Neurology',\n",
       " 'International Conference on Automation and Computing',\n",
       " 'Vestnik of Samara University History pedagogics philology',\n",
       " 'AUTOSIMTRANS',\n",
       " 'Journal of Language and Politics',\n",
       " 'Automation, Control, and Information Technology',\n",
       " 'International Workshop on Quality of Multimedia Experience',\n",
       " 'Ear, nose, & throat journal',\n",
       " 'International Journal of Modern Languages And Applied Linguistics',\n",
       " 'Knowledge Discovery and Data Mining',\n",
       " 'IEEE India Conference',\n",
       " 'Clinical Genetics',\n",
       " 'Clinical Otolaryngology',\n",
       " 'The Journal of craniofacial surgery (Print)',\n",
       " 'The Compass',\n",
       " 'IEEE Transactions on Computational Social Systems',\n",
       " 'IEEE International Conference on Consumer Electronics',\n",
       " 'Neurophotonics',\n",
       " 'Psychology Science',\n",
       " 'Findings',\n",
       " 'Laboratory Phonology',\n",
       " 'Developmental Neurorehabilitation',\n",
       " 'Jurnal penelitian humaniora',\n",
       " 'International ACM SIGACCESS Conference on Computers and Accessibility',\n",
       " 'IEEE Transactions on Affective Computing',\n",
       " 'Perspectives of the ASHA Special Interest Groups',\n",
       " 'Autism Research',\n",
       " 'Oriental COCOSDA International Conference on Speech Database and Assessments',\n",
       " 'Journal of Audiology & Otology',\n",
       " 'The social science',\n",
       " 'Journal of Artificial Intelligence Research',\n",
       " 'Biology Letters',\n",
       " 'BMJ Open',\n",
       " 'Child Development',\n",
       " 'Global Conference on Consumer Electronics',\n",
       " 'Neurology',\n",
       " 'Psychophysiology',\n",
       " 'Conference on Computer and Communications Security',\n",
       " 'IEEE Conference on Virtual Reality and 3D User Interfaces',\n",
       " 'International Journal on Recent and Innovation Trends in Computing and Communication',\n",
       " 'Frontiers in Digital Health',\n",
       " 'Frontiers of Computer Science',\n",
       " 'International Congress on Information and Communication Technology',\n",
       " 'Frontiers for Young Minds',\n",
       " 'Multimodal Technologies and Interaction',\n",
       " 'ACM Transactions on Graphics',\n",
       " 'Journal of Monolingual and Bilingual Speech',\n",
       " 'British Journal of Political Science',\n",
       " 'Otology and Neurotology',\n",
       " 'Frontiers in Education',\n",
       " 'Pragmatics and Society',\n",
       " 'The Australian journal of rural health',\n",
       " 'Autism & Developmental Language Impairments',\n",
       " 'The journal of international advanced otology',\n",
       " 'International Symposium on Cooperative Database Systems for Advanced Applications',\n",
       " 'Children',\n",
       " 'Journal of Neurology Neurosurgery & Psychiatry',\n",
       " 'Indonesian Journal of Electrical Engineering and Computer Science',\n",
       " 'ACM Computing Surveys',\n",
       " 'International Journal of Audiology',\n",
       " 'International Journal of Stroke',\n",
       " 'Hearing Research',\n",
       " 'Annual Review of Applied Linguistics',\n",
       " 'Disability and Rehabilitation',\n",
       " 'The Quarterly journal of speech',\n",
       " 'Disability and Rehabilitation: Assistive Technology',\n",
       " 'Speech Language and Hearing',\n",
       " 'Mathematics',\n",
       " 'Future Internet',\n",
       " 'Frontiers in Artificial Intelligence',\n",
       " 'Studies in Second Language Acquisition',\n",
       " 'Frontiers in Neurology',\n",
       " 'IEEE Transactions on Dependable and Secure Computing',\n",
       " 'World Journal of Clinical Cases',\n",
       " 'Developmental Psychology',\n",
       " 'User Modeling, Adaptation, and Personalization',\n",
       " 'Journal of american academy of audiology',\n",
       " 'Algorithms',\n",
       " 'Russian Language Studies',\n",
       " 'ACM Symposium on Applied Computing',\n",
       " 'Hearing Balance and Communication',\n",
       " 'bioRxiv',\n",
       " 'The Florida AI Research Society',\n",
       " 'Cureus',\n",
       " 'International Journal of English Linguistics',\n",
       " 'Inf.',\n",
       " 'Revista Romaneasca pentru Educatie Multidimensionala',\n",
       " 'IEEE Transactions on Pattern Analysis and Machine Intelligence',\n",
       " 'IEEE Symposium on Security and Privacy',\n",
       " 'International Conference on Information and Communicatiaon Technology',\n",
       " 'eNeuro',\n",
       " 'Muscle and Nerve',\n",
       " 'Journal of Experimental Psychology. Learning, Memory and Cognition',\n",
       " 'JASA Express Letters',\n",
       " 'Cochlear Implants International',\n",
       " 'International Journal of Emerging Technologies in Learning (iJET)',\n",
       " 'International Conference on Data Science in Cyberspace',\n",
       " 'Spoken Language Technology Workshop',\n",
       " 'Science',\n",
       " 'Conference on Designing Interactive Systems',\n",
       " 'COMPUTEL',\n",
       " 'International Archives of Otorhinolaryngology',\n",
       " 'Proceedings of the ACM on Interactive Mobile Wearable and Ubiquitous Technologies',\n",
       " 'International Conference on Computational Collective Intelligence',\n",
       " 'International Conference on Computing Communication and Networking Technologies',\n",
       " 'Archives of Disease in Childhood',\n",
       " 'International Conference on Computer Science and Information Technologies',\n",
       " 'International Symposium on Chinese Spoken Language Processing',\n",
       " 'Journal of information science',\n",
       " 'American Journal of Speech-Language Pathology',\n",
       " 'JAMA Otolaryngology - Head and Neck Surgery',\n",
       " 'Bulletin of Electrical Engineering and Informatics',\n",
       " 'European Signal Processing Conference',\n",
       " 'Journal of Clinical Medicine',\n",
       " 'Journal of Child Language',\n",
       " 'Frontiers in Psychology',\n",
       " 'Journal of Applied Behavior Analysis',\n",
       " 'Russian Journal of Linguistics',\n",
       " 'Journal of Learning Disabilities',\n",
       " 'Emotion',\n",
       " 'IEEE Transactions on Neural Networks and Learning Systems',\n",
       " 'Seminars in Hearing',\n",
       " 'Linguistika',\n",
       " 'Brain Science',\n",
       " 'Aphasiology',\n",
       " 'International Conference on Language Resources and Evaluation',\n",
       " 'Wireless Communications and Mobile Computing',\n",
       " 'First language',\n",
       " 'International Journal of Practice-based Learning in Health and Social Care',\n",
       " 'APSIPA Transactions on Signal and Information Processing',\n",
       " 'Adv. Robotics',\n",
       " 'Journal of Experimental Psychology: Human Perception and Performance',\n",
       " 'International Journal for Research in Applied Science and Engineering Technology',\n",
       " 'Clinical Linguistics & Phonetics',\n",
       " 'Journal of Cognitive Neuroscience',\n",
       " 'WOAH',\n",
       " 'Applied neuropsychology. Adult',\n",
       " 'Frontiers in Neuroscience',\n",
       " 'International Conference on Information and Knowledge Management',\n",
       " 'Language and Speech',\n",
       " 'Sustainability',\n",
       " 'Conference on Research, Innovation and Vision for the Future in Computing & Communication Technologies',\n",
       " 'International Review of Applied Linguistics in Language Teaching',\n",
       " 'Proceedings on Privacy Enhancing Technologies',\n",
       " 'Frontiers in Psychiatry',\n",
       " 'International Journal of Speech-Language Pathology',\n",
       " 'IEEE International Conference on Multimedia and Expo',\n",
       " 'Language in society',\n",
       " 'English Language and Linguistics',\n",
       " 'IEEE Journal of Solid-State Circuits',\n",
       " 'Royal Society Open Science',\n",
       " 'ACM Transactions on Accessible Computing',\n",
       " 'International Computer Science Conference',\n",
       " 'IMX',\n",
       " 'ACM International Conference on Embedded Networked Sensor Systems',\n",
       " 'Languages',\n",
       " 'International Conference on Learning Analytics and Knowledge',\n",
       " 'International Journal of Molecular Sciences',\n",
       " 'International Conference on Innovative Computing and Cloud Computing',\n",
       " 'IEEE Region 10 Conference',\n",
       " 'International Journal of Electrical and Computer Engineering (IJECE)',\n",
       " 'Acoustical Science and Technology',\n",
       " 'Building Acoustics',\n",
       " 'IEEE Open Journal of Engineering in Medicine and Biology',\n",
       " 'Folia Phoniatrica et Logopaedica',\n",
       " 'Frontiers in Public Health',\n",
       " 'International Conference on Web and Social Media',\n",
       " 'ACM Transactions on Asian and Low-Resource Language Information Processing',\n",
       " 'JMIR Mental Health',\n",
       " 'Trends in Hearing',\n",
       " 'European psychiatry',\n",
       " 'PLoS Biology',\n",
       " 'IEEE Transactions on Visualization and Computer Graphics',\n",
       " 'American Political Science Review',\n",
       " 'International Conference on Computational Linguistics',\n",
       " 'Communication Disorders Quarterly',\n",
       " 'IEEE Transactions on Artificial Intelligence',\n",
       " 'IEEE Transactions on Biomedical Engineering',\n",
       " 'Plastic and Reconstructive Surgery',\n",
       " 'Quarterly Journal of Experimental Psychology',\n",
       " 'International Conference on Intelligent User Interfaces',\n",
       " 'voice and speech review',\n",
       " 'Head and Neck',\n",
       " 'Audiology and Neurotology',\n",
       " 'Transactions of the Association for Computational Linguistics',\n",
       " 'PLoS Comput. Biol.',\n",
       " 'Ciência & Saúde Coletiva',\n",
       " 'Annals of Otology, Rhinology and Laryngology',\n",
       " 'Journal of Child Neurology',\n",
       " 'IEEE International Conference on Signal and Image Processing',\n",
       " 'XLinguae',\n",
       " 'GERAM',\n",
       " 'IEEE Signal Processing Letters',\n",
       " 'The Speaker and Language Recognition Workshop',\n",
       " 'IUI Companion',\n",
       " 'Cerebral Cortex Communications',\n",
       " 'Asia-Pacific Signal and Information Processing Association Annual Summit and Conference',\n",
       " 'F1000Research',\n",
       " 'Topics in Cognitive Science',\n",
       " 'International Conference on Multimodal Interaction',\n",
       " 'Journal of Neurophysiology',\n",
       " 'Cyberpsychology, Behavior, and Social Networking',\n",
       " 'Language',\n",
       " 'International Conference on Big Data and Smart Computing']"
      ]
     },
     "execution_count": 308,
     "metadata": {},
     "output_type": "execute_result"
    }
   ],
   "source": [
    "sub_list"
   ]
  },
  {
   "cell_type": "code",
   "execution_count": 309,
   "metadata": {},
   "outputs": [
    {
     "data": {
      "text/plain": [
       "['Interspeech',\n",
       " 'IEEE International Conference on Acoustics, Speech, and Signal Processing',\n",
       " 'ArXiv',\n",
       " 'Neural Information Processing Systems',\n",
       " 'Annual Meeting of the Association for Computational Linguistics']"
      ]
     },
     "execution_count": 309,
     "metadata": {},
     "output_type": "execute_result"
    }
   ],
   "source": [
    "first_five"
   ]
  },
  {
   "cell_type": "code",
   "execution_count": 359,
   "metadata": {},
   "outputs": [
    {
     "data": {
      "text/html": [
       "<div>\n",
       "<style scoped>\n",
       "    .dataframe tbody tr th:only-of-type {\n",
       "        vertical-align: middle;\n",
       "    }\n",
       "\n",
       "    .dataframe tbody tr th {\n",
       "        vertical-align: top;\n",
       "    }\n",
       "\n",
       "    .dataframe thead th {\n",
       "        text-align: right;\n",
       "    }\n",
       "</style>\n",
       "<table border=\"1\" class=\"dataframe\">\n",
       "  <thead>\n",
       "    <tr style=\"text-align: right;\">\n",
       "      <th></th>\n",
       "      <th>Title</th>\n",
       "      <th>Author Name</th>\n",
       "      <th>Date</th>\n",
       "      <th>Abstract</th>\n",
       "      <th>Paper Citation Count</th>\n",
       "      <th>Venue</th>\n",
       "      <th>Fields Of Study</th>\n",
       "      <th>Year</th>\n",
       "    </tr>\n",
       "  </thead>\n",
       "  <tbody>\n",
       "    <tr>\n",
       "      <th>0</th>\n",
       "      <td>End-To-End Speech Recognition with Joint Derev...</td>\n",
       "      <td>Rohit Kumar, Anurenjan Purushothaman, A. Sreer...</td>\n",
       "      <td>2021-08-09</td>\n",
       "      <td>The end-to-end (E2E) automatic speech recognit...</td>\n",
       "      <td>0</td>\n",
       "      <td>IEEE International Conference on Acoustics, Sp...</td>\n",
       "      <td>['Computer Science', 'Engineering']</td>\n",
       "      <td>2021</td>\n",
       "    </tr>\n",
       "    <tr>\n",
       "      <th>1</th>\n",
       "      <td>Towards Disentangled Speech Representations</td>\n",
       "      <td>Cal Peyser, Ronny Huang Andrew Rosenberg Tara ...</td>\n",
       "      <td>2022-08-28</td>\n",
       "      <td>The careful construction of audio representati...</td>\n",
       "      <td>0</td>\n",
       "      <td>Interspeech</td>\n",
       "      <td>['Computer Science', 'Engineering']</td>\n",
       "      <td>2022</td>\n",
       "    </tr>\n",
       "    <tr>\n",
       "      <th>2</th>\n",
       "      <td>Interpretable Multimodal Emotion Recognition u...</td>\n",
       "      <td>Puneet Kumar, Sarthak Malik, B. Raman,</td>\n",
       "      <td>2022-08-25</td>\n",
       "      <td>This paper proposes a multimodal emotion recog...</td>\n",
       "      <td>0</td>\n",
       "      <td>ArXiv</td>\n",
       "      <td>['Computer Science', 'Engineering']</td>\n",
       "      <td>2022</td>\n",
       "    </tr>\n",
       "    <tr>\n",
       "      <th>3</th>\n",
       "      <td>Hybrid Fusion Based Interpretable Multimodal E...</td>\n",
       "      <td>Puneet Kumar, Sarthak Malik, B. Raman,</td>\n",
       "      <td>2022-08-24</td>\n",
       "      <td>This paper proposes a multimodal emotion recog...</td>\n",
       "      <td>0</td>\n",
       "      <td>ArXiv</td>\n",
       "      <td>['Computer Science']</td>\n",
       "      <td>2022</td>\n",
       "    </tr>\n",
       "    <tr>\n",
       "      <th>4</th>\n",
       "      <td>Detect Hate Speech in Unseen Domains using Mul...</td>\n",
       "      <td>Lanqin Yuan, Marian-Andrei Rizoiu,</td>\n",
       "      <td>2022-08-22</td>\n",
       "      <td>Automatic identification of hateful and abusiv...</td>\n",
       "      <td>0</td>\n",
       "      <td>ArXiv</td>\n",
       "      <td>['Computer Science']</td>\n",
       "      <td>2022</td>\n",
       "    </tr>\n",
       "    <tr>\n",
       "      <th>...</th>\n",
       "      <td>...</td>\n",
       "      <td>...</td>\n",
       "      <td>...</td>\n",
       "      <td>...</td>\n",
       "      <td>...</td>\n",
       "      <td>...</td>\n",
       "      <td>...</td>\n",
       "      <td>...</td>\n",
       "    </tr>\n",
       "    <tr>\n",
       "      <th>4659</th>\n",
       "      <td>HiFi-GAN: Generative Adversarial Networks for ...</td>\n",
       "      <td>Jungil Kong, Jaehyeon Kim, Jaekyoung Bae,</td>\n",
       "      <td>2020-10-12</td>\n",
       "      <td>Several recent work on speech synthesis have e...</td>\n",
       "      <td>505</td>\n",
       "      <td>Neural Information Processing Systems</td>\n",
       "      <td>['Computer Science', 'Engineering']</td>\n",
       "      <td>2020</td>\n",
       "    </tr>\n",
       "    <tr>\n",
       "      <th>4660</th>\n",
       "      <td>Switch Transformers: Scaling to Trillion Param...</td>\n",
       "      <td>W. Fedus, Barret Zoph, Noam M. Shazeer,</td>\n",
       "      <td>2021-01-11</td>\n",
       "      <td>In deep learning, models typically reuse the s...</td>\n",
       "      <td>598</td>\n",
       "      <td>ArXiv</td>\n",
       "      <td>['Computer Science']</td>\n",
       "      <td>2021</td>\n",
       "    </tr>\n",
       "    <tr>\n",
       "      <th>4661</th>\n",
       "      <td>Stanza: A Python Natural Language Processing T...</td>\n",
       "      <td>Peng Qi, Yuhao Zhang, Yuhui Zhang, Jason Bolto...</td>\n",
       "      <td>2020-03-16</td>\n",
       "      <td>We introduce Stanza, an open-source Python nat...</td>\n",
       "      <td>810</td>\n",
       "      <td>Annual Meeting of the Association for Computat...</td>\n",
       "      <td>['Computer Science']</td>\n",
       "      <td>2020</td>\n",
       "    </tr>\n",
       "    <tr>\n",
       "      <th>4662</th>\n",
       "      <td>Conformer: Convolution-augmented Transformer f...</td>\n",
       "      <td>Anmol Gulati, James Qin, C. Chiu, Niki Parmar,...</td>\n",
       "      <td>2020-05-16</td>\n",
       "      <td>Recently Transformer and Convolution neural ne...</td>\n",
       "      <td>1099</td>\n",
       "      <td>Interspeech</td>\n",
       "      <td>['Computer Science', 'Engineering']</td>\n",
       "      <td>2020</td>\n",
       "    </tr>\n",
       "    <tr>\n",
       "      <th>4663</th>\n",
       "      <td>wav2vec 2.0: A Framework for Self-Supervised L...</td>\n",
       "      <td>Alexei Baevski, Henry Zhou, Abdel-rahman Moham...</td>\n",
       "      <td>2020-06-20</td>\n",
       "      <td>We show for the first time that learning power...</td>\n",
       "      <td>1633</td>\n",
       "      <td>Neural Information Processing Systems</td>\n",
       "      <td>['Computer Science', 'Engineering']</td>\n",
       "      <td>2020</td>\n",
       "    </tr>\n",
       "  </tbody>\n",
       "</table>\n",
       "<p>4664 rows × 8 columns</p>\n",
       "</div>"
      ],
      "text/plain": [
       "                                                  Title  \\\n",
       "0     End-To-End Speech Recognition with Joint Derev...   \n",
       "1           Towards Disentangled Speech Representations   \n",
       "2     Interpretable Multimodal Emotion Recognition u...   \n",
       "3     Hybrid Fusion Based Interpretable Multimodal E...   \n",
       "4     Detect Hate Speech in Unseen Domains using Mul...   \n",
       "...                                                 ...   \n",
       "4659  HiFi-GAN: Generative Adversarial Networks for ...   \n",
       "4660  Switch Transformers: Scaling to Trillion Param...   \n",
       "4661  Stanza: A Python Natural Language Processing T...   \n",
       "4662  Conformer: Convolution-augmented Transformer f...   \n",
       "4663  wav2vec 2.0: A Framework for Self-Supervised L...   \n",
       "\n",
       "                                            Author Name        Date  \\\n",
       "0     Rohit Kumar, Anurenjan Purushothaman, A. Sreer...  2021-08-09   \n",
       "1     Cal Peyser, Ronny Huang Andrew Rosenberg Tara ...  2022-08-28   \n",
       "2                Puneet Kumar, Sarthak Malik, B. Raman,  2022-08-25   \n",
       "3                Puneet Kumar, Sarthak Malik, B. Raman,  2022-08-24   \n",
       "4                    Lanqin Yuan, Marian-Andrei Rizoiu,  2022-08-22   \n",
       "...                                                 ...         ...   \n",
       "4659          Jungil Kong, Jaehyeon Kim, Jaekyoung Bae,  2020-10-12   \n",
       "4660            W. Fedus, Barret Zoph, Noam M. Shazeer,  2021-01-11   \n",
       "4661  Peng Qi, Yuhao Zhang, Yuhui Zhang, Jason Bolto...  2020-03-16   \n",
       "4662  Anmol Gulati, James Qin, C. Chiu, Niki Parmar,...  2020-05-16   \n",
       "4663  Alexei Baevski, Henry Zhou, Abdel-rahman Moham...  2020-06-20   \n",
       "\n",
       "                                               Abstract  Paper Citation Count  \\\n",
       "0     The end-to-end (E2E) automatic speech recognit...                     0   \n",
       "1     The careful construction of audio representati...                     0   \n",
       "2     This paper proposes a multimodal emotion recog...                     0   \n",
       "3     This paper proposes a multimodal emotion recog...                     0   \n",
       "4     Automatic identification of hateful and abusiv...                     0   \n",
       "...                                                 ...                   ...   \n",
       "4659  Several recent work on speech synthesis have e...                   505   \n",
       "4660  In deep learning, models typically reuse the s...                   598   \n",
       "4661  We introduce Stanza, an open-source Python nat...                   810   \n",
       "4662  Recently Transformer and Convolution neural ne...                  1099   \n",
       "4663  We show for the first time that learning power...                  1633   \n",
       "\n",
       "                                                  Venue  \\\n",
       "0     IEEE International Conference on Acoustics, Sp...   \n",
       "1                                           Interspeech   \n",
       "2                                                 ArXiv   \n",
       "3                                                 ArXiv   \n",
       "4                                                 ArXiv   \n",
       "...                                                 ...   \n",
       "4659              Neural Information Processing Systems   \n",
       "4660                                              ArXiv   \n",
       "4661  Annual Meeting of the Association for Computat...   \n",
       "4662                                        Interspeech   \n",
       "4663              Neural Information Processing Systems   \n",
       "\n",
       "                          Fields Of Study  Year  \n",
       "0     ['Computer Science', 'Engineering']  2021  \n",
       "1     ['Computer Science', 'Engineering']  2022  \n",
       "2     ['Computer Science', 'Engineering']  2022  \n",
       "3                    ['Computer Science']  2022  \n",
       "4                    ['Computer Science']  2022  \n",
       "...                                   ...   ...  \n",
       "4659  ['Computer Science', 'Engineering']  2020  \n",
       "4660                 ['Computer Science']  2021  \n",
       "4661                 ['Computer Science']  2020  \n",
       "4662  ['Computer Science', 'Engineering']  2020  \n",
       "4663  ['Computer Science', 'Engineering']  2020  \n",
       "\n",
       "[4664 rows x 8 columns]"
      ]
     },
     "execution_count": 359,
     "metadata": {},
     "output_type": "execute_result"
    }
   ],
   "source": [
    "df_clean = df_drop[df_drop['Venue'].isin(first_five)].sort_values('Paper Citation Count').reset_index().drop(['index'], axis=1)#.to_csv('./test.csv')\n",
    "df_clean"
   ]
  },
  {
   "cell_type": "code",
   "execution_count": 361,
   "metadata": {},
   "outputs": [
    {
     "name": "stderr",
     "output_type": "stream",
     "text": [
      "/var/folders/_1/mldb2lvd6w35g10qsjdthy0m0000gn/T/ipykernel_23111/865051993.py:1: FutureWarning:\n",
      "\n",
      "The default value of numeric_only in DataFrameGroupBy.sum is deprecated. In a future version, numeric_only will default to False. Either specify numeric_only or select only columns which should be valid for the function.\n",
      "\n"
     ]
    },
    {
     "data": {
      "text/html": [
       "<div>\n",
       "<style scoped>\n",
       "    .dataframe tbody tr th:only-of-type {\n",
       "        vertical-align: middle;\n",
       "    }\n",
       "\n",
       "    .dataframe tbody tr th {\n",
       "        vertical-align: top;\n",
       "    }\n",
       "\n",
       "    .dataframe thead th {\n",
       "        text-align: right;\n",
       "    }\n",
       "</style>\n",
       "<table border=\"1\" class=\"dataframe\">\n",
       "  <thead>\n",
       "    <tr style=\"text-align: right;\">\n",
       "      <th></th>\n",
       "      <th>Paper Citation Count</th>\n",
       "    </tr>\n",
       "    <tr>\n",
       "      <th>Venue</th>\n",
       "      <th></th>\n",
       "    </tr>\n",
       "  </thead>\n",
       "  <tbody>\n",
       "    <tr>\n",
       "      <th>Annual Meeting of the Association for Computational Linguistics</th>\n",
       "      <td>2981</td>\n",
       "    </tr>\n",
       "    <tr>\n",
       "      <th>ArXiv</th>\n",
       "      <td>8081</td>\n",
       "    </tr>\n",
       "    <tr>\n",
       "      <th>IEEE International Conference on Acoustics, Speech, and Signal Processing</th>\n",
       "      <td>13921</td>\n",
       "    </tr>\n",
       "    <tr>\n",
       "      <th>Interspeech</th>\n",
       "      <td>17999</td>\n",
       "    </tr>\n",
       "    <tr>\n",
       "      <th>Neural Information Processing Systems</th>\n",
       "      <td>3497</td>\n",
       "    </tr>\n",
       "  </tbody>\n",
       "</table>\n",
       "</div>"
      ],
      "text/plain": [
       "                                                    Paper Citation Count\n",
       "Venue                                                                   \n",
       "Annual Meeting of the Association for Computati...                  2981\n",
       "ArXiv                                                               8081\n",
       "IEEE International Conference on Acoustics, Spe...                 13921\n",
       "Interspeech                                                        17999\n",
       "Neural Information Processing Systems                               3497"
      ]
     },
     "execution_count": 361,
     "metadata": {},
     "output_type": "execute_result"
    }
   ],
   "source": [
    "df_clean.groupby('Venue').sum()"
   ]
  },
  {
   "cell_type": "code",
   "execution_count": 319,
   "metadata": {},
   "outputs": [
    {
     "data": {
      "text/html": [
       "<div>\n",
       "<style scoped>\n",
       "    .dataframe tbody tr th:only-of-type {\n",
       "        vertical-align: middle;\n",
       "    }\n",
       "\n",
       "    .dataframe tbody tr th {\n",
       "        vertical-align: top;\n",
       "    }\n",
       "\n",
       "    .dataframe thead th {\n",
       "        text-align: right;\n",
       "    }\n",
       "</style>\n",
       "<table border=\"1\" class=\"dataframe\">\n",
       "  <thead>\n",
       "    <tr style=\"text-align: right;\">\n",
       "      <th></th>\n",
       "      <th>Title</th>\n",
       "      <th>Author Name</th>\n",
       "      <th>Date</th>\n",
       "      <th>Abstract</th>\n",
       "      <th>Paper Citation Count</th>\n",
       "      <th>Venue</th>\n",
       "      <th>Year</th>\n",
       "    </tr>\n",
       "  </thead>\n",
       "  <tbody>\n",
       "    <tr>\n",
       "      <th>2406</th>\n",
       "      <td>Conformer: Convolution-augmented Transformer f...</td>\n",
       "      <td>Anmol Gulati, James Qin, C. Chiu, Niki Parmar,...</td>\n",
       "      <td>2020-05-16</td>\n",
       "      <td>Recently Transformer and Convolution neural ne...</td>\n",
       "      <td>1099</td>\n",
       "      <td>Interspeech</td>\n",
       "      <td>2020</td>\n",
       "    </tr>\n",
       "    <tr>\n",
       "      <th>8740</th>\n",
       "      <td>SUPERB: Speech processing Universal PERformanc...</td>\n",
       "      <td>Shu-wen Yang, Po-Han Chi, Yung-Sung Chuang, Ch...</td>\n",
       "      <td>2021-05-03</td>\n",
       "      <td>Self-supervised learning (SSL) has proven vita...</td>\n",
       "      <td>267</td>\n",
       "      <td>Interspeech</td>\n",
       "      <td>2021</td>\n",
       "    </tr>\n",
       "    <tr>\n",
       "      <th>3160</th>\n",
       "      <td>Unsupervised Cross-lingual Representation Lear...</td>\n",
       "      <td>Alexis Conneau, Alexei Baevski, Ronan Collober...</td>\n",
       "      <td>2020-06-24</td>\n",
       "      <td>This paper presents XLSR which learns cross-li...</td>\n",
       "      <td>265</td>\n",
       "      <td>Interspeech</td>\n",
       "      <td>2020</td>\n",
       "    </tr>\n",
       "    <tr>\n",
       "      <th>3856</th>\n",
       "      <td>DCCRN: Deep Complex Convolution Recurrent Netw...</td>\n",
       "      <td>Yanxin Hu, Yun Liu, Shubo Lv, Mengtao Xing, Sh...</td>\n",
       "      <td>2020-08-01</td>\n",
       "      <td>Speech enhancement has benefited from the succ...</td>\n",
       "      <td>246</td>\n",
       "      <td>Interspeech</td>\n",
       "      <td>2020</td>\n",
       "    </tr>\n",
       "    <tr>\n",
       "      <th>8260</th>\n",
       "      <td>AST: Audio Spectrogram Transformer</td>\n",
       "      <td>Yuan Gong, Yu-An Chung, James R. Glass,</td>\n",
       "      <td>2021-04-05</td>\n",
       "      <td>In the past decade, convolutional neural netwo...</td>\n",
       "      <td>179</td>\n",
       "      <td>Interspeech</td>\n",
       "      <td>2021</td>\n",
       "    </tr>\n",
       "    <tr>\n",
       "      <th>...</th>\n",
       "      <td>...</td>\n",
       "      <td>...</td>\n",
       "      <td>...</td>\n",
       "      <td>...</td>\n",
       "      <td>...</td>\n",
       "      <td>...</td>\n",
       "      <td>...</td>\n",
       "    </tr>\n",
       "    <tr>\n",
       "      <th>17432</th>\n",
       "      <td>DDKtor: Automatic Diadochokinetic Speech Analysis</td>\n",
       "      <td>Yael Segal, Kasia Hitczenko, M. Goldrick, Adam...</td>\n",
       "      <td>2022-06-29</td>\n",
       "      <td>Diadochokinetic speech tasks (DDK), in which p...</td>\n",
       "      <td>0</td>\n",
       "      <td>Interspeech</td>\n",
       "      <td>2022</td>\n",
       "    </tr>\n",
       "    <tr>\n",
       "      <th>17512</th>\n",
       "      <td>An Evaluation of Three-Stage Voice Conversion ...</td>\n",
       "      <td>Yeonjong Choi, Chao Xie, T. Toda,</td>\n",
       "      <td>2022-06-30</td>\n",
       "      <td>This paper presents a new voice conversion (VC...</td>\n",
       "      <td>0</td>\n",
       "      <td>Interspeech</td>\n",
       "      <td>2022</td>\n",
       "    </tr>\n",
       "    <tr>\n",
       "      <th>17469</th>\n",
       "      <td>GLD-Net: Improving Monaural Speech Enhancement...</td>\n",
       "      <td>Xinmeng Xu, Yang Wang, Jie Jia, Binbin Chen, J...</td>\n",
       "      <td>2022-06-30</td>\n",
       "      <td>For monaural speech enhancement, contextual in...</td>\n",
       "      <td>0</td>\n",
       "      <td>Interspeech</td>\n",
       "      <td>2022</td>\n",
       "    </tr>\n",
       "    <tr>\n",
       "      <th>17496</th>\n",
       "      <td>Improving Visual Speech Enhancement Network by...</td>\n",
       "      <td>Xinmeng Xu, Yang Wang, Jie Jia, Binbin Chen, D...</td>\n",
       "      <td>2022-06-30</td>\n",
       "      <td>Audio-visual speech enhancement system is rega...</td>\n",
       "      <td>0</td>\n",
       "      <td>Interspeech</td>\n",
       "      <td>2022</td>\n",
       "    </tr>\n",
       "    <tr>\n",
       "      <th>17490</th>\n",
       "      <td>An Evaluation of Three-Stage Voice Conversion ...</td>\n",
       "      <td>Yeonjong Choi, Chao Xie, T. Toda,</td>\n",
       "      <td>2022-06-30</td>\n",
       "      <td>This paper presents a new voice conversion (VC...</td>\n",
       "      <td>0</td>\n",
       "      <td>Interspeech</td>\n",
       "      <td>2022</td>\n",
       "    </tr>\n",
       "  </tbody>\n",
       "</table>\n",
       "<p>1734 rows × 7 columns</p>\n",
       "</div>"
      ],
      "text/plain": [
       "                                                   Title  \\\n",
       "2406   Conformer: Convolution-augmented Transformer f...   \n",
       "8740   SUPERB: Speech processing Universal PERformanc...   \n",
       "3160   Unsupervised Cross-lingual Representation Lear...   \n",
       "3856   DCCRN: Deep Complex Convolution Recurrent Netw...   \n",
       "8260                  AST: Audio Spectrogram Transformer   \n",
       "...                                                  ...   \n",
       "17432  DDKtor: Automatic Diadochokinetic Speech Analysis   \n",
       "17512  An Evaluation of Three-Stage Voice Conversion ...   \n",
       "17469  GLD-Net: Improving Monaural Speech Enhancement...   \n",
       "17496  Improving Visual Speech Enhancement Network by...   \n",
       "17490  An Evaluation of Three-Stage Voice Conversion ...   \n",
       "\n",
       "                                             Author Name        Date  \\\n",
       "2406   Anmol Gulati, James Qin, C. Chiu, Niki Parmar,...  2020-05-16   \n",
       "8740   Shu-wen Yang, Po-Han Chi, Yung-Sung Chuang, Ch...  2021-05-03   \n",
       "3160   Alexis Conneau, Alexei Baevski, Ronan Collober...  2020-06-24   \n",
       "3856   Yanxin Hu, Yun Liu, Shubo Lv, Mengtao Xing, Sh...  2020-08-01   \n",
       "8260             Yuan Gong, Yu-An Chung, James R. Glass,  2021-04-05   \n",
       "...                                                  ...         ...   \n",
       "17432  Yael Segal, Kasia Hitczenko, M. Goldrick, Adam...  2022-06-29   \n",
       "17512                  Yeonjong Choi, Chao Xie, T. Toda,  2022-06-30   \n",
       "17469  Xinmeng Xu, Yang Wang, Jie Jia, Binbin Chen, J...  2022-06-30   \n",
       "17496  Xinmeng Xu, Yang Wang, Jie Jia, Binbin Chen, D...  2022-06-30   \n",
       "17490                  Yeonjong Choi, Chao Xie, T. Toda,  2022-06-30   \n",
       "\n",
       "                                                Abstract  \\\n",
       "2406   Recently Transformer and Convolution neural ne...   \n",
       "8740   Self-supervised learning (SSL) has proven vita...   \n",
       "3160   This paper presents XLSR which learns cross-li...   \n",
       "3856   Speech enhancement has benefited from the succ...   \n",
       "8260   In the past decade, convolutional neural netwo...   \n",
       "...                                                  ...   \n",
       "17432  Diadochokinetic speech tasks (DDK), in which p...   \n",
       "17512  This paper presents a new voice conversion (VC...   \n",
       "17469  For monaural speech enhancement, contextual in...   \n",
       "17496  Audio-visual speech enhancement system is rega...   \n",
       "17490  This paper presents a new voice conversion (VC...   \n",
       "\n",
       "       Paper Citation Count        Venue  Year  \n",
       "2406                   1099  Interspeech  2020  \n",
       "8740                    267  Interspeech  2021  \n",
       "3160                    265  Interspeech  2020  \n",
       "3856                    246  Interspeech  2020  \n",
       "8260                    179  Interspeech  2021  \n",
       "...                     ...          ...   ...  \n",
       "17432                     0  Interspeech  2022  \n",
       "17512                     0  Interspeech  2022  \n",
       "17469                     0  Interspeech  2022  \n",
       "17496                     0  Interspeech  2022  \n",
       "17490                     0  Interspeech  2022  \n",
       "\n",
       "[1734 rows x 7 columns]"
      ]
     },
     "execution_count": 319,
     "metadata": {},
     "output_type": "execute_result"
    }
   ],
   "source": [
    "df_drop.sort_values('Paper Citation Count', ascending=False).loc[df_drop['Venue']==first_five[0]]"
   ]
  },
  {
   "cell_type": "code",
   "execution_count": 327,
   "metadata": {},
   "outputs": [
    {
     "ename": "ValueError",
     "evalue": "\n    Invalid value of type 'builtins.str' received for the 'method' property of layout.updatemenu.button\n        Received value: 'open'\n\n    The 'method' property is an enumeration that may be specified as:\n      - One of the following enumeration values:\n            ['restyle', 'relayout', 'animate', 'update', 'skip']",
     "output_type": "error",
     "traceback": [
      "\u001b[0;31m---------------------------------------------------------------------------\u001b[0m",
      "\u001b[0;31mValueError\u001b[0m                                Traceback (most recent call last)",
      "Cell \u001b[0;32mIn[327], line 29\u001b[0m\n\u001b[1;32m     21\u001b[0m     button \u001b[39m=\u001b[39m \u001b[39mdict\u001b[39m(\n\u001b[1;32m     22\u001b[0m         label\u001b[39m=\u001b[39m\u001b[39m'\u001b[39m\u001b[39mClick me\u001b[39m\u001b[39m'\u001b[39m,\n\u001b[1;32m     23\u001b[0m         method\u001b[39m=\u001b[39m\u001b[39m'\u001b[39m\u001b[39mopen\u001b[39m\u001b[39m'\u001b[39m,\n\u001b[1;32m     24\u001b[0m         args\u001b[39m=\u001b[39m[url],\n\u001b[1;32m     25\u001b[0m         visible\u001b[39m=\u001b[39m\u001b[39mTrue\u001b[39;00m\n\u001b[1;32m     26\u001b[0m     )\n\u001b[1;32m     27\u001b[0m     buttons\u001b[39m.\u001b[39mappend(button)\n\u001b[0;32m---> 29\u001b[0m fig\u001b[39m.\u001b[39;49mupdate_layout(\n\u001b[1;32m     30\u001b[0m     title\u001b[39m=\u001b[39;49m\u001b[39m'\u001b[39;49m\u001b[39mClickable Bar Chart\u001b[39;49m\u001b[39m'\u001b[39;49m,\n\u001b[1;32m     31\u001b[0m     updatemenus\u001b[39m=\u001b[39;49m[\u001b[39mdict\u001b[39;49m(\n\u001b[1;32m     32\u001b[0m         \u001b[39mtype\u001b[39;49m\u001b[39m=\u001b[39;49m\u001b[39m\"\u001b[39;49m\u001b[39mbuttons\u001b[39;49m\u001b[39m\"\u001b[39;49m,\n\u001b[1;32m     33\u001b[0m         buttons\u001b[39m=\u001b[39;49mbuttons,\n\u001b[1;32m     34\u001b[0m         showactive\u001b[39m=\u001b[39;49m\u001b[39mFalse\u001b[39;49;00m,\n\u001b[1;32m     35\u001b[0m         direction\u001b[39m=\u001b[39;49m\u001b[39m'\u001b[39;49m\u001b[39mleft\u001b[39;49m\u001b[39m'\u001b[39;49m,\n\u001b[1;32m     36\u001b[0m         xanchor\u001b[39m=\u001b[39;49m\u001b[39m'\u001b[39;49m\u001b[39mright\u001b[39;49m\u001b[39m'\u001b[39;49m,\n\u001b[1;32m     37\u001b[0m         yanchor\u001b[39m=\u001b[39;49m\u001b[39m'\u001b[39;49m\u001b[39mtop\u001b[39;49m\u001b[39m'\u001b[39;49m,\n\u001b[1;32m     38\u001b[0m         x\u001b[39m=\u001b[39;49m\u001b[39m1.02\u001b[39;49m,\n\u001b[1;32m     39\u001b[0m         y\u001b[39m=\u001b[39;49m\u001b[39m1\u001b[39;49m\n\u001b[1;32m     40\u001b[0m     )]\n\u001b[1;32m     41\u001b[0m )\n\u001b[1;32m     43\u001b[0m \u001b[39m# Show the chart\u001b[39;00m\n\u001b[1;32m     44\u001b[0m fig\u001b[39m.\u001b[39mshow()\n",
      "File \u001b[0;32m~/opt/anaconda3/envs/tableau/lib/python3.10/site-packages/plotly/graph_objs/_figure.py:775\u001b[0m, in \u001b[0;36mFigure.update_layout\u001b[0;34m(self, dict1, overwrite, **kwargs)\u001b[0m\n\u001b[1;32m    749\u001b[0m \u001b[39mdef\u001b[39;00m \u001b[39mupdate_layout\u001b[39m(\u001b[39mself\u001b[39m, dict1\u001b[39m=\u001b[39m\u001b[39mNone\u001b[39;00m, overwrite\u001b[39m=\u001b[39m\u001b[39mFalse\u001b[39;00m, \u001b[39m*\u001b[39m\u001b[39m*\u001b[39mkwargs) \u001b[39m-\u001b[39m\u001b[39m>\u001b[39m \u001b[39m\"\u001b[39m\u001b[39mFigure\u001b[39m\u001b[39m\"\u001b[39m:\n\u001b[1;32m    750\u001b[0m     \u001b[39m\"\"\"\u001b[39;00m\n\u001b[1;32m    751\u001b[0m \n\u001b[1;32m    752\u001b[0m \u001b[39m    Update the properties of the figure's layout with a dict and/or with\u001b[39;00m\n\u001b[0;32m   (...)\u001b[0m\n\u001b[1;32m    773\u001b[0m \n\u001b[1;32m    774\u001b[0m \u001b[39m    \"\"\"\u001b[39;00m\n\u001b[0;32m--> 775\u001b[0m     \u001b[39mreturn\u001b[39;00m \u001b[39msuper\u001b[39;49m(Figure, \u001b[39mself\u001b[39;49m)\u001b[39m.\u001b[39;49mupdate_layout(dict1, overwrite, \u001b[39m*\u001b[39;49m\u001b[39m*\u001b[39;49mkwargs)\n",
      "File \u001b[0;32m~/opt/anaconda3/envs/tableau/lib/python3.10/site-packages/plotly/basedatatypes.py:1393\u001b[0m, in \u001b[0;36mBaseFigure.update_layout\u001b[0;34m(self, dict1, overwrite, **kwargs)\u001b[0m\n\u001b[1;32m   1369\u001b[0m \u001b[39mdef\u001b[39;00m \u001b[39mupdate_layout\u001b[39m(\u001b[39mself\u001b[39m, dict1\u001b[39m=\u001b[39m\u001b[39mNone\u001b[39;00m, overwrite\u001b[39m=\u001b[39m\u001b[39mFalse\u001b[39;00m, \u001b[39m*\u001b[39m\u001b[39m*\u001b[39mkwargs):\n\u001b[1;32m   1370\u001b[0m     \u001b[39m\"\"\"\u001b[39;00m\n\u001b[1;32m   1371\u001b[0m \u001b[39m    Update the properties of the figure's layout with a dict and/or with\u001b[39;00m\n\u001b[1;32m   1372\u001b[0m \u001b[39m    keyword arguments.\u001b[39;00m\n\u001b[0;32m   (...)\u001b[0m\n\u001b[1;32m   1391\u001b[0m \u001b[39m        The Figure object that the update_layout method was called on\u001b[39;00m\n\u001b[1;32m   1392\u001b[0m \u001b[39m    \"\"\"\u001b[39;00m\n\u001b[0;32m-> 1393\u001b[0m     \u001b[39mself\u001b[39;49m\u001b[39m.\u001b[39;49mlayout\u001b[39m.\u001b[39;49mupdate(dict1, overwrite\u001b[39m=\u001b[39;49moverwrite, \u001b[39m*\u001b[39;49m\u001b[39m*\u001b[39;49mkwargs)\n\u001b[1;32m   1394\u001b[0m     \u001b[39mreturn\u001b[39;00m \u001b[39mself\u001b[39m\n",
      "File \u001b[0;32m~/opt/anaconda3/envs/tableau/lib/python3.10/site-packages/plotly/basedatatypes.py:5136\u001b[0m, in \u001b[0;36mBasePlotlyType.update\u001b[0;34m(self, dict1, overwrite, **kwargs)\u001b[0m\n\u001b[1;32m   5134\u001b[0m     \u001b[39mwith\u001b[39;00m \u001b[39mself\u001b[39m\u001b[39m.\u001b[39mfigure\u001b[39m.\u001b[39mbatch_update():\n\u001b[1;32m   5135\u001b[0m         BaseFigure\u001b[39m.\u001b[39m_perform_update(\u001b[39mself\u001b[39m, dict1, overwrite\u001b[39m=\u001b[39moverwrite)\n\u001b[0;32m-> 5136\u001b[0m         BaseFigure\u001b[39m.\u001b[39;49m_perform_update(\u001b[39mself\u001b[39;49m, kwargs, overwrite\u001b[39m=\u001b[39;49moverwrite)\n\u001b[1;32m   5137\u001b[0m \u001b[39melse\u001b[39;00m:\n\u001b[1;32m   5138\u001b[0m     BaseFigure\u001b[39m.\u001b[39m_perform_update(\u001b[39mself\u001b[39m, dict1, overwrite\u001b[39m=\u001b[39moverwrite)\n",
      "File \u001b[0;32m~/opt/anaconda3/envs/tableau/lib/python3.10/site-packages/plotly/basedatatypes.py:3936\u001b[0m, in \u001b[0;36mBaseFigure._perform_update\u001b[0;34m(plotly_obj, update_obj, overwrite)\u001b[0m\n\u001b[1;32m   3930\u001b[0m             plotly_obj[key] \u001b[39m=\u001b[39m plotly_obj[key] \u001b[39m+\u001b[39m \u001b[39mtuple\u001b[39m(\n\u001b[1;32m   3931\u001b[0m                 val[\u001b[39mlen\u001b[39m(plotly_obj[key]) :]\n\u001b[1;32m   3932\u001b[0m             )\n\u001b[1;32m   3933\u001b[0m     \u001b[39melse\u001b[39;00m:\n\u001b[1;32m   3934\u001b[0m         \u001b[39m# plotly_obj is an empty or uninitialized list for key\u001b[39;00m\n\u001b[1;32m   3935\u001b[0m         \u001b[39m# In this case we accept val as is\u001b[39;00m\n\u001b[0;32m-> 3936\u001b[0m         plotly_obj[key] \u001b[39m=\u001b[39m val\n\u001b[1;32m   3937\u001b[0m \u001b[39melse\u001b[39;00m:\n\u001b[1;32m   3938\u001b[0m     \u001b[39m# Assign non-compound value\u001b[39;00m\n\u001b[1;32m   3939\u001b[0m     plotly_obj[key] \u001b[39m=\u001b[39m val\n",
      "File \u001b[0;32m~/opt/anaconda3/envs/tableau/lib/python3.10/site-packages/plotly/basedatatypes.py:5875\u001b[0m, in \u001b[0;36mBaseLayoutType.__setitem__\u001b[0;34m(self, prop, value)\u001b[0m\n\u001b[1;32m   5872\u001b[0m match \u001b[39m=\u001b[39m \u001b[39mself\u001b[39m\u001b[39m.\u001b[39m_subplot_re_match(prop)\n\u001b[1;32m   5873\u001b[0m \u001b[39mif\u001b[39;00m match \u001b[39mis\u001b[39;00m \u001b[39mNone\u001b[39;00m:\n\u001b[1;32m   5874\u001b[0m     \u001b[39m# Set as ordinary property\u001b[39;00m\n\u001b[0;32m-> 5875\u001b[0m     \u001b[39msuper\u001b[39;49m(BaseLayoutHierarchyType, \u001b[39mself\u001b[39;49m)\u001b[39m.\u001b[39;49m\u001b[39m__setitem__\u001b[39;49m(prop, value)\n\u001b[1;32m   5876\u001b[0m \u001b[39melse\u001b[39;00m:\n\u001b[1;32m   5877\u001b[0m     \u001b[39m# Set as subplotid property\u001b[39;00m\n\u001b[1;32m   5878\u001b[0m     \u001b[39mself\u001b[39m\u001b[39m.\u001b[39m_set_subplotid_prop(prop, value)\n",
      "File \u001b[0;32m~/opt/anaconda3/envs/tableau/lib/python3.10/site-packages/plotly/basedatatypes.py:4869\u001b[0m, in \u001b[0;36mBasePlotlyType.__setitem__\u001b[0;34m(self, prop, value)\u001b[0m\n\u001b[1;32m   4867\u001b[0m \u001b[39m# ### Handle compound array property ###\u001b[39;00m\n\u001b[1;32m   4868\u001b[0m \u001b[39melif\u001b[39;00m \u001b[39misinstance\u001b[39m(validator, (CompoundArrayValidator, BaseDataValidator)):\n\u001b[0;32m-> 4869\u001b[0m     \u001b[39mself\u001b[39;49m\u001b[39m.\u001b[39;49m_set_array_prop(prop, value)\n\u001b[1;32m   4871\u001b[0m \u001b[39m# ### Handle simple property ###\u001b[39;00m\n\u001b[1;32m   4872\u001b[0m \u001b[39melse\u001b[39;00m:\n\u001b[1;32m   4873\u001b[0m     \u001b[39mself\u001b[39m\u001b[39m.\u001b[39m_set_prop(prop, value)\n",
      "File \u001b[0;32m~/opt/anaconda3/envs/tableau/lib/python3.10/site-packages/plotly/basedatatypes.py:5350\u001b[0m, in \u001b[0;36mBasePlotlyType._set_array_prop\u001b[0;34m(self, prop, val)\u001b[0m\n\u001b[1;32m   5347\u001b[0m \u001b[39m# Import value\u001b[39;00m\n\u001b[1;32m   5348\u001b[0m \u001b[39m# ------------\u001b[39;00m\n\u001b[1;32m   5349\u001b[0m validator \u001b[39m=\u001b[39m \u001b[39mself\u001b[39m\u001b[39m.\u001b[39m_get_validator(prop)\n\u001b[0;32m-> 5350\u001b[0m val \u001b[39m=\u001b[39m validator\u001b[39m.\u001b[39;49mvalidate_coerce(val, skip_invalid\u001b[39m=\u001b[39;49m\u001b[39mself\u001b[39;49m\u001b[39m.\u001b[39;49m_skip_invalid)\n\u001b[1;32m   5352\u001b[0m \u001b[39m# Save deep copies of current and new states\u001b[39;00m\n\u001b[1;32m   5353\u001b[0m \u001b[39m# ------------------------------------------\u001b[39;00m\n\u001b[1;32m   5354\u001b[0m curr_val \u001b[39m=\u001b[39m \u001b[39mself\u001b[39m\u001b[39m.\u001b[39m_compound_array_props\u001b[39m.\u001b[39mget(prop, \u001b[39mNone\u001b[39;00m)\n",
      "File \u001b[0;32m~/opt/anaconda3/envs/tableau/lib/python3.10/site-packages/_plotly_utils/basevalidators.py:2567\u001b[0m, in \u001b[0;36mCompoundArrayValidator.validate_coerce\u001b[0;34m(self, v, skip_invalid)\u001b[0m\n\u001b[1;32m   2565\u001b[0m     res\u001b[39m.\u001b[39mappend(\u001b[39mself\u001b[39m\u001b[39m.\u001b[39mdata_class(v_el))\n\u001b[1;32m   2566\u001b[0m \u001b[39melif\u001b[39;00m \u001b[39misinstance\u001b[39m(v_el, \u001b[39mdict\u001b[39m):\n\u001b[0;32m-> 2567\u001b[0m     res\u001b[39m.\u001b[39mappend(\u001b[39mself\u001b[39;49m\u001b[39m.\u001b[39;49mdata_class(v_el, skip_invalid\u001b[39m=\u001b[39;49mskip_invalid))\n\u001b[1;32m   2568\u001b[0m \u001b[39melse\u001b[39;00m:\n\u001b[1;32m   2569\u001b[0m     \u001b[39mif\u001b[39;00m skip_invalid:\n",
      "File \u001b[0;32m~/opt/anaconda3/envs/tableau/lib/python3.10/site-packages/plotly/graph_objs/layout/_updatemenu.py:845\u001b[0m, in \u001b[0;36mUpdatemenu.__init__\u001b[0;34m(self, arg, active, bgcolor, bordercolor, borderwidth, buttons, buttondefaults, direction, font, name, pad, showactive, templateitemname, type, visible, x, xanchor, y, yanchor, **kwargs)\u001b[0m\n\u001b[1;32m    843\u001b[0m _v \u001b[39m=\u001b[39m buttons \u001b[39mif\u001b[39;00m buttons \u001b[39mis\u001b[39;00m \u001b[39mnot\u001b[39;00m \u001b[39mNone\u001b[39;00m \u001b[39melse\u001b[39;00m _v\n\u001b[1;32m    844\u001b[0m \u001b[39mif\u001b[39;00m _v \u001b[39mis\u001b[39;00m \u001b[39mnot\u001b[39;00m \u001b[39mNone\u001b[39;00m:\n\u001b[0;32m--> 845\u001b[0m     \u001b[39mself\u001b[39m[\u001b[39m\"\u001b[39m\u001b[39mbuttons\u001b[39m\u001b[39m\"\u001b[39m] \u001b[39m=\u001b[39m _v\n\u001b[1;32m    846\u001b[0m _v \u001b[39m=\u001b[39m arg\u001b[39m.\u001b[39mpop(\u001b[39m\"\u001b[39m\u001b[39mbuttondefaults\u001b[39m\u001b[39m\"\u001b[39m, \u001b[39mNone\u001b[39;00m)\n\u001b[1;32m    847\u001b[0m _v \u001b[39m=\u001b[39m buttondefaults \u001b[39mif\u001b[39;00m buttondefaults \u001b[39mis\u001b[39;00m \u001b[39mnot\u001b[39;00m \u001b[39mNone\u001b[39;00m \u001b[39melse\u001b[39;00m _v\n",
      "File \u001b[0;32m~/opt/anaconda3/envs/tableau/lib/python3.10/site-packages/plotly/basedatatypes.py:4869\u001b[0m, in \u001b[0;36mBasePlotlyType.__setitem__\u001b[0;34m(self, prop, value)\u001b[0m\n\u001b[1;32m   4867\u001b[0m \u001b[39m# ### Handle compound array property ###\u001b[39;00m\n\u001b[1;32m   4868\u001b[0m \u001b[39melif\u001b[39;00m \u001b[39misinstance\u001b[39m(validator, (CompoundArrayValidator, BaseDataValidator)):\n\u001b[0;32m-> 4869\u001b[0m     \u001b[39mself\u001b[39;49m\u001b[39m.\u001b[39;49m_set_array_prop(prop, value)\n\u001b[1;32m   4871\u001b[0m \u001b[39m# ### Handle simple property ###\u001b[39;00m\n\u001b[1;32m   4872\u001b[0m \u001b[39melse\u001b[39;00m:\n\u001b[1;32m   4873\u001b[0m     \u001b[39mself\u001b[39m\u001b[39m.\u001b[39m_set_prop(prop, value)\n",
      "File \u001b[0;32m~/opt/anaconda3/envs/tableau/lib/python3.10/site-packages/plotly/basedatatypes.py:5350\u001b[0m, in \u001b[0;36mBasePlotlyType._set_array_prop\u001b[0;34m(self, prop, val)\u001b[0m\n\u001b[1;32m   5347\u001b[0m \u001b[39m# Import value\u001b[39;00m\n\u001b[1;32m   5348\u001b[0m \u001b[39m# ------------\u001b[39;00m\n\u001b[1;32m   5349\u001b[0m validator \u001b[39m=\u001b[39m \u001b[39mself\u001b[39m\u001b[39m.\u001b[39m_get_validator(prop)\n\u001b[0;32m-> 5350\u001b[0m val \u001b[39m=\u001b[39m validator\u001b[39m.\u001b[39;49mvalidate_coerce(val, skip_invalid\u001b[39m=\u001b[39;49m\u001b[39mself\u001b[39;49m\u001b[39m.\u001b[39;49m_skip_invalid)\n\u001b[1;32m   5352\u001b[0m \u001b[39m# Save deep copies of current and new states\u001b[39;00m\n\u001b[1;32m   5353\u001b[0m \u001b[39m# ------------------------------------------\u001b[39;00m\n\u001b[1;32m   5354\u001b[0m curr_val \u001b[39m=\u001b[39m \u001b[39mself\u001b[39m\u001b[39m.\u001b[39m_compound_array_props\u001b[39m.\u001b[39mget(prop, \u001b[39mNone\u001b[39;00m)\n",
      "File \u001b[0;32m~/opt/anaconda3/envs/tableau/lib/python3.10/site-packages/_plotly_utils/basevalidators.py:2567\u001b[0m, in \u001b[0;36mCompoundArrayValidator.validate_coerce\u001b[0;34m(self, v, skip_invalid)\u001b[0m\n\u001b[1;32m   2565\u001b[0m     res\u001b[39m.\u001b[39mappend(\u001b[39mself\u001b[39m\u001b[39m.\u001b[39mdata_class(v_el))\n\u001b[1;32m   2566\u001b[0m \u001b[39melif\u001b[39;00m \u001b[39misinstance\u001b[39m(v_el, \u001b[39mdict\u001b[39m):\n\u001b[0;32m-> 2567\u001b[0m     res\u001b[39m.\u001b[39mappend(\u001b[39mself\u001b[39;49m\u001b[39m.\u001b[39;49mdata_class(v_el, skip_invalid\u001b[39m=\u001b[39;49mskip_invalid))\n\u001b[1;32m   2568\u001b[0m \u001b[39melse\u001b[39;00m:\n\u001b[1;32m   2569\u001b[0m     \u001b[39mif\u001b[39;00m skip_invalid:\n",
      "File \u001b[0;32m~/opt/anaconda3/envs/tableau/lib/python3.10/site-packages/plotly/graph_objs/layout/updatemenu/_button.py:396\u001b[0m, in \u001b[0;36mButton.__init__\u001b[0;34m(self, arg, args, args2, execute, label, method, name, templateitemname, visible, **kwargs)\u001b[0m\n\u001b[1;32m    394\u001b[0m _v \u001b[39m=\u001b[39m method \u001b[39mif\u001b[39;00m method \u001b[39mis\u001b[39;00m \u001b[39mnot\u001b[39;00m \u001b[39mNone\u001b[39;00m \u001b[39melse\u001b[39;00m _v\n\u001b[1;32m    395\u001b[0m \u001b[39mif\u001b[39;00m _v \u001b[39mis\u001b[39;00m \u001b[39mnot\u001b[39;00m \u001b[39mNone\u001b[39;00m:\n\u001b[0;32m--> 396\u001b[0m     \u001b[39mself\u001b[39m[\u001b[39m\"\u001b[39m\u001b[39mmethod\u001b[39m\u001b[39m\"\u001b[39m] \u001b[39m=\u001b[39m _v\n\u001b[1;32m    397\u001b[0m _v \u001b[39m=\u001b[39m arg\u001b[39m.\u001b[39mpop(\u001b[39m\"\u001b[39m\u001b[39mname\u001b[39m\u001b[39m\"\u001b[39m, \u001b[39mNone\u001b[39;00m)\n\u001b[1;32m    398\u001b[0m _v \u001b[39m=\u001b[39m name \u001b[39mif\u001b[39;00m name \u001b[39mis\u001b[39;00m \u001b[39mnot\u001b[39;00m \u001b[39mNone\u001b[39;00m \u001b[39melse\u001b[39;00m _v\n",
      "File \u001b[0;32m~/opt/anaconda3/envs/tableau/lib/python3.10/site-packages/plotly/basedatatypes.py:4873\u001b[0m, in \u001b[0;36mBasePlotlyType.__setitem__\u001b[0;34m(self, prop, value)\u001b[0m\n\u001b[1;32m   4869\u001b[0m         \u001b[39mself\u001b[39m\u001b[39m.\u001b[39m_set_array_prop(prop, value)\n\u001b[1;32m   4871\u001b[0m     \u001b[39m# ### Handle simple property ###\u001b[39;00m\n\u001b[1;32m   4872\u001b[0m     \u001b[39melse\u001b[39;00m:\n\u001b[0;32m-> 4873\u001b[0m         \u001b[39mself\u001b[39;49m\u001b[39m.\u001b[39;49m_set_prop(prop, value)\n\u001b[1;32m   4874\u001b[0m \u001b[39melse\u001b[39;00m:\n\u001b[1;32m   4875\u001b[0m     \u001b[39m# Make sure properties dict is initialized\u001b[39;00m\n\u001b[1;32m   4876\u001b[0m     \u001b[39mself\u001b[39m\u001b[39m.\u001b[39m_init_props()\n",
      "File \u001b[0;32m~/opt/anaconda3/envs/tableau/lib/python3.10/site-packages/plotly/basedatatypes.py:5217\u001b[0m, in \u001b[0;36mBasePlotlyType._set_prop\u001b[0;34m(self, prop, val)\u001b[0m\n\u001b[1;32m   5215\u001b[0m         \u001b[39mreturn\u001b[39;00m\n\u001b[1;32m   5216\u001b[0m     \u001b[39melse\u001b[39;00m:\n\u001b[0;32m-> 5217\u001b[0m         \u001b[39mraise\u001b[39;00m err\n\u001b[1;32m   5219\u001b[0m \u001b[39m# val is None\u001b[39;00m\n\u001b[1;32m   5220\u001b[0m \u001b[39m# -----------\u001b[39;00m\n\u001b[1;32m   5221\u001b[0m \u001b[39mif\u001b[39;00m val \u001b[39mis\u001b[39;00m \u001b[39mNone\u001b[39;00m:\n\u001b[1;32m   5222\u001b[0m     \u001b[39m# Check if we should send null update\u001b[39;00m\n",
      "File \u001b[0;32m~/opt/anaconda3/envs/tableau/lib/python3.10/site-packages/plotly/basedatatypes.py:5212\u001b[0m, in \u001b[0;36mBasePlotlyType._set_prop\u001b[0;34m(self, prop, val)\u001b[0m\n\u001b[1;32m   5209\u001b[0m validator \u001b[39m=\u001b[39m \u001b[39mself\u001b[39m\u001b[39m.\u001b[39m_get_validator(prop)\n\u001b[1;32m   5211\u001b[0m \u001b[39mtry\u001b[39;00m:\n\u001b[0;32m-> 5212\u001b[0m     val \u001b[39m=\u001b[39m validator\u001b[39m.\u001b[39;49mvalidate_coerce(val)\n\u001b[1;32m   5213\u001b[0m \u001b[39mexcept\u001b[39;00m \u001b[39mValueError\u001b[39;00m \u001b[39mas\u001b[39;00m err:\n\u001b[1;32m   5214\u001b[0m     \u001b[39mif\u001b[39;00m \u001b[39mself\u001b[39m\u001b[39m.\u001b[39m_skip_invalid:\n",
      "File \u001b[0;32m~/opt/anaconda3/envs/tableau/lib/python3.10/site-packages/_plotly_utils/basevalidators.py:610\u001b[0m, in \u001b[0;36mEnumeratedValidator.validate_coerce\u001b[0;34m(self, v)\u001b[0m\n\u001b[1;32m    608\u001b[0m     v \u001b[39m=\u001b[39m \u001b[39mself\u001b[39m\u001b[39m.\u001b[39mperform_replacemenet(v)\n\u001b[1;32m    609\u001b[0m     \u001b[39mif\u001b[39;00m \u001b[39mnot\u001b[39;00m \u001b[39mself\u001b[39m\u001b[39m.\u001b[39min_values(v):\n\u001b[0;32m--> 610\u001b[0m         \u001b[39mself\u001b[39;49m\u001b[39m.\u001b[39;49mraise_invalid_val(v)\n\u001b[1;32m    611\u001b[0m \u001b[39mreturn\u001b[39;00m v\n",
      "File \u001b[0;32m~/opt/anaconda3/envs/tableau/lib/python3.10/site-packages/_plotly_utils/basevalidators.py:287\u001b[0m, in \u001b[0;36mBaseValidator.raise_invalid_val\u001b[0;34m(self, v, inds)\u001b[0m\n\u001b[1;32m    284\u001b[0m             \u001b[39mfor\u001b[39;00m i \u001b[39min\u001b[39;00m inds:\n\u001b[1;32m    285\u001b[0m                 name \u001b[39m+\u001b[39m\u001b[39m=\u001b[39m \u001b[39m\"\u001b[39m\u001b[39m[\u001b[39m\u001b[39m\"\u001b[39m \u001b[39m+\u001b[39m \u001b[39mstr\u001b[39m(i) \u001b[39m+\u001b[39m \u001b[39m\"\u001b[39m\u001b[39m]\u001b[39m\u001b[39m\"\u001b[39m\n\u001b[0;32m--> 287\u001b[0m         \u001b[39mraise\u001b[39;00m \u001b[39mValueError\u001b[39;00m(\n\u001b[1;32m    288\u001b[0m             \u001b[39m\"\"\"\u001b[39;00m\n\u001b[1;32m    289\u001b[0m \u001b[39m    Invalid value of type {typ} received for the '{name}' property of {pname}\u001b[39;00m\n\u001b[1;32m    290\u001b[0m \u001b[39m        Received value: {v}\u001b[39;00m\n\u001b[1;32m    291\u001b[0m \n\u001b[1;32m    292\u001b[0m \u001b[39m{valid_clr_desc}\"\"\"\u001b[39;00m\u001b[39m.\u001b[39mformat(\n\u001b[1;32m    293\u001b[0m                 name\u001b[39m=\u001b[39mname,\n\u001b[1;32m    294\u001b[0m                 pname\u001b[39m=\u001b[39m\u001b[39mself\u001b[39m\u001b[39m.\u001b[39mparent_name,\n\u001b[1;32m    295\u001b[0m                 typ\u001b[39m=\u001b[39mtype_str(v),\n\u001b[1;32m    296\u001b[0m                 v\u001b[39m=\u001b[39m\u001b[39mrepr\u001b[39m(v),\n\u001b[1;32m    297\u001b[0m                 valid_clr_desc\u001b[39m=\u001b[39m\u001b[39mself\u001b[39m\u001b[39m.\u001b[39mdescription(),\n\u001b[1;32m    298\u001b[0m             )\n\u001b[1;32m    299\u001b[0m         )\n",
      "\u001b[0;31mValueError\u001b[0m: \n    Invalid value of type 'builtins.str' received for the 'method' property of layout.updatemenu.button\n        Received value: 'open'\n\n    The 'method' property is an enumeration that may be specified as:\n      - One of the following enumeration values:\n            ['restyle', 'relayout', 'animate', 'update', 'skip']"
     ]
    }
   ],
   "source": [
    "import plotly.express as px\n",
    "\n",
    "# Sample data\n",
    "x_data = ['A', 'B', 'C']\n",
    "y_data = [10, 20, 15]\n",
    "urls = ['https://www.example.com/pageA', 'https://www.example.com/pageB', 'https://www.example.com/pageC']\n",
    "\n",
    "# Create the bar chart using Plotly Express\n",
    "fig = px.bar(\n",
    "    x=x_data,\n",
    "    y=y_data,\n",
    "    labels={'x': 'Categories', 'y': 'Values'},  # Set axis labels\n",
    ")\n",
    "\n",
    "# Update hover template to include clickable link\n",
    "fig.update_traces(hovertemplate='<b>%{x}</b><br>Value: %{y}')\n",
    "\n",
    "# Add interactive buttons\n",
    "buttons = []\n",
    "for x, y, url in zip(x_data, y_data, urls):\n",
    "    button = dict(\n",
    "        label='Click me',\n",
    "        method='open',\n",
    "        args=[url],\n",
    "        visible=True\n",
    "    )\n",
    "    buttons.append(button)\n",
    "\n",
    "fig.update_layout(\n",
    "    title='Clickable Bar Chart',\n",
    "    updatemenus=[dict(\n",
    "        type=\"buttons\",\n",
    "        buttons=buttons,\n",
    "        showactive=False,\n",
    "        direction='left',\n",
    "        xanchor='right',\n",
    "        yanchor='top',\n",
    "        x=1.02,\n",
    "        y=1\n",
    "    )]\n",
    ")\n",
    "\n",
    "# Show the chart\n",
    "fig.show()\n"
   ]
  },
  {
   "cell_type": "code",
   "execution_count": 328,
   "metadata": {},
   "outputs": [
    {
     "data": {
      "application/vnd.plotly.v1+json": {
       "config": {
        "plotlyServerURL": "https://plot.ly"
       },
       "data": [
        {
         "customdata": [
          "https://example.com/page1",
          "https://example.com/page2",
          "https://example.com/page3"
         ],
         "hovertemplate": "<b>%{x}</b><br>Value: %{y}<extra></extra>",
         "name": "Series 1",
         "type": "bar",
         "x": [
          "A",
          "B",
          "C"
         ],
         "y": [
          10,
          15,
          7
         ]
        },
        {
         "customdata": [
          "https://example.com/page1",
          "https://example.com/page2",
          "https://example.com/page3"
         ],
         "hovertemplate": "<b>%{x}</b><br>Value: %{y}<extra></extra>",
         "name": "Series 2",
         "type": "bar",
         "x": [
          "A",
          "B",
          "C"
         ],
         "y": [
          12,
          9,
          5
         ]
        }
       ],
       "layout": {
        "barmode": "group",
        "template": {
         "data": {
          "bar": [
           {
            "error_x": {
             "color": "#2a3f5f"
            },
            "error_y": {
             "color": "#2a3f5f"
            },
            "marker": {
             "line": {
              "color": "#E5ECF6",
              "width": 0.5
             },
             "pattern": {
              "fillmode": "overlay",
              "size": 10,
              "solidity": 0.2
             }
            },
            "type": "bar"
           }
          ],
          "barpolar": [
           {
            "marker": {
             "line": {
              "color": "#E5ECF6",
              "width": 0.5
             },
             "pattern": {
              "fillmode": "overlay",
              "size": 10,
              "solidity": 0.2
             }
            },
            "type": "barpolar"
           }
          ],
          "carpet": [
           {
            "aaxis": {
             "endlinecolor": "#2a3f5f",
             "gridcolor": "white",
             "linecolor": "white",
             "minorgridcolor": "white",
             "startlinecolor": "#2a3f5f"
            },
            "baxis": {
             "endlinecolor": "#2a3f5f",
             "gridcolor": "white",
             "linecolor": "white",
             "minorgridcolor": "white",
             "startlinecolor": "#2a3f5f"
            },
            "type": "carpet"
           }
          ],
          "choropleth": [
           {
            "colorbar": {
             "outlinewidth": 0,
             "ticks": ""
            },
            "type": "choropleth"
           }
          ],
          "contour": [
           {
            "colorbar": {
             "outlinewidth": 0,
             "ticks": ""
            },
            "colorscale": [
             [
              0,
              "#0d0887"
             ],
             [
              0.1111111111111111,
              "#46039f"
             ],
             [
              0.2222222222222222,
              "#7201a8"
             ],
             [
              0.3333333333333333,
              "#9c179e"
             ],
             [
              0.4444444444444444,
              "#bd3786"
             ],
             [
              0.5555555555555556,
              "#d8576b"
             ],
             [
              0.6666666666666666,
              "#ed7953"
             ],
             [
              0.7777777777777778,
              "#fb9f3a"
             ],
             [
              0.8888888888888888,
              "#fdca26"
             ],
             [
              1,
              "#f0f921"
             ]
            ],
            "type": "contour"
           }
          ],
          "contourcarpet": [
           {
            "colorbar": {
             "outlinewidth": 0,
             "ticks": ""
            },
            "type": "contourcarpet"
           }
          ],
          "heatmap": [
           {
            "colorbar": {
             "outlinewidth": 0,
             "ticks": ""
            },
            "colorscale": [
             [
              0,
              "#0d0887"
             ],
             [
              0.1111111111111111,
              "#46039f"
             ],
             [
              0.2222222222222222,
              "#7201a8"
             ],
             [
              0.3333333333333333,
              "#9c179e"
             ],
             [
              0.4444444444444444,
              "#bd3786"
             ],
             [
              0.5555555555555556,
              "#d8576b"
             ],
             [
              0.6666666666666666,
              "#ed7953"
             ],
             [
              0.7777777777777778,
              "#fb9f3a"
             ],
             [
              0.8888888888888888,
              "#fdca26"
             ],
             [
              1,
              "#f0f921"
             ]
            ],
            "type": "heatmap"
           }
          ],
          "heatmapgl": [
           {
            "colorbar": {
             "outlinewidth": 0,
             "ticks": ""
            },
            "colorscale": [
             [
              0,
              "#0d0887"
             ],
             [
              0.1111111111111111,
              "#46039f"
             ],
             [
              0.2222222222222222,
              "#7201a8"
             ],
             [
              0.3333333333333333,
              "#9c179e"
             ],
             [
              0.4444444444444444,
              "#bd3786"
             ],
             [
              0.5555555555555556,
              "#d8576b"
             ],
             [
              0.6666666666666666,
              "#ed7953"
             ],
             [
              0.7777777777777778,
              "#fb9f3a"
             ],
             [
              0.8888888888888888,
              "#fdca26"
             ],
             [
              1,
              "#f0f921"
             ]
            ],
            "type": "heatmapgl"
           }
          ],
          "histogram": [
           {
            "marker": {
             "pattern": {
              "fillmode": "overlay",
              "size": 10,
              "solidity": 0.2
             }
            },
            "type": "histogram"
           }
          ],
          "histogram2d": [
           {
            "colorbar": {
             "outlinewidth": 0,
             "ticks": ""
            },
            "colorscale": [
             [
              0,
              "#0d0887"
             ],
             [
              0.1111111111111111,
              "#46039f"
             ],
             [
              0.2222222222222222,
              "#7201a8"
             ],
             [
              0.3333333333333333,
              "#9c179e"
             ],
             [
              0.4444444444444444,
              "#bd3786"
             ],
             [
              0.5555555555555556,
              "#d8576b"
             ],
             [
              0.6666666666666666,
              "#ed7953"
             ],
             [
              0.7777777777777778,
              "#fb9f3a"
             ],
             [
              0.8888888888888888,
              "#fdca26"
             ],
             [
              1,
              "#f0f921"
             ]
            ],
            "type": "histogram2d"
           }
          ],
          "histogram2dcontour": [
           {
            "colorbar": {
             "outlinewidth": 0,
             "ticks": ""
            },
            "colorscale": [
             [
              0,
              "#0d0887"
             ],
             [
              0.1111111111111111,
              "#46039f"
             ],
             [
              0.2222222222222222,
              "#7201a8"
             ],
             [
              0.3333333333333333,
              "#9c179e"
             ],
             [
              0.4444444444444444,
              "#bd3786"
             ],
             [
              0.5555555555555556,
              "#d8576b"
             ],
             [
              0.6666666666666666,
              "#ed7953"
             ],
             [
              0.7777777777777778,
              "#fb9f3a"
             ],
             [
              0.8888888888888888,
              "#fdca26"
             ],
             [
              1,
              "#f0f921"
             ]
            ],
            "type": "histogram2dcontour"
           }
          ],
          "mesh3d": [
           {
            "colorbar": {
             "outlinewidth": 0,
             "ticks": ""
            },
            "type": "mesh3d"
           }
          ],
          "parcoords": [
           {
            "line": {
             "colorbar": {
              "outlinewidth": 0,
              "ticks": ""
             }
            },
            "type": "parcoords"
           }
          ],
          "pie": [
           {
            "automargin": true,
            "type": "pie"
           }
          ],
          "scatter": [
           {
            "fillpattern": {
             "fillmode": "overlay",
             "size": 10,
             "solidity": 0.2
            },
            "type": "scatter"
           }
          ],
          "scatter3d": [
           {
            "line": {
             "colorbar": {
              "outlinewidth": 0,
              "ticks": ""
             }
            },
            "marker": {
             "colorbar": {
              "outlinewidth": 0,
              "ticks": ""
             }
            },
            "type": "scatter3d"
           }
          ],
          "scattercarpet": [
           {
            "marker": {
             "colorbar": {
              "outlinewidth": 0,
              "ticks": ""
             }
            },
            "type": "scattercarpet"
           }
          ],
          "scattergeo": [
           {
            "marker": {
             "colorbar": {
              "outlinewidth": 0,
              "ticks": ""
             }
            },
            "type": "scattergeo"
           }
          ],
          "scattergl": [
           {
            "marker": {
             "colorbar": {
              "outlinewidth": 0,
              "ticks": ""
             }
            },
            "type": "scattergl"
           }
          ],
          "scattermapbox": [
           {
            "marker": {
             "colorbar": {
              "outlinewidth": 0,
              "ticks": ""
             }
            },
            "type": "scattermapbox"
           }
          ],
          "scatterpolar": [
           {
            "marker": {
             "colorbar": {
              "outlinewidth": 0,
              "ticks": ""
             }
            },
            "type": "scatterpolar"
           }
          ],
          "scatterpolargl": [
           {
            "marker": {
             "colorbar": {
              "outlinewidth": 0,
              "ticks": ""
             }
            },
            "type": "scatterpolargl"
           }
          ],
          "scatterternary": [
           {
            "marker": {
             "colorbar": {
              "outlinewidth": 0,
              "ticks": ""
             }
            },
            "type": "scatterternary"
           }
          ],
          "surface": [
           {
            "colorbar": {
             "outlinewidth": 0,
             "ticks": ""
            },
            "colorscale": [
             [
              0,
              "#0d0887"
             ],
             [
              0.1111111111111111,
              "#46039f"
             ],
             [
              0.2222222222222222,
              "#7201a8"
             ],
             [
              0.3333333333333333,
              "#9c179e"
             ],
             [
              0.4444444444444444,
              "#bd3786"
             ],
             [
              0.5555555555555556,
              "#d8576b"
             ],
             [
              0.6666666666666666,
              "#ed7953"
             ],
             [
              0.7777777777777778,
              "#fb9f3a"
             ],
             [
              0.8888888888888888,
              "#fdca26"
             ],
             [
              1,
              "#f0f921"
             ]
            ],
            "type": "surface"
           }
          ],
          "table": [
           {
            "cells": {
             "fill": {
              "color": "#EBF0F8"
             },
             "line": {
              "color": "white"
             }
            },
            "header": {
             "fill": {
              "color": "#C8D4E3"
             },
             "line": {
              "color": "white"
             }
            },
            "type": "table"
           }
          ]
         },
         "layout": {
          "annotationdefaults": {
           "arrowcolor": "#2a3f5f",
           "arrowhead": 0,
           "arrowwidth": 1
          },
          "autotypenumbers": "strict",
          "coloraxis": {
           "colorbar": {
            "outlinewidth": 0,
            "ticks": ""
           }
          },
          "colorscale": {
           "diverging": [
            [
             0,
             "#8e0152"
            ],
            [
             0.1,
             "#c51b7d"
            ],
            [
             0.2,
             "#de77ae"
            ],
            [
             0.3,
             "#f1b6da"
            ],
            [
             0.4,
             "#fde0ef"
            ],
            [
             0.5,
             "#f7f7f7"
            ],
            [
             0.6,
             "#e6f5d0"
            ],
            [
             0.7,
             "#b8e186"
            ],
            [
             0.8,
             "#7fbc41"
            ],
            [
             0.9,
             "#4d9221"
            ],
            [
             1,
             "#276419"
            ]
           ],
           "sequential": [
            [
             0,
             "#0d0887"
            ],
            [
             0.1111111111111111,
             "#46039f"
            ],
            [
             0.2222222222222222,
             "#7201a8"
            ],
            [
             0.3333333333333333,
             "#9c179e"
            ],
            [
             0.4444444444444444,
             "#bd3786"
            ],
            [
             0.5555555555555556,
             "#d8576b"
            ],
            [
             0.6666666666666666,
             "#ed7953"
            ],
            [
             0.7777777777777778,
             "#fb9f3a"
            ],
            [
             0.8888888888888888,
             "#fdca26"
            ],
            [
             1,
             "#f0f921"
            ]
           ],
           "sequentialminus": [
            [
             0,
             "#0d0887"
            ],
            [
             0.1111111111111111,
             "#46039f"
            ],
            [
             0.2222222222222222,
             "#7201a8"
            ],
            [
             0.3333333333333333,
             "#9c179e"
            ],
            [
             0.4444444444444444,
             "#bd3786"
            ],
            [
             0.5555555555555556,
             "#d8576b"
            ],
            [
             0.6666666666666666,
             "#ed7953"
            ],
            [
             0.7777777777777778,
             "#fb9f3a"
            ],
            [
             0.8888888888888888,
             "#fdca26"
            ],
            [
             1,
             "#f0f921"
            ]
           ]
          },
          "colorway": [
           "#636efa",
           "#EF553B",
           "#00cc96",
           "#ab63fa",
           "#FFA15A",
           "#19d3f3",
           "#FF6692",
           "#B6E880",
           "#FF97FF",
           "#FECB52"
          ],
          "font": {
           "color": "#2a3f5f"
          },
          "geo": {
           "bgcolor": "white",
           "lakecolor": "white",
           "landcolor": "#E5ECF6",
           "showlakes": true,
           "showland": true,
           "subunitcolor": "white"
          },
          "hoverlabel": {
           "align": "left"
          },
          "hovermode": "closest",
          "mapbox": {
           "style": "light"
          },
          "paper_bgcolor": "white",
          "plot_bgcolor": "#E5ECF6",
          "polar": {
           "angularaxis": {
            "gridcolor": "white",
            "linecolor": "white",
            "ticks": ""
           },
           "bgcolor": "#E5ECF6",
           "radialaxis": {
            "gridcolor": "white",
            "linecolor": "white",
            "ticks": ""
           }
          },
          "scene": {
           "xaxis": {
            "backgroundcolor": "#E5ECF6",
            "gridcolor": "white",
            "gridwidth": 2,
            "linecolor": "white",
            "showbackground": true,
            "ticks": "",
            "zerolinecolor": "white"
           },
           "yaxis": {
            "backgroundcolor": "#E5ECF6",
            "gridcolor": "white",
            "gridwidth": 2,
            "linecolor": "white",
            "showbackground": true,
            "ticks": "",
            "zerolinecolor": "white"
           },
           "zaxis": {
            "backgroundcolor": "#E5ECF6",
            "gridcolor": "white",
            "gridwidth": 2,
            "linecolor": "white",
            "showbackground": true,
            "ticks": "",
            "zerolinecolor": "white"
           }
          },
          "shapedefaults": {
           "line": {
            "color": "#2a3f5f"
           }
          },
          "ternary": {
           "aaxis": {
            "gridcolor": "white",
            "linecolor": "white",
            "ticks": ""
           },
           "baxis": {
            "gridcolor": "white",
            "linecolor": "white",
            "ticks": ""
           },
           "bgcolor": "#E5ECF6",
           "caxis": {
            "gridcolor": "white",
            "linecolor": "white",
            "ticks": ""
           }
          },
          "title": {
           "x": 0.05
          },
          "xaxis": {
           "automargin": true,
           "gridcolor": "white",
           "linecolor": "white",
           "ticks": "",
           "title": {
            "standoff": 15
           },
           "zerolinecolor": "white",
           "zerolinewidth": 2
          },
          "yaxis": {
           "automargin": true,
           "gridcolor": "white",
           "linecolor": "white",
           "ticks": "",
           "title": {
            "standoff": 15
           },
           "zerolinecolor": "white",
           "zerolinewidth": 2
          }
         }
        }
       }
      }
     },
     "metadata": {},
     "output_type": "display_data"
    }
   ],
   "source": [
    "import plotly.graph_objects as go\n",
    "\n",
    "# Data for the bar chart\n",
    "x = ['A', 'B', 'C']\n",
    "y1 = [10, 15, 7]\n",
    "y2 = [12, 9, 5]\n",
    "\n",
    "# URLs corresponding to each bar\n",
    "urls = ['https://example.com/page1', 'https://example.com/page2', 'https://example.com/page3']\n",
    "\n",
    "# Create the bar chart\n",
    "fig = go.Figure()\n",
    "\n",
    "fig.add_trace(go.Bar(\n",
    "    x=x,\n",
    "    y=y1,\n",
    "    name='Series 1',\n",
    "    customdata=urls,\n",
    "    hovertemplate='<b>%{x}</b><br>Value: %{y}<extra></extra>'\n",
    "))\n",
    "\n",
    "fig.add_trace(go.Bar(\n",
    "    x=x,\n",
    "    y=y2,\n",
    "    name='Series 2',\n",
    "    customdata=urls,\n",
    "    hovertemplate='<b>%{x}</b><br>Value: %{y}<extra></extra>'\n",
    "))\n",
    "\n",
    "# Define the click event handler\n",
    "def bar_click(trace, points, state):\n",
    "    if points.point_inds:\n",
    "        # Get the custom data corresponding to the clicked bar\n",
    "        url = trace.customdata[points.point_inds[0]]\n",
    "        # Open the URL in a new tab or window\n",
    "        print(\"Redirecting to:\", url)  # Replace with your code to open the URL\n",
    "\n",
    "# Assign the click event handler to the figure\n",
    "fig.data[0].on_click(bar_click)\n",
    "fig.data[1].on_click(bar_click)\n",
    "\n",
    "# Set the bar mode to 'group'\n",
    "fig.update_layout(barmode='group')\n",
    "\n",
    "# Display the chart\n",
    "fig.show()\n"
   ]
  },
  {
   "cell_type": "code",
   "execution_count": 329,
   "metadata": {},
   "outputs": [
    {
     "data": {
      "text/html": [
       "<div>\n",
       "<style scoped>\n",
       "    .dataframe tbody tr th:only-of-type {\n",
       "        vertical-align: middle;\n",
       "    }\n",
       "\n",
       "    .dataframe tbody tr th {\n",
       "        vertical-align: top;\n",
       "    }\n",
       "\n",
       "    .dataframe thead th {\n",
       "        text-align: right;\n",
       "    }\n",
       "</style>\n",
       "<table border=\"1\" class=\"dataframe\">\n",
       "  <thead>\n",
       "    <tr style=\"text-align: right;\">\n",
       "      <th></th>\n",
       "      <th>Unnamed: 0</th>\n",
       "      <th>Title</th>\n",
       "      <th>Author Name</th>\n",
       "      <th>Date</th>\n",
       "      <th>Abstract</th>\n",
       "      <th>Paper Citation Count</th>\n",
       "      <th>Venue</th>\n",
       "      <th>Year</th>\n",
       "      <th>url</th>\n",
       "    </tr>\n",
       "  </thead>\n",
       "  <tbody>\n",
       "    <tr>\n",
       "      <th>0</th>\n",
       "      <td>0</td>\n",
       "      <td>Improving Contextual Spelling Correction by Ex...</td>\n",
       "      <td>Xiaoqiang Wang, Yanqing Liu, Jinyu Li, Sheng Z...</td>\n",
       "      <td>2/22/23</td>\n",
       "      <td>We previously proposed contextual spelling cor...</td>\n",
       "      <td>0</td>\n",
       "      <td>ArXiv</td>\n",
       "      <td>2023</td>\n",
       "      <td>https://example.com/page1</td>\n",
       "    </tr>\n",
       "    <tr>\n",
       "      <th>1</th>\n",
       "      <td>1</td>\n",
       "      <td>Representation Learning for Speech Recognition...</td>\n",
       "      <td>Purvi Agrawal, Sriram Ganapathy,</td>\n",
       "      <td>2/15/21</td>\n",
       "      <td>In this work, we propose an acoustic embedding...</td>\n",
       "      <td>0</td>\n",
       "      <td>IEEE International Conference on Acoustics, Sp...</td>\n",
       "      <td>2021</td>\n",
       "      <td>https://example.com/page2</td>\n",
       "    </tr>\n",
       "    <tr>\n",
       "      <th>2</th>\n",
       "      <td>2</td>\n",
       "      <td>Leveraging Simultaneous Translation for Enhanc...</td>\n",
       "      <td>Kak Soky, Sheng Li, M. Mimura, Chenhui Chu, Ta...</td>\n",
       "      <td>9/18/22</td>\n",
       "      <td>This work addresses automatic speech recogniti...</td>\n",
       "      <td>0</td>\n",
       "      <td>Interspeech</td>\n",
       "      <td>2022</td>\n",
       "      <td>https://example.com/page3</td>\n",
       "    </tr>\n",
       "    <tr>\n",
       "      <th>3</th>\n",
       "      <td>3</td>\n",
       "      <td>Cross-Lingual Transfer Learning Approach to Ph...</td>\n",
       "      <td>Jovan M. Dalhouse, K. Itou,</td>\n",
       "      <td>9/18/22</td>\n",
       "      <td>Extensive research has been conducted on CALL ...</td>\n",
       "      <td>0</td>\n",
       "      <td>Interspeech</td>\n",
       "      <td>2022</td>\n",
       "      <td>https://example.com/page4</td>\n",
       "    </tr>\n",
       "    <tr>\n",
       "      <th>4</th>\n",
       "      <td>4</td>\n",
       "      <td>Articulatory Synthesis for Data Augmentation i...</td>\n",
       "      <td>P. K. Krug, P. Birkholz, B. Gerazov, D. V. Nie...</td>\n",
       "      <td>9/18/22</td>\n",
       "      <td>While numerous studies on automatic speech rec...</td>\n",
       "      <td>0</td>\n",
       "      <td>Interspeech</td>\n",
       "      <td>2022</td>\n",
       "      <td>https://example.com/page5</td>\n",
       "    </tr>\n",
       "    <tr>\n",
       "      <th>...</th>\n",
       "      <td>...</td>\n",
       "      <td>...</td>\n",
       "      <td>...</td>\n",
       "      <td>...</td>\n",
       "      <td>...</td>\n",
       "      <td>...</td>\n",
       "      <td>...</td>\n",
       "      <td>...</td>\n",
       "      <td>...</td>\n",
       "    </tr>\n",
       "    <tr>\n",
       "      <th>4663</th>\n",
       "      <td>4663</td>\n",
       "      <td>HiFi-GAN: Generative Adversarial Networks for ...</td>\n",
       "      <td>Jungil Kong, Jaehyeon Kim, Jaekyoung Bae,</td>\n",
       "      <td>10/12/20</td>\n",
       "      <td>Several recent work on speech synthesis have e...</td>\n",
       "      <td>505</td>\n",
       "      <td>Neural Information Processing Systems</td>\n",
       "      <td>2020</td>\n",
       "      <td>https://example.com/page4664</td>\n",
       "    </tr>\n",
       "    <tr>\n",
       "      <th>4664</th>\n",
       "      <td>4664</td>\n",
       "      <td>Switch Transformers: Scaling to Trillion Param...</td>\n",
       "      <td>W. Fedus, Barret Zoph, Noam M. Shazeer,</td>\n",
       "      <td>1/11/21</td>\n",
       "      <td>In deep learning, models typically reuse the s...</td>\n",
       "      <td>598</td>\n",
       "      <td>ArXiv</td>\n",
       "      <td>2021</td>\n",
       "      <td>https://example.com/page4665</td>\n",
       "    </tr>\n",
       "    <tr>\n",
       "      <th>4665</th>\n",
       "      <td>4665</td>\n",
       "      <td>Stanza: A Python Natural Language Processing T...</td>\n",
       "      <td>Peng Qi, Yuhao Zhang, Yuhui Zhang, Jason Bolto...</td>\n",
       "      <td>3/16/20</td>\n",
       "      <td>We introduce Stanza, an open-source Python nat...</td>\n",
       "      <td>810</td>\n",
       "      <td>Annual Meeting of the Association for Computat...</td>\n",
       "      <td>2020</td>\n",
       "      <td>https://example.com/page4666</td>\n",
       "    </tr>\n",
       "    <tr>\n",
       "      <th>4666</th>\n",
       "      <td>4666</td>\n",
       "      <td>Conformer: Convolution-augmented Transformer f...</td>\n",
       "      <td>Anmol Gulati, James Qin, C. Chiu, Niki Parmar,...</td>\n",
       "      <td>5/16/20</td>\n",
       "      <td>Recently Transformer and Convolution neural ne...</td>\n",
       "      <td>1099</td>\n",
       "      <td>Interspeech</td>\n",
       "      <td>2020</td>\n",
       "      <td>https://example.com/page4667</td>\n",
       "    </tr>\n",
       "    <tr>\n",
       "      <th>4667</th>\n",
       "      <td>4667</td>\n",
       "      <td>wav2vec 2.0: A Framework for Self-Supervised L...</td>\n",
       "      <td>Alexei Baevski, Henry Zhou, Abdel-rahman Moham...</td>\n",
       "      <td>6/20/20</td>\n",
       "      <td>We show for the first time that learning power...</td>\n",
       "      <td>1633</td>\n",
       "      <td>Neural Information Processing Systems</td>\n",
       "      <td>2020</td>\n",
       "      <td>https://example.com/page4668</td>\n",
       "    </tr>\n",
       "  </tbody>\n",
       "</table>\n",
       "<p>4668 rows × 9 columns</p>\n",
       "</div>"
      ],
      "text/plain": [
       "      Unnamed: 0                                              Title  \\\n",
       "0              0  Improving Contextual Spelling Correction by Ex...   \n",
       "1              1  Representation Learning for Speech Recognition...   \n",
       "2              2  Leveraging Simultaneous Translation for Enhanc...   \n",
       "3              3  Cross-Lingual Transfer Learning Approach to Ph...   \n",
       "4              4  Articulatory Synthesis for Data Augmentation i...   \n",
       "...          ...                                                ...   \n",
       "4663        4663  HiFi-GAN: Generative Adversarial Networks for ...   \n",
       "4664        4664  Switch Transformers: Scaling to Trillion Param...   \n",
       "4665        4665  Stanza: A Python Natural Language Processing T...   \n",
       "4666        4666  Conformer: Convolution-augmented Transformer f...   \n",
       "4667        4667  wav2vec 2.0: A Framework for Self-Supervised L...   \n",
       "\n",
       "                                            Author Name      Date  \\\n",
       "0     Xiaoqiang Wang, Yanqing Liu, Jinyu Li, Sheng Z...   2/22/23   \n",
       "1                      Purvi Agrawal, Sriram Ganapathy,   2/15/21   \n",
       "2     Kak Soky, Sheng Li, M. Mimura, Chenhui Chu, Ta...   9/18/22   \n",
       "3                           Jovan M. Dalhouse, K. Itou,   9/18/22   \n",
       "4     P. K. Krug, P. Birkholz, B. Gerazov, D. V. Nie...   9/18/22   \n",
       "...                                                 ...       ...   \n",
       "4663          Jungil Kong, Jaehyeon Kim, Jaekyoung Bae,  10/12/20   \n",
       "4664            W. Fedus, Barret Zoph, Noam M. Shazeer,   1/11/21   \n",
       "4665  Peng Qi, Yuhao Zhang, Yuhui Zhang, Jason Bolto...   3/16/20   \n",
       "4666  Anmol Gulati, James Qin, C. Chiu, Niki Parmar,...   5/16/20   \n",
       "4667  Alexei Baevski, Henry Zhou, Abdel-rahman Moham...   6/20/20   \n",
       "\n",
       "                                               Abstract  Paper Citation Count  \\\n",
       "0     We previously proposed contextual spelling cor...                     0   \n",
       "1     In this work, we propose an acoustic embedding...                     0   \n",
       "2     This work addresses automatic speech recogniti...                     0   \n",
       "3     Extensive research has been conducted on CALL ...                     0   \n",
       "4     While numerous studies on automatic speech rec...                     0   \n",
       "...                                                 ...                   ...   \n",
       "4663  Several recent work on speech synthesis have e...                   505   \n",
       "4664  In deep learning, models typically reuse the s...                   598   \n",
       "4665  We introduce Stanza, an open-source Python nat...                   810   \n",
       "4666  Recently Transformer and Convolution neural ne...                  1099   \n",
       "4667  We show for the first time that learning power...                  1633   \n",
       "\n",
       "                                                  Venue  Year  \\\n",
       "0                                                 ArXiv  2023   \n",
       "1     IEEE International Conference on Acoustics, Sp...  2021   \n",
       "2                                           Interspeech  2022   \n",
       "3                                           Interspeech  2022   \n",
       "4                                           Interspeech  2022   \n",
       "...                                                 ...   ...   \n",
       "4663              Neural Information Processing Systems  2020   \n",
       "4664                                              ArXiv  2021   \n",
       "4665  Annual Meeting of the Association for Computat...  2020   \n",
       "4666                                        Interspeech  2020   \n",
       "4667              Neural Information Processing Systems  2020   \n",
       "\n",
       "                               url  \n",
       "0        https://example.com/page1  \n",
       "1        https://example.com/page2  \n",
       "2        https://example.com/page3  \n",
       "3        https://example.com/page4  \n",
       "4        https://example.com/page5  \n",
       "...                            ...  \n",
       "4663  https://example.com/page4664  \n",
       "4664  https://example.com/page4665  \n",
       "4665  https://example.com/page4666  \n",
       "4666  https://example.com/page4667  \n",
       "4667  https://example.com/page4668  \n",
       "\n",
       "[4668 rows x 9 columns]"
      ]
     },
     "execution_count": 329,
     "metadata": {},
     "output_type": "execute_result"
    }
   ],
   "source": [
    "pd.read_csv('./test.csv')"
   ]
  },
  {
   "cell_type": "code",
   "execution_count": 344,
   "metadata": {},
   "outputs": [
    {
     "data": {
      "text/html": [
       "<div>\n",
       "<style scoped>\n",
       "    .dataframe tbody tr th:only-of-type {\n",
       "        vertical-align: middle;\n",
       "    }\n",
       "\n",
       "    .dataframe tbody tr th {\n",
       "        vertical-align: top;\n",
       "    }\n",
       "\n",
       "    .dataframe thead th {\n",
       "        text-align: right;\n",
       "    }\n",
       "</style>\n",
       "<table border=\"1\" class=\"dataframe\">\n",
       "  <thead>\n",
       "    <tr style=\"text-align: right;\">\n",
       "      <th></th>\n",
       "      <th>Title</th>\n",
       "      <th>Author Name</th>\n",
       "      <th>Date</th>\n",
       "      <th>Abstract</th>\n",
       "      <th>Paper Citation Count</th>\n",
       "      <th>Venue</th>\n",
       "      <th>Fields Of Study</th>\n",
       "    </tr>\n",
       "  </thead>\n",
       "  <tbody>\n",
       "    <tr>\n",
       "      <th>0</th>\n",
       "      <td>wav2vec 2.0: A Framework for Self-Supervised L...</td>\n",
       "      <td>Alexei Baevski, Henry Zhou, Abdel-rahman Moham...</td>\n",
       "      <td>2020-06-20</td>\n",
       "      <td>We show for the first time that learning power...</td>\n",
       "      <td>1633</td>\n",
       "      <td>Neural Information Processing Systems</td>\n",
       "      <td>['Computer Science', 'Engineering']</td>\n",
       "    </tr>\n",
       "    <tr>\n",
       "      <th>1</th>\n",
       "      <td>Conformer: Convolution-augmented Transformer f...</td>\n",
       "      <td>Anmol Gulati, James Qin, C. Chiu, Niki Parmar,...</td>\n",
       "      <td>2020-05-16</td>\n",
       "      <td>Recently Transformer and Convolution neural ne...</td>\n",
       "      <td>1099</td>\n",
       "      <td>Interspeech</td>\n",
       "      <td>['Computer Science', 'Engineering']</td>\n",
       "    </tr>\n",
       "    <tr>\n",
       "      <th>2</th>\n",
       "      <td>HiFi-GAN: Generative Adversarial Networks for ...</td>\n",
       "      <td>Jungil Kong, Jaehyeon Kim, Jaekyoung Bae,</td>\n",
       "      <td>2020-10-12</td>\n",
       "      <td>Several recent work on speech synthesis have e...</td>\n",
       "      <td>505</td>\n",
       "      <td>Neural Information Processing Systems</td>\n",
       "      <td>['Computer Science', 'Engineering']</td>\n",
       "    </tr>\n",
       "    <tr>\n",
       "      <th>3</th>\n",
       "      <td>FastSpeech 2: Fast and High-Quality End-to-End...</td>\n",
       "      <td>Yi Ren, Chenxu Hu, Xu Tan, Tao Qin, Sheng Zhao...</td>\n",
       "      <td>2020-06-08</td>\n",
       "      <td>Advanced text to speech (TTS) models such as F...</td>\n",
       "      <td>514</td>\n",
       "      <td>International Conference on Learning Represent...</td>\n",
       "      <td>['Computer Science', 'Engineering']</td>\n",
       "    </tr>\n",
       "    <tr>\n",
       "      <th>4</th>\n",
       "      <td>The airborne lifetime of small speech droplets...</td>\n",
       "      <td>V. Stadnytskyi, C. Bax, A. Bax, P. Anfinrud,</td>\n",
       "      <td>2020-05-13</td>\n",
       "      <td>Speech droplets generated by asymptomatic carr...</td>\n",
       "      <td>790</td>\n",
       "      <td>Proceedings of the National Academy of Sciences</td>\n",
       "      <td>['Medicine', 'Materials Science']</td>\n",
       "    </tr>\n",
       "    <tr>\n",
       "      <th>...</th>\n",
       "      <td>...</td>\n",
       "      <td>...</td>\n",
       "      <td>...</td>\n",
       "      <td>...</td>\n",
       "      <td>...</td>\n",
       "      <td>...</td>\n",
       "      <td>...</td>\n",
       "    </tr>\n",
       "    <tr>\n",
       "      <th>32269</th>\n",
       "      <td>Морфосинтаксические особенности русского языка...</td>\n",
       "      <td>A. Palágyi,</td>\n",
       "      <td>2023-01-16</td>\n",
       "      <td>Данная работа представляет результаты нашей по...</td>\n",
       "      <td>0</td>\n",
       "      <td>Studia Slavica Academiae Scientiarum Hungaricae</td>\n",
       "      <td>NaN</td>\n",
       "    </tr>\n",
       "    <tr>\n",
       "      <th>32270</th>\n",
       "      <td>The Problem of Variability in Biblical Phraseo...</td>\n",
       "      <td>Анна Дмитриевна Бакина,</td>\n",
       "      <td>2023-01-30</td>\n",
       "      <td>Проблема лингвистической вариативности остаетс...</td>\n",
       "      <td>0</td>\n",
       "      <td>Tomsk state pedagogical university bulletin</td>\n",
       "      <td>NaN</td>\n",
       "    </tr>\n",
       "    <tr>\n",
       "      <th>32271</th>\n",
       "      <td>ASTMH – A Means to What End?The Nexus of Tropi...</td>\n",
       "      <td>Daniel G Bausch,</td>\n",
       "      <td>2023-01-16</td>\n",
       "      <td>Today I want to talk about the nexus of our fi...</td>\n",
       "      <td>0</td>\n",
       "      <td>American Journal of Tropical Medicine and Hygiene</td>\n",
       "      <td>['Medicine']</td>\n",
       "    </tr>\n",
       "    <tr>\n",
       "      <th>32272</th>\n",
       "      <td>Harmonization of Communication of the Intervie...</td>\n",
       "      <td>Нина Сергеевна Болотнова,</td>\n",
       "      <td>2023-01-30</td>\n",
       "      <td>Проблема гармонизации общения в разных сферах ...</td>\n",
       "      <td>0</td>\n",
       "      <td>Tomsk state pedagogical university bulletin</td>\n",
       "      <td>NaN</td>\n",
       "    </tr>\n",
       "    <tr>\n",
       "      <th>32273</th>\n",
       "      <td>“Arzamas Code” and V. A. Zhukovsky’s Creative ...</td>\n",
       "      <td>Денис Александрович Щуков,</td>\n",
       "      <td>2023-01-30</td>\n",
       "      <td>В сборнике повестей «Миргород» Н. В. Гоголь ра...</td>\n",
       "      <td>0</td>\n",
       "      <td>Tomsk state pedagogical university bulletin</td>\n",
       "      <td>NaN</td>\n",
       "    </tr>\n",
       "  </tbody>\n",
       "</table>\n",
       "<p>32274 rows × 7 columns</p>\n",
       "</div>"
      ],
      "text/plain": [
       "                                                   Title  \\\n",
       "0      wav2vec 2.0: A Framework for Self-Supervised L...   \n",
       "1      Conformer: Convolution-augmented Transformer f...   \n",
       "2      HiFi-GAN: Generative Adversarial Networks for ...   \n",
       "3      FastSpeech 2: Fast and High-Quality End-to-End...   \n",
       "4      The airborne lifetime of small speech droplets...   \n",
       "...                                                  ...   \n",
       "32269  Морфосинтаксические особенности русского языка...   \n",
       "32270  The Problem of Variability in Biblical Phraseo...   \n",
       "32271  ASTMH – A Means to What End?The Nexus of Tropi...   \n",
       "32272  Harmonization of Communication of the Intervie...   \n",
       "32273  “Arzamas Code” and V. A. Zhukovsky’s Creative ...   \n",
       "\n",
       "                                             Author Name        Date  \\\n",
       "0      Alexei Baevski, Henry Zhou, Abdel-rahman Moham...  2020-06-20   \n",
       "1      Anmol Gulati, James Qin, C. Chiu, Niki Parmar,...  2020-05-16   \n",
       "2              Jungil Kong, Jaehyeon Kim, Jaekyoung Bae,  2020-10-12   \n",
       "3      Yi Ren, Chenxu Hu, Xu Tan, Tao Qin, Sheng Zhao...  2020-06-08   \n",
       "4           V. Stadnytskyi, C. Bax, A. Bax, P. Anfinrud,  2020-05-13   \n",
       "...                                                  ...         ...   \n",
       "32269                                        A. Palágyi,  2023-01-16   \n",
       "32270                            Анна Дмитриевна Бакина,  2023-01-30   \n",
       "32271                                   Daniel G Bausch,  2023-01-16   \n",
       "32272                          Нина Сергеевна Болотнова,  2023-01-30   \n",
       "32273                         Денис Александрович Щуков,  2023-01-30   \n",
       "\n",
       "                                                Abstract  \\\n",
       "0      We show for the first time that learning power...   \n",
       "1      Recently Transformer and Convolution neural ne...   \n",
       "2      Several recent work on speech synthesis have e...   \n",
       "3      Advanced text to speech (TTS) models such as F...   \n",
       "4      Speech droplets generated by asymptomatic carr...   \n",
       "...                                                  ...   \n",
       "32269  Данная работа представляет результаты нашей по...   \n",
       "32270  Проблема лингвистической вариативности остаетс...   \n",
       "32271  Today I want to talk about the nexus of our fi...   \n",
       "32272  Проблема гармонизации общения в разных сферах ...   \n",
       "32273  В сборнике повестей «Миргород» Н. В. Гоголь ра...   \n",
       "\n",
       "       Paper Citation Count  \\\n",
       "0                      1633   \n",
       "1                      1099   \n",
       "2                       505   \n",
       "3                       514   \n",
       "4                       790   \n",
       "...                     ...   \n",
       "32269                     0   \n",
       "32270                     0   \n",
       "32271                     0   \n",
       "32272                     0   \n",
       "32273                     0   \n",
       "\n",
       "                                                   Venue  \\\n",
       "0                  Neural Information Processing Systems   \n",
       "1                                            Interspeech   \n",
       "2                  Neural Information Processing Systems   \n",
       "3      International Conference on Learning Represent...   \n",
       "4        Proceedings of the National Academy of Sciences   \n",
       "...                                                  ...   \n",
       "32269    Studia Slavica Academiae Scientiarum Hungaricae   \n",
       "32270        Tomsk state pedagogical university bulletin   \n",
       "32271  American Journal of Tropical Medicine and Hygiene   \n",
       "32272        Tomsk state pedagogical university bulletin   \n",
       "32273        Tomsk state pedagogical university bulletin   \n",
       "\n",
       "                           Fields Of Study  \n",
       "0      ['Computer Science', 'Engineering']  \n",
       "1      ['Computer Science', 'Engineering']  \n",
       "2      ['Computer Science', 'Engineering']  \n",
       "3      ['Computer Science', 'Engineering']  \n",
       "4        ['Medicine', 'Materials Science']  \n",
       "...                                    ...  \n",
       "32269                                  NaN  \n",
       "32270                                  NaN  \n",
       "32271                         ['Medicine']  \n",
       "32272                                  NaN  \n",
       "32273                                  NaN  \n",
       "\n",
       "[32274 rows x 7 columns]"
      ]
     },
     "execution_count": 344,
     "metadata": {},
     "output_type": "execute_result"
    }
   ],
   "source": [
    "df = pd.read_csv('../demo_dataset.csv')\n",
    "# df['Year'] = df['Date'].str[0:4].astype('int')\n",
    "# gb = df.groupby(['Venue', 'Year']).sum(numeric_only=True)\n",
    "# gb = gb.groupby(level=0).filter(lambda x: len(x) > 2 )\n",
    "# first_n = gb.reset_index().groupby('Venue').sum(numeric_only=True).sort_values('Paper Citation Count', ascending=False).reset_index()['Venue'][0:5].tolist()\n",
    "# df_clean = df[df['Venue'].isin(first_n)].sort_values('Paper Citation Count').reset_index().drop(['Unnamed: 0', 'index'], axis=1)\n",
    "# df_clean\n",
    "df"
   ]
  },
  {
   "cell_type": "code",
   "execution_count": 341,
   "metadata": {},
   "outputs": [
    {
     "data": {
      "text/plain": [
       "0       2023\n",
       "1       2021\n",
       "2       2022\n",
       "3       2022\n",
       "4       2022\n",
       "        ... \n",
       "4663    2020\n",
       "4664    2021\n",
       "4665    2020\n",
       "4666    2020\n",
       "4667    2020\n",
       "Name: Year, Length: 4668, dtype: int64"
      ]
     },
     "execution_count": 341,
     "metadata": {},
     "output_type": "execute_result"
    }
   ],
   "source": [
    "df_clean['Year'].astype('int')"
   ]
  },
  {
   "cell_type": "code",
   "execution_count": null,
   "metadata": {},
   "outputs": [],
   "source": []
  }
 ],
 "metadata": {
  "kernelspec": {
   "display_name": "tableau",
   "language": "python",
   "name": "python3"
  },
  "language_info": {
   "codemirror_mode": {
    "name": "ipython",
    "version": 3
   },
   "file_extension": ".py",
   "mimetype": "text/x-python",
   "name": "python",
   "nbconvert_exporter": "python",
   "pygments_lexer": "ipython3",
   "version": "3.10.9"
  },
  "orig_nbformat": 4
 },
 "nbformat": 4,
 "nbformat_minor": 2
}
