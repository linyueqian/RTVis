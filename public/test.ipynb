{
 "cells": [
  {
   "cell_type": "code",
   "execution_count": 121,
   "metadata": {},
   "outputs": [],
   "source": [
    "import numpy as np\n",
    "import pandas as pd"
   ]
  },
  {
   "cell_type": "code",
   "execution_count": 133,
   "metadata": {},
   "outputs": [],
   "source": [
    "df3 = pd.read_csv('./assets/data/wordCount.csv')"
   ]
  },
  {
   "cell_type": "code",
   "execution_count": 134,
   "metadata": {},
   "outputs": [],
   "source": [
    "value1 = \"2020-03-01\"\n",
    "value2 = \"2020-04-01\""
   ]
  },
  {
   "cell_type": "code",
   "execution_count": 119,
   "metadata": {},
   "outputs": [],
   "source": [
    "# read df3 with lines start from value1 to value2\n",
    "df_temp = df3[(df3['Date'] >= value1) & (df3['Date'] <= value2)]\n",
    "df_temp = df_temp.reset_index(drop=True)\n",
    "# make count vector, instead of string\n",
    "df_temp['Count'] = df_temp['Count'].str.strip('][').str.split(', ').apply(lambda x: list(map(int, x)))\n",
    "df_temp['Word'] = df_temp['Word'].str.strip(\"[']\").str.split('\\', \\'')\n",
    "\n",
    "# Subtract the first row value from each subsequent row in 'Count'\n",
    "first_row = df_temp['Count'].iloc[0]\n",
    "first_row = [i - 1 for i in first_row]\n",
    "df_temp['Count'] = df_temp['Count'].apply(lambda x: np.subtract(x, first_row))\n",
    "\n",
    "# Keep only the top 15 words with the highest counts for each date\n",
    "df_temp['Top15'] = df_temp.apply(lambda row: sorted(zip(row['Word'], row['Count']), key=lambda x: x[1], reverse=True)[:15], axis=1)\n",
    "df_temp = df_temp.explode('Top15').reset_index(drop=True)\n",
    "\n",
    "# Separate 'Word' and 'Count' into separate columns\n",
    "df_temp[['Word', 'Count']] = pd.DataFrame(df_temp['Top15'].tolist(), index=df_temp.index)\n",
    "df_temp = df_temp.drop(columns=['Top15'])"
   ]
  },
  {
   "cell_type": "code",
   "execution_count": 120,
   "metadata": {},
   "outputs": [],
   "source": [
    "df_temp.to_csv('./assets/data/123.csv', index=False)"
   ]
  },
  {
   "cell_type": "code",
   "execution_count": null,
   "metadata": {},
   "outputs": [],
   "source": []
  }
 ],
 "metadata": {
  "kernelspec": {
   "display_name": "RTVis",
   "language": "python",
   "name": "python3"
  },
  "language_info": {
   "codemirror_mode": {
    "name": "ipython",
    "version": 3
   },
   "file_extension": ".py",
   "mimetype": "text/x-python",
   "name": "python",
   "nbconvert_exporter": "python",
   "pygments_lexer": "ipython3",
   "version": "3.10.11"
  },
  "orig_nbformat": 4
 },
 "nbformat": 4,
 "nbformat_minor": 2
}
